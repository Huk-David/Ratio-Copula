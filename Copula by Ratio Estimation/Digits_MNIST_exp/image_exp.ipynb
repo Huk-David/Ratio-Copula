{
 "cells": [
  {
   "cell_type": "markdown",
   "metadata": {},
   "source": [
    "### DIGITS 64d"
   ]
  },
  {
   "cell_type": "code",
   "execution_count": 7,
   "metadata": {},
   "outputs": [
    {
     "name": "stdout",
     "output_type": "stream",
     "text": [
      "----------------------------------------------------------------\n",
      "        Layer (type)               Output Shape         Param #\n",
      "================================================================\n",
      "            Conv2d-1             [-1, 64, 4, 4]             640\n",
      "         LeakyReLU-2             [-1, 64, 4, 4]               0\n",
      "            Conv2d-3             [-1, 64, 2, 2]          36,928\n",
      "         LeakyReLU-4             [-1, 64, 2, 2]               0\n",
      "           Flatten-5                  [-1, 256]               0\n",
      "            Linear-6                    [-1, 1]             257\n",
      "================================================================\n",
      "Total params: 37,825\n",
      "Trainable params: 37,825\n",
      "Non-trainable params: 0\n",
      "----------------------------------------------------------------\n",
      "Input size (MB): 0.00\n",
      "Forward/backward pass size (MB): 0.02\n",
      "Params size (MB): 0.14\n",
      "Estimated Total Size (MB): 0.17\n",
      "----------------------------------------------------------------\n"
     ]
    }
   ],
   "source": [
    "import torch\n",
    "import torch.nn as nn\n",
    "import torch.optim as optim\n",
    "from torch.utils.data import DataLoader, TensorDataset, random_split\n",
    "from sklearn.datasets import load_digits\n",
    "from sklearn.preprocessing import StandardScaler\n",
    "from sklearn.model_selection import train_test_split\n",
    "from torchsummary import summary\n",
    "import numpy as np\n",
    "import scipy.stats as scs\n",
    "from statsmodels.distributions.empirical_distribution import ECDF\n",
    "\n",
    "def loss_nce(r_p, r_q,p_size, q_size):\n",
    "    v = q_size / p_size\n",
    "    return (-(r_p /(v+r_p)).log()).mean() - v* ((v/(v+r_q)).log().mean()) \n",
    "\n",
    "torch.manual_seed(990109)\n",
    "np.random.seed(990109)\n",
    "\n",
    "# Load digits data\n",
    "digits = load_digits()\n",
    "X = digits.images\n",
    "y = digits.target\n",
    "\n",
    "# Add Gaussian noise with variance 0.01\n",
    "noise = scs.norm.rvs(0, 0.1, X.shape)\n",
    "X_noisy = (X + noise)\n",
    "X_noisy = (X_noisy - X_noisy.min()) / (X_noisy.max() - X_noisy.min()) # Normalize to [0, 1]\n",
    "\n",
    "# Flatten the images for ECDF transformation\n",
    "X_noisy_flat = X_noisy.reshape(-1, 64)\n",
    "\n",
    "# Apply ECDF transformation\n",
    "X_ecdf = np.zeros_like(X_noisy_flat)\n",
    "ecdf_list = []\n",
    "for dim in range(64):\n",
    "    ecdf = ECDF(X_noisy_flat[:, dim])\n",
    "    ecdf_list.append(ecdf)\n",
    "    X_ecdf[:, dim] = np.clip(ecdf(X_noisy_flat[:, dim]), 1e-6, 1 - 1e-6)\n",
    "\n",
    "# Apply inverse of standard normal CDF (ppf)\n",
    "X_gaussian = scs.norm.ppf(X_ecdf).reshape(-1, 8, 8)\n",
    "y_gaussian = torch.ones(X_gaussian.shape[0], dtype=torch.long)\n",
    "\n",
    "# Convert to PyTorch tensors\n",
    "X_gaussian = torch.tensor(X_gaussian, dtype=torch.float32).unsqueeze(1)  # Add channel dimension\n",
    "\n",
    "# Split the data into training and testing sets (50/50 split)\n",
    "X_train, X_test, y_train, y_test = train_test_split(X_gaussian, y_gaussian, test_size=0.5, random_state=42)\n",
    "\n",
    "# Create TensorDataset objects\n",
    "train_dataset = TensorDataset(X_train, y_train)\n",
    "test_dataset = TensorDataset(X_test, y_test)\n",
    "\n",
    "# Create DataLoader objects\n",
    "train_loader = DataLoader(train_dataset, batch_size=32, shuffle=True)\n",
    "test_loader = DataLoader(test_dataset, batch_size=32, shuffle=False)\n",
    "\n",
    "def reverse_transform(example):\n",
    "    ''' \n",
    "    Reverse the transformation applied to the data using the ECDFs.\n",
    "    \n",
    "    input:\n",
    "        example: torch.Tensor - the transformed example, of shape (1, 8, 8)\n",
    "\n",
    "    output:\n",
    "        original_example: np.array - the original example, of shape (8, 8)\n",
    "    '''\n",
    "    # Convert the tensor to a numpy array and remove the channel dimension\n",
    "    example = example.squeeze().numpy().reshape(-1)\n",
    "    \n",
    "    # Apply the inverse of the standard normal CDF (ppf)\n",
    "    example = scs.norm.cdf(example)\n",
    "    \n",
    "    # Apply the inverse ECDF transformation\n",
    "    original_example = np.zeros_like(example)\n",
    "    for i in range(len(example)):\n",
    "        ecdf = ecdf_list[i]\n",
    "        original_example[i] = np.interp(example[i], ecdf.y, ecdf.x)\n",
    "    \n",
    "    # Reshape back to the original image shape and denormalize\n",
    "    original_example = original_example.reshape(8, 8) * 16\n",
    "    \n",
    "    return original_example\n",
    "\n",
    "\n",
    "'''# Define the classifier for digits data (8x8 images)\n",
    "class Classifier_Digits(nn.Module):\n",
    "    def __init__(self, in_shape=(1, 8, 8)):\n",
    "        super(Classifier_Digits, self).__init__()\n",
    "        self.model = nn.Sequential(\n",
    "            nn.Conv2d(in_shape[0], 64, kernel_size=3, stride=2, padding=1),\n",
    "            nn.LeakyReLU(0.2),\n",
    "            nn.Conv2d(64, 64, kernel_size=3, stride=2, padding=1),\n",
    "            nn.LeakyReLU(0.2),\n",
    "            nn.Flatten(),\n",
    "            nn.Linear(64 * 2 * 2, 1)  # Adjusted for 8x8 input images\n",
    "        )\n",
    "\n",
    "    def forward(self, x):\n",
    "        return self.model(x).exp()'''\n",
    "\n",
    "# Define the classifier for digits data (8x8 images)\n",
    "class Classifier_Digits(nn.Module):\n",
    "    def __init__(self, in_shape=(1, 8, 8), normalising_cst=True, c=1.0):\n",
    "        super(Classifier_Digits, self).__init__()\n",
    "        self.normalising_cst = normalising_cst\n",
    "        if self.normalising_cst:\n",
    "            self.c = nn.Parameter(torch.tensor(c))\n",
    "\n",
    "        self.model = nn.Sequential(\n",
    "            nn.Conv2d(in_shape[0], 64, kernel_size=3, stride=2, padding=1),\n",
    "            nn.LeakyReLU(0.2),\n",
    "            nn.Conv2d(64, 64, kernel_size=3, stride=2, padding=1),\n",
    "            nn.LeakyReLU(0.2),\n",
    "            nn.Flatten(),\n",
    "            nn.Linear(64 * 2 * 2, 1)  # Adjusted for 8x8 input images\n",
    "        )\n",
    "\n",
    "    def forward(self, x):\n",
    "        logits = self.model(x).exp()\n",
    "        if self.normalising_cst:\n",
    "            logits = logits * self.c\n",
    "        return logits\n",
    "# Define model\n",
    "model = Classifier_Digits()\n",
    "\n",
    "# Print model summary\n",
    "summary(model, (1, 8, 8))\n"
   ]
  },
  {
   "cell_type": "code",
   "execution_count": 53,
   "metadata": {},
   "outputs": [
    {
     "name": "stdout",
     "output_type": "stream",
     "text": [
      "Epoch 10/501, Loss: 0.19363246883811622, c: 1.0280799865722656\n",
      "Epoch 20/501, Loss: 0.10231255399512834, c: 1.0301003456115723\n",
      "Epoch 30/501, Loss: 0.1186583954198607, c: 1.0294339656829834\n",
      "Epoch 40/501, Loss: 0.04096487537026405, c: 1.0308198928833008\n",
      "Epoch 50/501, Loss: 0.044914887696183445, c: 1.0304927825927734\n",
      "Epoch 60/501, Loss: 0.03019460669622339, c: 1.0301027297973633\n",
      "Epoch 70/501, Loss: 0.020447505691694897, c: 1.0289644002914429\n",
      "Epoch 80/501, Loss: 0.01568047874125427, c: 1.0283764600753784\n",
      "Epoch 90/501, Loss: 0.021564126598793244, c: 1.027772068977356\n",
      "Epoch 100/501, Loss: 0.02885793684530152, c: 1.0261908769607544\n",
      "Epoch 110/501, Loss: 0.0215142808718093, c: 1.025355339050293\n",
      "Epoch 120/501, Loss: 0.015050560777910567, c: 1.022152066230774\n",
      "Epoch 130/501, Loss: 0.015019956285962916, c: 1.0219917297363281\n",
      "Epoch 140/501, Loss: 0.022484085584249535, c: 1.0208890438079834\n",
      "Epoch 150/501, Loss: 0.028840023225398158, c: 1.020500659942627\n",
      "Epoch 160/501, Loss: 0.015674364251277315, c: 1.0194562673568726\n",
      "Epoch 170/501, Loss: 0.028473147368740997, c: 1.0172219276428223\n",
      "Epoch 180/501, Loss: 0.024104344733822128, c: 1.0175848007202148\n",
      "Epoch 190/501, Loss: 0.004412230689295343, c: 1.0162073373794556\n",
      "Epoch 200/501, Loss: 0.007118693730545005, c: 1.0170437097549438\n",
      "Epoch 210/501, Loss: 0.005763695260674436, c: 1.0143604278564453\n",
      "Epoch 220/501, Loss: 0.00715756628578047, c: 1.0140368938446045\n",
      "Epoch 230/501, Loss: 0.015794110428220754, c: 1.011650800704956\n",
      "Epoch 240/501, Loss: 0.006606252874038985, c: 1.0115489959716797\n",
      "Epoch 250/501, Loss: 0.014368503060440758, c: 1.011926293373108\n",
      "Epoch 260/501, Loss: 0.016715462449532235, c: 1.011435866355896\n",
      "Epoch 270/501, Loss: 0.013523644357739048, c: 1.0056089162826538\n",
      "Epoch 280/501, Loss: 0.005221992022566626, c: 1.005807638168335\n",
      "Epoch 290/501, Loss: 0.008046860057847566, c: 1.0055299997329712\n",
      "Epoch 300/501, Loss: 0.004811968500093669, c: 1.005568265914917\n",
      "Epoch 310/501, Loss: 0.004038742772567714, c: 1.0041706562042236\n",
      "Epoch 320/501, Loss: 0.004551394621777381, c: 1.0045664310455322\n",
      "Epoch 330/501, Loss: 0.0041045385070650935, c: 1.003242015838623\n",
      "Epoch 340/501, Loss: 0.006290289680252719, c: 1.0021754503250122\n",
      "Epoch 350/501, Loss: 0.00440584252521211, c: 1.0029710531234741\n",
      "Epoch 360/501, Loss: 0.01774279506383303, c: 0.9997031688690186\n",
      "Epoch 370/501, Loss: 0.004042537961422881, c: 0.9996491074562073\n",
      "Epoch 380/501, Loss: 0.01077088219190516, c: 0.9994441866874695\n",
      "Epoch 390/501, Loss: 0.007634275745031432, c: 0.9980975389480591\n",
      "Epoch 400/501, Loss: 0.0028327680054268246, c: 0.9953740835189819\n",
      "Epoch 410/501, Loss: 0.005479997166840521, c: 0.9933444857597351\n",
      "Epoch 420/501, Loss: 0.002904809167877578, c: 0.9956067204475403\n",
      "Epoch 430/501, Loss: 0.013379962199717833, c: 0.9917972087860107\n",
      "Epoch 440/501, Loss: 0.005976838784308398, c: 0.9902189373970032\n",
      "Epoch 450/501, Loss: 0.0021198514758876187, c: 0.9895564913749695\n",
      "Epoch 460/501, Loss: 0.002846019238796575, c: 0.9902291297912598\n",
      "Epoch 470/501, Loss: 0.009420294249045174, c: 0.989414632320404\n",
      "Epoch 480/501, Loss: 0.0025295452162089503, c: 0.9868525862693787\n",
      "Epoch 490/501, Loss: 0.00235073768707762, c: 0.9869089126586914\n",
      "Epoch 500/501, Loss: 0.0011346551181586934, c: 0.9863452315330505\n"
     ]
    }
   ],
   "source": [
    "from tqdm import tqdm\n",
    "# Define loss function and optimizer\n",
    "optimizer = optim.Adam(model.parameters())#, lr=0.0002, betas=(0.5, 0.999))\n",
    "\n",
    "# Training loop\n",
    "num_epochs = 501\n",
    "for epoch in (range(num_epochs)):\n",
    "    model.train()\n",
    "    running_loss = 0.0\n",
    "    for inputs, labels in train_loader:\n",
    "        optimizer.zero_grad()\n",
    "        r_p = model(inputs).squeeze()  \n",
    "        r_q = model(torch.randn((10*inputs.shape[0],1,8,8))).squeeze()      \n",
    "        loss = loss_nce(r_p, r_q,inputs.shape[0], 10*inputs.shape[0])\n",
    "        loss.backward()\n",
    "        optimizer.step()\n",
    "        running_loss += loss.item()\n",
    "    \n",
    "    if (epoch+1) % 10 == 0:\n",
    "        print(f\"Epoch {epoch+1}/{num_epochs}, Loss: {running_loss/len(train_loader)}, c: {model.c.item()}\")\n"
   ]
  },
  {
   "cell_type": "code",
   "execution_count": 42,
   "metadata": {},
   "outputs": [
    {
     "data": {
      "image/png": "[encoded data removed]",
      "text/plain": [
       "<Figure size 2880x576 with 20 Axes>"
      ]
     },
     "metadata": {
      "needs_background": "light"
     },
     "output_type": "display_data"
    }
   ],
   "source": [
    "import matplotlib.pyplot as plt\n",
    "\n",
    "noise_test = torch.randn(100000, 1, 8, 8)\n",
    "r_noise = model(noise_test)\n",
    "top_10_idx = np.argpartition(r_noise.detach().numpy().flatten(), -10)[-10:]\n",
    "# Create a subplot of size 2x10\n",
    "fig, axes = plt.subplots(2, 10, figsize=(40, 8))\n",
    "\n",
    "# Plot the images corresponding to the largest 10 values in the first row\n",
    "for i, idx in enumerate(top_10_idx):\n",
    "    axes[0, i].matshow(reverse_transform(noise_test[idx].squeeze()), cmap='gray')\n",
    "    axes[0, i].axis('off')\n",
    "# Plot random images in the second row\n",
    "for i, idx in enumerate(range(10)):\n",
    "    axes[1, i].matshow(reverse_transform(noise_test[idx].squeeze()), cmap='gray')\n",
    "    axes[1, i].axis('off')\n",
    "\n",
    "plt.show()"
   ]
  },
  {
   "cell_type": "code",
   "execution_count": 81,
   "metadata": {},
   "outputs": [
    {
     "data": {
      "text/plain": [
       "torch.Size([8, 8])"
      ]
     },
     "execution_count": 81,
     "metadata": {},
     "output_type": "execute_result"
    }
   ],
   "source": [
    "noise_test[idx].squeeze().shape"
   ]
  },
  {
   "cell_type": "code",
   "execution_count": 73,
   "metadata": {},
   "outputs": [
    {
     "name": "stderr",
     "output_type": "stream",
     "text": [
      "100%|██████████| 500/500 [00:29<00:00, 17.16it/s]\n"
     ]
    },
    {
     "data": {
      "text/plain": [
       "((500, 64), (500,), (500, 8, 8))"
      ]
     },
     "execution_count": 73,
     "metadata": {},
     "output_type": "execute_result"
    }
   ],
   "source": [
    "# HMC\n",
    "\n",
    "from pyhmc import hmc\n",
    "import torch\n",
    "import numpy as np\n",
    "\n",
    "from tqdm import tqdm\n",
    "\n",
    "def sample_hmc(ratio_model, num_samples, num_runs_hmc, num_burnin):\n",
    "    ''' \n",
    "    Sample from the ratio model with HMC.\n",
    "    \n",
    "    args:\n",
    "        ratio_model: nn.Module - the ratio model\n",
    "        num_samples: int - the number of samples to generate per HMC run\n",
    "        num_runs_hmc: int - the number of HMC runs, each giving num_samples draws\n",
    "        num_burnin: int - the number of burn-in steps for a single HMC run\n",
    "    \n",
    "    returns:\n",
    "        samples,log_pdf with\n",
    "        samples: np.array - the generated samples of shape (num_runs_hmc*num_samples, 64)\n",
    "        log_pdf: np.array - the log-pdf of the samples of shape (num_runs_hmc*num_samples,)\n",
    "    '''\n",
    "\n",
    "    def log_r_times_gauss(x):\n",
    "        x_tensor = torch.tensor(x.reshape(1, 1, 8, 8), dtype=torch.float32, requires_grad=True)\n",
    "        fun = torch.log(ratio_model(x_tensor)).sum() + torch.distributions.Normal(0, 1).log_prob(x_tensor).sum()\n",
    "        fun.backward()\n",
    "        grad_wrt_x = x_tensor.grad.reshape(1, -1)[0]\n",
    "        return np.array(fun.item(), dtype=np.float64), np.array(grad_wrt_x.detach().numpy(), dtype=np.float64)\n",
    "\n",
    "    samples = np.zeros((num_runs_hmc, num_samples, 64))\n",
    "    log_pdf = np.zeros((num_runs_hmc, num_samples))\n",
    "    x0_noise = np.zeros((num_runs_hmc, 8, 8))\n",
    "    for hmc_run in tqdm( range(num_runs_hmc)):\n",
    "\n",
    "        '''# pick x0 with highest r(x0) from random noise\n",
    "        x0_proposal = torch.randn(1000, 1, 8, 8)\n",
    "        r_noise = model(x0_proposal)\n",
    "        x0_run = x0_proposal[np.argmax(r_noise.detach().numpy().flatten())]    \n",
    "        '''\n",
    "        # pick x0 randomly from N(0,1) \n",
    "        x0_run = torch.randn(1, 1, 8, 8)\n",
    "        '''GG_cov = np.cov(X_train.reshape(-1,64).T)\n",
    "        x0_run_np = scs.multivariate_normal.rvs(mean=np.zeros(64), cov=GG_cov, size=1).reshape(1,1,8,8)\n",
    "        x0_run = torch.tensor(x0_run_np, dtype=torch.float32)'''\n",
    "        samples_, log_pdf_ = hmc(log_r_times_gauss,\n",
    "                            x0=x0_run.flatten().numpy(),\n",
    "                            n_samples=num_samples,\n",
    "                            return_logp=True,\n",
    "                            n_burn=num_burnin)\n",
    "        \n",
    "        samples[hmc_run] = samples_\n",
    "        log_pdf[hmc_run] = log_pdf_\n",
    "        x0_noise[hmc_run] = x0_run\n",
    "\n",
    "    return samples.reshape(-1,64), log_pdf.reshape(-1), x0_noise\n",
    "\n",
    "samples, log_pdf, x0_noises = sample_hmc(ratio_model=model, \n",
    "                            num_samples=1, \n",
    "                            num_runs_hmc=500,\n",
    "                            num_burnin=20)\n",
    "samples.shape,log_pdf.shape,x0_noises.shape"
   ]
  },
  {
   "cell_type": "code",
   "execution_count": 106,
   "metadata": {},
   "outputs": [
    {
     "name": "stderr",
     "output_type": "stream",
     "text": [
      "100%|██████████| 50/50 [00:49<00:00,  1.01it/s]\n"
     ]
    }
   ],
   "source": [
    "def sample_ais(ratio_model, num_samples, num_burnin, num_burnin_ais, num_steps_ais):\n",
    "\n",
    "    x0_samples = torch.randn(num_samples, 1, 8, 8)\n",
    "\n",
    "    inverse_temperatures = np.linspace(0.0, 1.0, num_steps_ais)\n",
    "\n",
    "    for beta in tqdm(inverse_temperatures):\n",
    "        def tempered_log_fn(x):\n",
    "            x_tensor = torch.tensor(x.reshape(1, 1, 8, 8), dtype=torch.float32, requires_grad=True)\n",
    "            fun =   beta * (torch.log(ratio_model(x_tensor)).sum() + torch.distributions.Normal(0, 1).log_prob(x_tensor).sum()\n",
    "                )+ (1-beta)*torch.distributions.Normal(0, 1).log_prob(x_tensor).sum()\n",
    "            fun.backward()\n",
    "            grad_wrt_x = x_tensor.grad.reshape(1, -1)[0]\n",
    "            return np.array(fun.item(), dtype=np.float64), np.array(grad_wrt_x.detach().numpy(), dtype=np.float64)\n",
    "\n",
    "        if beta == 1.0: # set burnin higher for the last step\n",
    "            num_burnin = num_burnin_ais\n",
    "        for i in range(num_samples):\n",
    "            x0_sample = x0_samples[i].flatten().numpy()\n",
    "            samples_ = hmc(tempered_log_fn,\n",
    "                            x0=x0_sample,\n",
    "                            n_samples=1,\n",
    "                            return_logp=False,\n",
    "                            n_burn=num_burnin)\n",
    "            x0_samples[i] = torch.tensor(samples_[0].reshape(1, 1, 8, 8), dtype=torch.float32)\n",
    "\n",
    "    return x0_samples.reshape(-1,64)\n",
    "\n",
    "samples_ais = sample_ais(ratio_model=model,\n",
    "            num_samples=25, \n",
    "            num_burnin=10,\n",
    "            num_burnin_ais=50, \n",
    "            num_steps_ais=50)"
   ]
  },
  {
   "cell_type": "code",
   "execution_count": 74,
   "metadata": {},
   "outputs": [
    {
     "data": {
      "image/png": "[encoded data removed]",
      "text/plain": [
       "<Figure size 864x576 with 35 Axes>"
      ]
     },
     "metadata": {
      "needs_background": "light"
     },
     "output_type": "display_data"
    }
   ],
   "source": [
    "import matplotlib.pyplot as plt\n",
    "import numpy as np\n",
    "import torch\n",
    "\n",
    "# Create a figure and a set of subplots\n",
    "fig, axes = plt.subplots(5, 7, figsize=(12, 8))\n",
    "fig.suptitle('Samples from HMC with x0=GG 1K burnin')\n",
    "\n",
    "# Loop through each row\n",
    "for row in range(5):\n",
    "    # Plot the samples in the first 5 columns\n",
    "    for col in range(5):\n",
    "        ax = axes[row, col]\n",
    "        index = row * 5 + col\n",
    "        img = reverse_transform(torch.tensor(samples[index]).reshape(8, 8)).reshape(8, 8)\n",
    "        ax.imshow(img, cmap='gray_r')\n",
    "        ax.axis('off')\n",
    "        ax.set_title(f\"log_pdf: {log_pdf[index]:.2f}\")\n",
    "\n",
    "    # Plot random samples of X_train in the 6th column\n",
    "    ax = axes[row, 5]\n",
    "    random_index = np.random.randint(len(X_train))\n",
    "    img = reverse_transform(X_train[random_index]).reshape(8, 8)\n",
    "    ax.imshow(img, cmap='gray_r')\n",
    "    ax.axis('off')\n",
    "    ax.set_title(\"Random X_train\")\n",
    "\n",
    "    # Plot random samples of N(0,1) in the 7th column\n",
    "    ax = axes[row, 6]\n",
    "    img = reverse_transform(torch.randn(1, 1, 8, 8)).reshape(8, 8)\n",
    "    ax.imshow(img, cmap='gray_r')\n",
    "    ax.axis('off')\n",
    "    ax.set_title(\"Random N(0,1)\")\n",
    "\n",
    "# Adjust layout\n",
    "plt.tight_layout(rect=[0, 0, 1, 0.96])  # Adjust rect to make room for the suptitle\n",
    "plt.show()"
   ]
  },
  {
   "cell_type": "code",
   "execution_count": null,
   "metadata": {},
   "outputs": [
    {
     "data": {
      "text/plain": [
       "Parameter containing:\n",
       "tensor(1.0282, requires_grad=True)"
      ]
     },
     "execution_count": 101,
     "metadata": {},
     "output_type": "execute_result"
    }
   ],
   "source": [
    "model.c"
   ]
  },
  {
   "cell_type": "code",
   "execution_count": 13,
   "metadata": {},
   "outputs": [
    {
     "name": "stderr",
     "output_type": "stream",
     "text": [
      "c:\\Users\\david\\AppData\\Local\\Programs\\Python\\Python39\\lib\\site-packages\\ot\\backend.py:2998: UserWarning: To use TensorflowBackend, you need to activate the tensorflow numpy API. You can activate it by running: \n",
      "from tensorflow.python.ops.numpy_ops import np_config\n",
      "np_config.enable_numpy_behavior()\n",
      "  register_backend(TensorflowBackend())\n"
     ]
    }
   ],
   "source": [
    "def Energy_Score_pytorch(beta, observations_y, simulations_Y):\n",
    "    m = len(simulations_Y)\n",
    "\n",
    "    # First part |Y-y|. Gives the L2 dist scaled by power beta. Is a vector of length n/one value per location.\n",
    "    diff_Y_y = torch.pow(\n",
    "        torch.norm(\n",
    "            (observations_y.unsqueeze(1) -\n",
    "            simulations_Y.unsqueeze(0)).float(),\n",
    "            dim=2,keepdim=True).reshape(-1,1),\n",
    "        beta)\n",
    "\n",
    "    # Second part |Y-Y'|. 2* because pdist counts only once.\n",
    "    diff_Y_Y = 2 * torch.pow(\n",
    "        nn.functional.pdist(simulations_Y),\n",
    "        beta)\n",
    "    Energy = 2 * torch.mean(diff_Y_y) - torch.sum(diff_Y_Y) / (m * (m - 1))\n",
    "    return Energy\n",
    "import ot\n",
    "\n",
    "def W2(x,y):\n",
    "    return torch.sqrt(ot.emd2(torch.ones(x.shape[0])/x.shape[0], torch.ones(y.shape[0])/y.shape[0], ot.dist(x, y)))"
   ]
  },
  {
   "cell_type": "code",
   "execution_count": null,
   "metadata": {},
   "outputs": [],
   "source": [
    "GG_cov = np.cov(X_train.reshape(-1,64).T)\n",
    "GG_samples = scs.multivariate_normal.rvs(mean=np.zeros(64), cov=GG_cov, size=5000)"
   ]
  },
  {
   "cell_type": "code",
   "execution_count": null,
   "metadata": {},
   "outputs": [
    {
     "data": {
      "text/plain": [
       "11.413952397743932"
      ]
     },
     "execution_count": 68,
     "metadata": {},
     "output_type": "execute_result"
    }
   ],
   "source": [
    "top = scs.multivariate_normal(mean=np.zeros(64), cov=GG_cov).logpdf(X_test.reshape(-1,64))\n",
    "bottom = scs.norm.logpdf(X_test.reshape(-1,64), loc=0, scale=1).sum(1)\n",
    "(top-bottom).mean()"
   ]
  },
  {
   "cell_type": "code",
   "execution_count": 121,
   "metadata": {},
   "outputs": [
    {
     "data": {
      "text/plain": [
       "(tensor(17.4795, grad_fn=<MeanBackward0>),\n",
       " tensor(14.7282, grad_fn=<MeanBackward0>))"
      ]
     },
     "execution_count": 121,
     "metadata": {},
     "output_type": "execute_result"
    }
   ],
   "source": [
    "model(X_train).log().mean(),model(X_test).log().mean()"
   ]
  },
  {
   "cell_type": "code",
   "execution_count": 82,
   "metadata": {},
   "outputs": [
    {
     "data": {
      "text/plain": [
       "torch.Size([25, 64])"
      ]
     },
     "execution_count": 82,
     "metadata": {},
     "output_type": "execute_result"
    }
   ],
   "source": [
    "samples_ais.shape"
   ]
  },
  {
   "cell_type": "code",
   "execution_count": 76,
   "metadata": {},
   "outputs": [
    {
     "data": {
      "image/png": "[encoded data removed]",
      "text/plain": [
       "<Figure size 432x288 with 1 Axes>"
      ]
     },
     "metadata": {
      "needs_background": "light"
     },
     "output_type": "display_data"
    },
    {
     "data": {
      "image/png": "[encoded data removed]",
      "text/plain": [
       "<Figure size 432x288 with 1 Axes>"
      ]
     },
     "metadata": {
      "needs_background": "light"
     },
     "output_type": "display_data"
    }
   ],
   "source": [
    "plt.hist(scs.norm.cdf(samples[:,0]),density=True, bins=20)\n",
    "plt.show()\n",
    "#plt.hist(scs.norm.cdf(samples_ais[:,0]),density=True, bins=20)\n",
    "#plt.show()\n",
    "plt.hist(scs.norm.cdf(GG_samples[:,0]),density=True, bins=20)\n",
    "plt.show()"
   ]
  },
  {
   "cell_type": "markdown",
   "metadata": {},
   "source": [
    "#### SR and W2 comparisons"
   ]
  },
  {
   "cell_type": "code",
   "execution_count": 47,
   "metadata": {},
   "outputs": [],
   "source": [
    "import numpy as np\n",
    "def check_bad_values(data_):\n",
    "    # Check for NaN, inf or neginf values\n",
    "    num_nan = np.isnan(data_).sum()\n",
    "    num_pos_inf = np.isposinf(data_).sum()\n",
    "    num_neg_inf = np.isneginf(data_).sum()\n",
    "    if num_nan > 0 or num_pos_inf > 0 or num_neg_inf > 0:\n",
    "        print(f\"!!!!!!! Found {num_nan} NaN, {num_pos_inf} +Inf, and {num_neg_inf} -Inf values.\")"
   ]
  },
  {
   "cell_type": "code",
   "execution_count": null,
   "metadata": {},
   "outputs": [
    {
     "name": "stdout",
     "output_type": "stream",
     "text": [
      "samples hmc\n",
      "samples ais\n",
      "random\n",
      "GG\n",
      "vine\n",
      "observations\n",
      "test\n",
      "N01 start and 10 burnin data scale AIS-50\n",
      "Energy Score\n",
      "tensor(11.6530) samples_ais\n",
      "tensor(11.1839) samples_hmc\n",
      "tensor(11.1837) random\n",
      "tensor(11.1144) GG\n",
      "tensor(11.1271) vine\n",
      "tensor(11.0911) observations\n",
      "Wasserstein 2\n",
      "tensor(13.3545) ratio samples_ais\n",
      "tensor(13.2091) ratio samples_hmc\n",
      "tensor(13.6097) random\n",
      "tensor(12.8244) GG\n",
      "tensor(13.1189) vine\n",
      "tensor(12.0881) observations\n",
      "N01 start and 10 burnin AIS-50 Gaussian scale\n",
      "Energy Score\n",
      "tensor(11.8127) samples_ais\n",
      "tensor(11.3847) samples_hmc\n",
      "tensor(11.2980) random\n"
     ]
    },
    {
     "name": "stderr",
     "output_type": "stream",
     "text": [
      "C:\\Users\\david\\AppData\\Local\\Temp\\ipykernel_27500\\2437237769.py:64: UserWarning: To copy construct from a tensor, it is recommended to use sourceTensor.clone().detach() or sourceTensor.clone().detach().requires_grad_(True), rather than torch.tensor(sourceTensor).\n",
      "  print(Energy_Score_pytorch(1,X_test.reshape(-1,64),torch.tensor(samples_ais).float()),'samples_ais')\n"
     ]
    },
    {
     "name": "stdout",
     "output_type": "stream",
     "text": [
      "tensor(11.2747) GG\n",
      "tensor(11.2768) vine\n",
      "tensor(11.2698) observations\n",
      "Wasserstein 2\n",
      "tensor(9.5502) ratio samples_ais\n",
      "tensor(8.8593) ratio samples_hmc\n"
     ]
    },
    {
     "name": "stderr",
     "output_type": "stream",
     "text": [
      "C:\\Users\\david\\AppData\\Local\\Temp\\ipykernel_27500\\2437237769.py:73: UserWarning: To copy construct from a tensor, it is recommended to use sourceTensor.clone().detach() or sourceTensor.clone().detach().requires_grad_(True), rather than torch.tensor(sourceTensor).\n",
      "  print(W2(X_test.reshape(-1,64).float(),torch.tensor(samples_ais).float(),),'ratio samples_ais')\n"
     ]
    },
    {
     "name": "stdout",
     "output_type": "stream",
     "text": [
      "tensor(9.1901) random\n",
      "tensor(8.1195) GG\n",
      "tensor(8.5540) vine\n",
      "tensor(7.4184) observations\n"
     ]
    }
   ],
   "source": [
    "# Transform data to unit scale\n",
    "def to_unit_scale(data):\n",
    "    unit_data = scs.norm.cdf(data)\n",
    "    unit_data = np.clip(unit_data, 1e-3, 1 - 1e-3)\n",
    "    return unit_data\n",
    "\n",
    "# Transform data back to data scale using ECDF\n",
    "def to_data_scale(data, ecdf_list):\n",
    "    data_scale = np.zeros_like(data)\n",
    "    for dim in range(data.shape[1]):\n",
    "        data_scale[:, dim] = np.interp(data[:, dim], np.linspace(0, 1, len(ecdf_list[dim].x)), ecdf_list[dim].x)\n",
    "    data_scale = scs.norm.ppf(data_scale)\n",
    "    check_bad_values(data_scale)\n",
    "    return data_scale\n",
    "\n",
    "# Transform samples\n",
    "print('samples hmc')\n",
    "samples_unit = to_unit_scale(samples)\n",
    "samples_data = to_data_scale(samples_unit, ecdf_list)\n",
    "\n",
    "print('samples ais')\n",
    "samples_ais_unit = to_unit_scale(samples_ais)\n",
    "samples_ais_data = to_data_scale(samples_ais_unit, ecdf_list)\n",
    "\n",
    "print('random')\n",
    "random_unit = to_unit_scale(torch.randn(500, 64).numpy())\n",
    "random_data = to_data_scale(random_unit, ecdf_list)\n",
    "print('GG')\n",
    "GG_samples_unit = to_unit_scale(GG_samples)\n",
    "GG_samples_data = to_data_scale(GG_samples_unit, ecdf_list)\n",
    "print('vine')\n",
    "vine_unit = to_unit_scale(scs.norm.ppf(cop_sample))\n",
    "vine_data = to_data_scale(vine_unit, ecdf_list)\n",
    "print('observations')\n",
    "X_train_unit = to_unit_scale(X_train.reshape(-1, 64))\n",
    "X_train_data = to_data_scale(X_train_unit, ecdf_list)\n",
    "print('test')\n",
    "X_test_unit = to_unit_scale(X_test.reshape(-1, 64))\n",
    "X_test_data = torch.tensor(to_data_scale(X_test_unit, ecdf_list))\n",
    "\n",
    "# Compute Energy Score\n",
    "print('N01 start and 10 burnin data scale AIS-50')\n",
    "print('Energy Score')\n",
    "print(Energy_Score_pytorch(1, X_test_data.reshape(-1, 64), torch.tensor(samples_ais_data).float()), 'samples_ais')\n",
    "print(Energy_Score_pytorch(1, X_test_data.reshape(-1, 64), torch.tensor(samples_data).float()), 'samples_hmc')\n",
    "print(Energy_Score_pytorch(1, X_test_data.reshape(-1, 64), torch.tensor(random_data).float()), 'random')\n",
    "print(Energy_Score_pytorch(1, X_test_data.reshape(-1, 64), torch.tensor(GG_samples_data).float()), 'GG')\n",
    "print(Energy_Score_pytorch(1, X_test_data.reshape(-1, 64), torch.tensor(vine_data).float()), 'vine')\n",
    "print(Energy_Score_pytorch(1, X_test_data.reshape(-1, 64), torch.tensor(X_train_data).float()), 'observations')\n",
    "\n",
    "# Compute Wasserstein 2\n",
    "print('Wasserstein 2')\n",
    "print(W2(X_test.reshape(-1, 64).float(), torch.tensor(samples_ais_data).float()), 'ratio samples_ais')\n",
    "print(W2(X_test.reshape(-1, 64).float(), torch.tensor(samples_data).float()), 'ratio samples_hmc')\n",
    "print(W2(X_test.reshape(-1, 64).float(), torch.tensor(random_data).float()), 'random')\n",
    "print(W2(X_test.reshape(-1, 64).float(), torch.tensor(GG_samples_data).float()), 'GG')\n",
    "print(W2(X_test.reshape(-1, 64).float(), torch.tensor(vine_data).float()), 'vine')\n",
    "print(W2(X_test.reshape(-1, 64).float(), torch.tensor(X_train_data).float()), 'observations')\n",
    "\n",
    "\n",
    "#### Energy Score\n",
    "print('N01 start and 10 burnin AIS-50 Gaussian scale')\n",
    "print('Energy Score')\n",
    "print(Energy_Score_pytorch(1,X_test.reshape(-1,64),torch.tensor(samples_ais).float()),'samples_ais')\n",
    "print(Energy_Score_pytorch(1,X_test.reshape(-1,64),torch.tensor(samples).float()),'samples_hmc')\n",
    "print(Energy_Score_pytorch(1,X_test.reshape(-1,64),torch.randn(500,64).float()),'random')\n",
    "print(Energy_Score_pytorch(1,X_test.reshape(-1,64),torch.tensor(GG_samples).float()),'GG')\n",
    "print(Energy_Score_pytorch(1,X_test.reshape(-1,64),torch.tensor(scs.norm.ppf(cop_sample)).float()),'vine')\n",
    "print(Energy_Score_pytorch(1,X_test.reshape(-1,64),X_train.reshape(-1,64)),'observations')\n",
    "\n",
    "#### Wasserstein 2\n",
    "print('Wasserstein 2')\n",
    "print(W2(X_test.reshape(-1,64).float(),torch.tensor(samples_ais).float(),),'ratio samples_ais')\n",
    "print(W2(X_test.reshape(-1,64).float(),torch.tensor(samples).float()),'ratio samples_hmc')\n",
    "print(W2(X_test.reshape(-1,64).float(),torch.randn(500,64).float()),'random')\n",
    "print(W2(X_test.reshape(-1,64).float(),torch.tensor(GG_samples).float()),'GG')\n",
    "print(W2(X_test.reshape(-1,64).float(),torch.tensor(scs.norm.ppf(cop_sample)).float()),'vine')\n",
    "print(W2(X_test.reshape(-1,64).float(),X_train.reshape(-1,64).float()),'observations')"
   ]
  },
  {
   "cell_type": "code",
   "execution_count": 97,
   "metadata": {},
   "outputs": [
    {
     "name": "stdout",
     "output_type": "stream",
     "text": [
      "samples\n",
      "random\n",
      "GG\n",
      "vine\n",
      "observations\n",
      "test\n",
      "N01 start and 50 burnin data scale AIS-7\n",
      "Energy Score\n",
      "tensor(11.2030) samples_ais\n",
      "tensor(11.1829) random\n",
      "tensor(11.1144) GG\n",
      "tensor(11.1271) vine\n",
      "tensor(11.0911) observations\n",
      "Wasserstein 2\n",
      "tensor(13.2950) ratio samples_ais\n",
      "tensor(13.6045) random\n",
      "tensor(12.8244) GG\n",
      "tensor(13.1189) vine\n",
      "tensor(12.0881) observations\n",
      "N01 start and 50 burnin AIS-7\n",
      "Energy Score\n",
      "tensor(11.3548) samples_ais\n",
      "tensor(11.3001) random\n"
     ]
    },
    {
     "name": "stderr",
     "output_type": "stream",
     "text": [
      "C:\\Users\\david\\AppData\\Local\\Temp\\ipykernel_27500\\4079260195.py:58: UserWarning: To copy construct from a tensor, it is recommended to use sourceTensor.clone().detach() or sourceTensor.clone().detach().requires_grad_(True), rather than torch.tensor(sourceTensor).\n",
      "  print(Energy_Score_pytorch(1,X_test.reshape(-1,64),torch.tensor(samples_ais).float()),'samples_ais')\n"
     ]
    },
    {
     "name": "stdout",
     "output_type": "stream",
     "text": [
      "tensor(11.2747) GG\n",
      "tensor(11.2768) vine\n",
      "tensor(11.2698) observations\n",
      "Wasserstein 2\n",
      "tensor(8.8629) ratio samples_ais\n"
     ]
    },
    {
     "name": "stderr",
     "output_type": "stream",
     "text": [
      "C:\\Users\\david\\AppData\\Local\\Temp\\ipykernel_27500\\4079260195.py:66: UserWarning: To copy construct from a tensor, it is recommended to use sourceTensor.clone().detach() or sourceTensor.clone().detach().requires_grad_(True), rather than torch.tensor(sourceTensor).\n",
      "  print(W2(X_test.reshape(-1,64).float(),torch.tensor(samples_ais).float(),),'ratio samples_ais')\n"
     ]
    },
    {
     "name": "stdout",
     "output_type": "stream",
     "text": [
      "tensor(9.1441) random\n",
      "tensor(8.1195) GG\n",
      "tensor(8.5540) vine\n",
      "tensor(7.4184) observations\n"
     ]
    }
   ],
   "source": [
    "# Transform data to unit scale\n",
    "def to_unit_scale(data):\n",
    "    unit_data = scs.norm.cdf(data)\n",
    "    unit_data = np.clip(unit_data, 1e-3, 1 - 1e-3)\n",
    "    return unit_data\n",
    "\n",
    "# Transform data back to data scale using ECDF\n",
    "def to_data_scale(data, ecdf_list):\n",
    "    data_scale = np.zeros_like(data)\n",
    "    for dim in range(data.shape[1]):\n",
    "        data_scale[:, dim] = np.interp(data[:, dim], np.linspace(0, 1, len(ecdf_list[dim].x)), ecdf_list[dim].x)\n",
    "    data_scale = scs.norm.ppf(data_scale)\n",
    "    check_bad_values(data_scale)\n",
    "    return data_scale\n",
    "\n",
    "# Transform samples\n",
    "print('samples')\n",
    "samples_unit = to_unit_scale(samples_ais)\n",
    "samples_data = to_data_scale(samples_unit, ecdf_list)\n",
    "\n",
    "print('random')\n",
    "random_unit = to_unit_scale(torch.randn(500, 64).numpy())\n",
    "random_data = to_data_scale(random_unit, ecdf_list)\n",
    "print('GG')\n",
    "GG_samples_unit = to_unit_scale(GG_samples)\n",
    "GG_samples_data = to_data_scale(GG_samples_unit, ecdf_list)\n",
    "print('vine')\n",
    "vine_unit = to_unit_scale(scs.norm.ppf(cop_sample))\n",
    "vine_data = to_data_scale(vine_unit, ecdf_list)\n",
    "print('observations')\n",
    "X_train_unit = to_unit_scale(X_train.reshape(-1, 64))\n",
    "X_train_data = to_data_scale(X_train_unit, ecdf_list)\n",
    "print('test')\n",
    "X_test_unit = to_unit_scale(X_test.reshape(-1, 64))\n",
    "X_test_data = torch.tensor(to_data_scale(X_test_unit, ecdf_list))\n",
    "\n",
    "# Compute Energy Score\n",
    "print('N01 start and 50 burnin data scale AIS-7')\n",
    "print('Energy Score')\n",
    "print(Energy_Score_pytorch(1, X_test_data.reshape(-1, 64), torch.tensor(samples_data).float()), 'samples_ais')\n",
    "print(Energy_Score_pytorch(1, X_test_data.reshape(-1, 64), torch.tensor(random_data).float()), 'random')\n",
    "print(Energy_Score_pytorch(1, X_test_data.reshape(-1, 64), torch.tensor(GG_samples_data).float()), 'GG')\n",
    "print(Energy_Score_pytorch(1, X_test_data.reshape(-1, 64), torch.tensor(vine_data).float()), 'vine')\n",
    "print(Energy_Score_pytorch(1, X_test_data.reshape(-1, 64), torch.tensor(X_train_data).float()), 'observations')\n",
    "\n",
    "# Compute Wasserstein 2\n",
    "print('Wasserstein 2')\n",
    "print(W2(X_test.reshape(-1, 64).float(), torch.tensor(samples_data).float()), 'ratio samples_ais')\n",
    "print(W2(X_test.reshape(-1, 64).float(), torch.tensor(random_data).float()), 'random')\n",
    "print(W2(X_test.reshape(-1, 64).float(), torch.tensor(GG_samples_data).float()), 'GG')\n",
    "print(W2(X_test.reshape(-1, 64).float(), torch.tensor(vine_data).float()), 'vine')\n",
    "print(W2(X_test.reshape(-1, 64).float(), torch.tensor(X_train_data).float()), 'observations')\n",
    "\n",
    "\n",
    "#### Energy Score\n",
    "print('N01 start and 50 burnin AIS-7')\n",
    "print('Energy Score')\n",
    "print(Energy_Score_pytorch(1,X_test.reshape(-1,64),torch.tensor(samples_ais).float()),'samples_ais')\n",
    "print(Energy_Score_pytorch(1,X_test.reshape(-1,64),torch.randn(500,64).float()),'random')\n",
    "print(Energy_Score_pytorch(1,X_test.reshape(-1,64),torch.tensor(GG_samples).float()),'GG')\n",
    "print(Energy_Score_pytorch(1,X_test.reshape(-1,64),torch.tensor(scs.norm.ppf(cop_sample)).float()),'vine')\n",
    "print(Energy_Score_pytorch(1,X_test.reshape(-1,64),X_train.reshape(-1,64)),'observations')\n",
    "\n",
    "#### Wasserstein 2\n",
    "print('Wasserstein 2')\n",
    "print(W2(X_test.reshape(-1,64).float(),torch.tensor(samples_ais).float(),),'ratio samples_ais')\n",
    "print(W2(X_test.reshape(-1,64).float(),torch.randn(500,64).float()),'random')\n",
    "print(W2(X_test.reshape(-1,64).float(),torch.tensor(GG_samples).float()),'GG')\n",
    "print(W2(X_test.reshape(-1,64).float(),torch.tensor(scs.norm.ppf(cop_sample)).float()),'vine')\n",
    "print(W2(X_test.reshape(-1,64).float(),X_train.reshape(-1,64).float()),'observations')"
   ]
  },
  {
   "cell_type": "code",
   "execution_count": 57,
   "metadata": {},
   "outputs": [
    {
     "name": "stdout",
     "output_type": "stream",
     "text": [
      "samples\n",
      "random\n",
      "GG\n",
      "vine\n",
      "observations\n",
      "test\n",
      "N01 start and 50 burnin data scale\n",
      "Energy Score\n",
      "tensor(11.1839) samples\n",
      "tensor(11.1847) random\n",
      "tensor(11.1112) GG\n",
      "tensor(11.1271) vine\n",
      "tensor(11.0911) observations\n",
      "Wasserstein 2\n",
      "tensor(13.2091) ratio samples\n",
      "tensor(13.6332) random\n",
      "tensor(12.8331) GG\n",
      "tensor(13.1189) vine\n",
      "tensor(12.0881) observations\n"
     ]
    }
   ],
   "source": [
    "# Transform data to unit scale\n",
    "def to_unit_scale(data):\n",
    "    unit_data = scs.norm.cdf(data)\n",
    "    unit_data = np.clip(unit_data, 1e-3, 1 - 1e-3)\n",
    "    return unit_data\n",
    "\n",
    "# Transform data back to data scale using ECDF\n",
    "def to_data_scale(data, ecdf_list):\n",
    "    data_scale = np.zeros_like(data)\n",
    "    for dim in range(data.shape[1]):\n",
    "        data_scale[:, dim] = np.interp(data[:, dim], np.linspace(0, 1, len(ecdf_list[dim].x)), ecdf_list[dim].x)\n",
    "    data_scale = scs.norm.ppf(data_scale)\n",
    "    check_bad_values(data_scale)\n",
    "    return data_scale\n",
    "\n",
    "# Transform samples\n",
    "print('samples')\n",
    "samples_unit = to_unit_scale(samples)\n",
    "samples_data = to_data_scale(samples_unit, ecdf_list)\n",
    "\n",
    "print('random')\n",
    "random_unit = to_unit_scale(torch.randn(500, 64).numpy())\n",
    "random_data = to_data_scale(random_unit, ecdf_list)\n",
    "print('GG')\n",
    "GG_samples_unit = to_unit_scale(GG_samples)\n",
    "GG_samples_data = to_data_scale(GG_samples_unit, ecdf_list)\n",
    "print('vine')\n",
    "vine_unit = to_unit_scale(scs.norm.ppf(cop_sample))\n",
    "vine_data = to_data_scale(vine_unit, ecdf_list)\n",
    "print('observations')\n",
    "X_train_unit = to_unit_scale(X_train.reshape(-1, 64))\n",
    "X_train_data = to_data_scale(X_train_unit, ecdf_list)\n",
    "print('test')\n",
    "X_test_unit = to_unit_scale(X_test.reshape(-1, 64))\n",
    "X_test_data = torch.tensor(to_data_scale(X_test_unit, ecdf_list))\n",
    "\n",
    "# Compute Energy Score\n",
    "print('N01 start and 50 burnin data scale')\n",
    "print('Energy Score')\n",
    "print(Energy_Score_pytorch(1, X_test_data.reshape(-1, 64), torch.tensor(samples_data).float()), 'samples')\n",
    "print(Energy_Score_pytorch(1, X_test_data.reshape(-1, 64), torch.tensor(random_data).float()), 'random')\n",
    "print(Energy_Score_pytorch(1, X_test_data.reshape(-1, 64), torch.tensor(GG_samples_data).float()), 'GG')\n",
    "print(Energy_Score_pytorch(1, X_test_data.reshape(-1, 64), torch.tensor(vine_data).float()), 'vine')\n",
    "print(Energy_Score_pytorch(1, X_test_data.reshape(-1, 64), torch.tensor(X_train_data).float()), 'observations')\n",
    "\n",
    "# Compute Wasserstein 2\n",
    "print('Wasserstein 2')\n",
    "print(W2(X_test.reshape(-1, 64).float(), torch.tensor(samples_data).float()), 'ratio samples')\n",
    "print(W2(X_test.reshape(-1, 64).float(), torch.tensor(random_data).float()), 'random')\n",
    "print(W2(X_test.reshape(-1, 64).float(), torch.tensor(GG_samples_data).float()), 'GG')\n",
    "print(W2(X_test.reshape(-1, 64).float(), torch.tensor(vine_data).float()), 'vine')\n",
    "print(W2(X_test.reshape(-1, 64).float(), torch.tensor(X_train_data).float()), 'observations')"
   ]
  },
  {
   "cell_type": "code",
   "execution_count": 56,
   "metadata": {},
   "outputs": [
    {
     "name": "stdout",
     "output_type": "stream",
     "text": [
      "N01 start and 50 burnin\n",
      "Energy Score\n",
      "tensor(11.3847) samples\n",
      "tensor(11.3002) random\n",
      "tensor(11.2724) GG\n",
      "tensor(11.2768) vine\n",
      "tensor(11.2698) observations\n",
      "Wasserstein 2\n",
      "tensor(8.8593) ratio samples\n",
      "tensor(9.1535) random\n",
      "tensor(8.1200) GG\n",
      "tensor(8.5540) vine\n",
      "tensor(7.4184) observations\n"
     ]
    }
   ],
   "source": [
    "#### Energy Score\n",
    "print('N01 start and 50 burnin')\n",
    "print('Energy Score')\n",
    "print(Energy_Score_pytorch(1,X_test.reshape(-1,64),torch.tensor(samples).float()),'samples')\n",
    "print(Energy_Score_pytorch(1,X_test.reshape(-1,64),torch.randn(500,64).float()),'random')\n",
    "print(Energy_Score_pytorch(1,X_test.reshape(-1,64),torch.tensor(GG_samples).float()),'GG')\n",
    "print(Energy_Score_pytorch(1,X_test.reshape(-1,64),torch.tensor(scs.norm.ppf(cop_sample)).float()),'vine')\n",
    "print(Energy_Score_pytorch(1,X_test.reshape(-1,64),X_train.reshape(-1,64)),'observations')\n",
    "\n",
    "#### Wasserstein 2\n",
    "print('Wasserstein 2')\n",
    "print(W2(X_test.reshape(-1,64).float(),torch.tensor(samples).float(),),'ratio samples')\n",
    "print(W2(X_test.reshape(-1,64).float(),torch.randn(500,64).float()),'random')\n",
    "print(W2(X_test.reshape(-1,64).float(),torch.tensor(GG_samples).float()),'GG')\n",
    "print(W2(X_test.reshape(-1,64).float(),torch.tensor(scs.norm.ppf(cop_sample)).float()),'vine')\n",
    "print(W2(X_test.reshape(-1,64).float(),X_train.reshape(-1,64).float()),'observations')"
   ]
  },
  {
   "cell_type": "code",
   "execution_count": 250,
   "metadata": {},
   "outputs": [
    {
     "name": "stdout",
     "output_type": "stream",
     "text": [
      "N01 start and 20 burnin\n",
      "Energy Score\n",
      "tensor(11.3303) samples\n",
      "tensor(11.2897) random\n",
      "tensor(11.2621) GG\n",
      "tensor(11.2623) vine\n",
      "tensor(11.2596) observations\n",
      "Wasserstein 2\n",
      "tensor(8.3561) ratio samples\n",
      "tensor(9.0065) random\n",
      "tensor(8.1130) GG\n",
      "tensor(8.4209) vine\n",
      "tensor(7.3906) observations\n"
     ]
    }
   ],
   "source": [
    "#### Energy Score\n",
    "print('N01 start and 20 burnin')\n",
    "print('Energy Score')\n",
    "print(Energy_Score_pytorch(1,X_test.reshape(-1,64),torch.tensor(samples).float()),'samples')\n",
    "print(Energy_Score_pytorch(1,X_test.reshape(-1,64),torch.randn(5000,64).float()),'random')\n",
    "print(Energy_Score_pytorch(1,X_test.reshape(-1,64),torch.tensor(GG_samples).float()),'GG')\n",
    "print(Energy_Score_pytorch(1,X_test.reshape(-1,64),torch.tensor(scs.norm.ppf(cop_sample)).float()),'vine')\n",
    "print(Energy_Score_pytorch(1,X_test.reshape(-1,64),X_train.reshape(-1,64)),'observations')\n",
    "\n",
    "#### Wasserstein 2\n",
    "print('Wasserstein 2')\n",
    "print(W2(X_test.reshape(-1,64).float(),torch.tensor(samples).float(),),'ratio samples')\n",
    "print(W2(X_test.reshape(-1,64).float(),torch.randn(5000,64).float()),'random')\n",
    "print(W2(X_test.reshape(-1,64).float(),torch.tensor(GG_samples).float()),'GG')\n",
    "print(W2(X_test.reshape(-1,64).float(),torch.tensor(scs.norm.ppf(cop_sample)).float()),'vine')\n",
    "print(W2(X_test.reshape(-1,64).float(),X_train.reshape(-1,64).float()),'observations')"
   ]
  },
  {
   "cell_type": "code",
   "execution_count": 244,
   "metadata": {},
   "outputs": [
    {
     "name": "stdout",
     "output_type": "stream",
     "text": [
      "GG start and 50 burnin\n",
      "Energy Score\n",
      "tensor(11.5173) samples\n",
      "tensor(11.2895) random\n",
      "tensor(11.2621) GG\n",
      "tensor(11.2623) vine\n",
      "tensor(11.2596) observations\n",
      "Wasserstein 2\n",
      "tensor(8.7845) ratio samples\n",
      "tensor(8.9931) random\n",
      "tensor(8.1130) GG\n",
      "tensor(8.4209) vine\n",
      "tensor(7.3906) observations\n"
     ]
    }
   ],
   "source": [
    "#### Energy Score\n",
    "print('GG start and 50 burnin')\n",
    "print('Energy Score')\n",
    "print(Energy_Score_pytorch(1,X_test.reshape(-1,64),torch.tensor(samples).float()),'samples')\n",
    "print(Energy_Score_pytorch(1,X_test.reshape(-1,64),torch.randn(5000,64).float()),'random')\n",
    "print(Energy_Score_pytorch(1,X_test.reshape(-1,64),torch.tensor(GG_samples).float()),'GG')\n",
    "print(Energy_Score_pytorch(1,X_test.reshape(-1,64),torch.tensor(scs.norm.ppf(cop_sample)).float()),'vine')\n",
    "print(Energy_Score_pytorch(1,X_test.reshape(-1,64),X_train.reshape(-1,64)),'observations')\n",
    "\n",
    "#### Wasserstein 2\n",
    "print('Wasserstein 2')\n",
    "print(W2(X_test.reshape(-1,64).float(),torch.tensor(samples).float(),),'ratio samples')\n",
    "print(W2(X_test.reshape(-1,64).float(),torch.randn(5000,64).float()),'random')\n",
    "print(W2(X_test.reshape(-1,64).float(),torch.tensor(GG_samples).float()),'GG')\n",
    "print(W2(X_test.reshape(-1,64).float(),torch.tensor(scs.norm.ppf(cop_sample)).float()),'vine')\n",
    "print(W2(X_test.reshape(-1,64).float(),X_train.reshape(-1,64).float()),'observations')"
   ]
  },
  {
   "cell_type": "code",
   "execution_count": 238,
   "metadata": {},
   "outputs": [
    {
     "name": "stdout",
     "output_type": "stream",
     "text": [
      "tensor(11.2759) samples\n",
      "tensor(11.2887) random\n",
      "tensor(11.2621) GG\n",
      "tensor(11.2623) vine\n",
      "tensor(11.2596) observations\n",
      "tensor(8.2515) ratio samples\n",
      "tensor(9.0025) random\n",
      "tensor(8.1130) GG\n",
      "tensor(8.4209) vine\n",
      "tensor(7.3906) observations\n"
     ]
    }
   ],
   "source": [
    "#### Energy Score\n",
    "print('GG start and 10 burnin')\n",
    "\n",
    "print('Energy Score')\n",
    "print(Energy_Score_pytorch(1,X_test.reshape(-1,64),torch.tensor(samples).float()),'samples')\n",
    "print(Energy_Score_pytorch(1,X_test.reshape(-1,64),torch.randn(5000,64).float()),'random')\n",
    "print(Energy_Score_pytorch(1,X_test.reshape(-1,64),torch.tensor(GG_samples).float()),'GG')\n",
    "print(Energy_Score_pytorch(1,X_test.reshape(-1,64),torch.tensor(scs.norm.ppf(cop_sample)).float()),'vine')\n",
    "print(Energy_Score_pytorch(1,X_test.reshape(-1,64),X_train.reshape(-1,64)),'observations')\n",
    "\n",
    "#### Wasserstein 2\n",
    "print('Wasserstein 2')\n",
    "print(W2(X_test.reshape(-1,64).float(),torch.tensor(samples).float(),),'ratio samples')\n",
    "print(W2(X_test.reshape(-1,64).float(),torch.randn(5000,64).float()),'random')\n",
    "print(W2(X_test.reshape(-1,64).float(),torch.tensor(GG_samples).float()),'GG')\n",
    "print(W2(X_test.reshape(-1,64).float(),torch.tensor(scs.norm.ppf(cop_sample)).float()),'vine')\n",
    "print(W2(X_test.reshape(-1,64).float(),X_train.reshape(-1,64).float()),'observations')"
   ]
  },
  {
   "cell_type": "code",
   "execution_count": 218,
   "metadata": {},
   "outputs": [
    {
     "name": "stdout",
     "output_type": "stream",
     "text": [
      "tensor(11.2858) samples\n",
      "tensor(11.2890) random\n",
      "tensor(11.2621) GG\n",
      "tensor(11.2623) vine\n",
      "tensor(11.2596) observations\n"
     ]
    }
   ],
   "source": [
    "#### Energy Score (10 steps after GG)\n",
    "print(Energy_Score_pytorch(1,X_test.reshape(-1,64),torch.tensor(samples).float()),'samples')\n",
    "print(Energy_Score_pytorch(1,X_test.reshape(-1,64),torch.randn(5000,64).float()),'random')\n",
    "print(Energy_Score_pytorch(1,X_test.reshape(-1,64),torch.tensor(GG_samples).float()),'GG')\n",
    "print(Energy_Score_pytorch(1,X_test.reshape(-1,64),torch.tensor(scs.norm.ppf(cop_sample)).float()),'vine')\n",
    "print(Energy_Score_pytorch(1,X_test.reshape(-1,64),X_train.reshape(-1,64)),'observations')"
   ]
  },
  {
   "cell_type": "code",
   "execution_count": 217,
   "metadata": {},
   "outputs": [
    {
     "name": "stdout",
     "output_type": "stream",
     "text": [
      "tensor(8.2756) ratio samples\n",
      "tensor(9.0207) random\n",
      "tensor(8.1130) GG\n",
      "tensor(8.4209) vine\n",
      "tensor(7.3906) observations\n"
     ]
    }
   ],
   "source": [
    "#### Wasserstein 2 (10 steps after GG)\n",
    "print(W2(X_test.reshape(-1,64).float(),torch.tensor(samples).float(),),'ratio samples')\n",
    "print(W2(X_test.reshape(-1,64).float(),torch.randn(5000,64).float()),'random')\n",
    "print(W2(X_test.reshape(-1,64).float(),torch.tensor(GG_samples).float()),'GG')\n",
    "print(W2(X_test.reshape(-1,64).float(),torch.tensor(scs.norm.ppf(cop_sample)).float()),'vine')\n",
    "print(W2(X_test.reshape(-1,64).float(),X_train.reshape(-1,64).float()),'observations')"
   ]
  },
  {
   "cell_type": "code",
   "execution_count": 58,
   "metadata": {},
   "outputs": [
    {
     "name": "stdout",
     "output_type": "stream",
     "text": [
      "tensor(12.9443) samples\n",
      "tensor(11.2621) GG\n",
      "tensor(11.2892) random\n",
      "tensor(11.2596) observations\n"
     ]
    }
   ],
   "source": [
    "print(Energy_Score_pytorch(1,X_test.reshape(-1,64),torch.tensor(samples).float()),'samples')\n",
    "print(Energy_Score_pytorch(1,X_test.reshape(-1,64),torch.tensor(GG_samples).float()),'GG')\n",
    "print(Energy_Score_pytorch(1,X_test.reshape(-1,64),torch.randn(5000,64).float()),'random')\n",
    "print(Energy_Score_pytorch(1,X_test.reshape(-1,64),X_train.reshape(-1,64)),'observations')"
   ]
  },
  {
   "cell_type": "code",
   "execution_count": 322,
   "metadata": {},
   "outputs": [
    {
     "name": "stdout",
     "output_type": "stream",
     "text": [
      "tensor(11.4530) samples\n",
      "tensor(11.2422) GG\n",
      "tensor(11.2690) random\n",
      "tensor(11.2403) observations\n"
     ]
    }
   ],
   "source": [
    "print(Energy_Score_pytorch(1,X_test.reshape(-1,64),torch.tensor(samples).float()),'samples')\n",
    "print(Energy_Score_pytorch(1,X_test.reshape(-1,64),torch.tensor(GG_samples).float()),'GG')\n",
    "print(Energy_Score_pytorch(1,X_test.reshape(-1,64),torch.randn(5000,64).float()),'random')\n",
    "print(Energy_Score_pytorch(1,X_test.reshape(-1,64),X_train.reshape(-1,64)),'observations')"
   ]
  },
  {
   "cell_type": "code",
   "execution_count": 247,
   "metadata": {},
   "outputs": [
    {
     "name": "stdout",
     "output_type": "stream",
     "text": [
      "tensor(11.2689) samples\n",
      "tensor(11.2675) GG\n",
      "tensor(11.2947) random\n",
      "tensor(11.2676) observations\n"
     ]
    }
   ],
   "source": [
    "print(Energy_Score_pytorch(1,X_test.reshape(-1,64),torch.tensor(samples).float()),'samples')\n",
    "print(Energy_Score_pytorch(1,X_test.reshape(-1,64),torch.tensor(GG_samples).float()),'GG')\n",
    "print(Energy_Score_pytorch(1,X_test.reshape(-1,64),torch.randn(5000,64).float()),'random')\n",
    "print(Energy_Score_pytorch(1,X_test.reshape(-1,64),X_train.reshape(-1,64)),'observations')"
   ]
  },
  {
   "cell_type": "markdown",
   "metadata": {},
   "source": [
    "### Simple Ratio"
   ]
  },
  {
   "cell_type": "code",
   "execution_count": 258,
   "metadata": {},
   "outputs": [
    {
     "name": "stdout",
     "output_type": "stream",
     "text": [
      "----------------------------------------------------------------\n",
      "        Layer (type)               Output Shape         Param #\n",
      "================================================================\n",
      "           Flatten-1                   [-1, 64]               0\n",
      "            Linear-2                  [-1, 100]           6,500\n",
      "              ReLU-3                  [-1, 100]               0\n",
      "            Linear-4                  [-1, 100]          10,100\n",
      "              ReLU-5                  [-1, 100]               0\n",
      "            Linear-6                    [-1, 1]             101\n",
      "================================================================\n",
      "Total params: 16,701\n",
      "Trainable params: 16,701\n",
      "Non-trainable params: 0\n",
      "----------------------------------------------------------------\n",
      "Input size (MB): 0.00\n",
      "Forward/backward pass size (MB): 0.00\n",
      "Params size (MB): 0.06\n",
      "Estimated Total Size (MB): 0.07\n",
      "----------------------------------------------------------------\n"
     ]
    }
   ],
   "source": [
    "class Ratio_Simple(nn.Module):\n",
    "    def __init__(self, in_shape=(1, 8, 8), normalising_cst=True, c=1.0):\n",
    "        super(Ratio_Simple, self).__init__()\n",
    "        self.normalising_cst = normalising_cst\n",
    "        if self.normalising_cst:\n",
    "            self.c = nn.Parameter(torch.tensor(c))\n",
    "\n",
    "        self.model = nn.Sequential(\n",
    "            nn.Flatten(),\n",
    "            nn.Linear(in_shape[0] * in_shape[1] * in_shape[2], 100),\n",
    "            nn.ReLU(),\n",
    "            nn.Linear(100, 100),\n",
    "            nn.ReLU(),\n",
    "            nn.Linear(100, 1)\n",
    "        )\n",
    "\n",
    "    def forward(self, x):\n",
    "        logits = self.model(x).exp()\n",
    "        if self.normalising_cst:\n",
    "            logits = logits * self.c\n",
    "        return logits\n",
    "\n",
    "\n",
    "# Define model\n",
    "ratio_model = Ratio_Simple()\n",
    "\n",
    "# Print model summary\n",
    "summary(ratio_model, (1, 8, 8))"
   ]
  },
  {
   "cell_type": "code",
   "execution_count": 259,
   "metadata": {},
   "outputs": [
    {
     "name": "stdout",
     "output_type": "stream",
     "text": [
      "Epoch 10/501, Loss: 2.244431635429119, c: 1.0016618967056274\n",
      "Epoch 20/501, Loss: 1.109693496391691, c: 1.0144317150115967\n",
      "Epoch 30/501, Loss: 0.70937402906089, c: 1.0083423852920532\n",
      "Epoch 40/501, Loss: 0.48105793471994074, c: 1.0058248043060303\n",
      "Epoch 50/501, Loss: 0.378987898343596, c: 1.0021138191223145\n",
      "Epoch 60/501, Loss: 0.26448320263418656, c: 0.9986446499824524\n",
      "Epoch 70/501, Loss: 0.2578981464792942, c: 0.996145486831665\n",
      "Epoch 80/501, Loss: 0.16404327930047594, c: 0.994384765625\n",
      "Epoch 90/501, Loss: 0.15903485874677525, c: 0.9921455979347229\n",
      "Epoch 100/501, Loss: 0.13853582033309444, c: 0.9912807941436768\n",
      "Epoch 110/501, Loss: 0.16287757803140016, c: 0.9895222187042236\n",
      "Epoch 120/501, Loss: 0.10169736944652837, c: 0.9869585037231445\n",
      "Epoch 130/501, Loss: 0.11432863553536349, c: 0.9849940538406372\n",
      "Epoch 140/501, Loss: 0.10356004433385257, c: 0.9861159920692444\n",
      "Epoch 150/501, Loss: 0.10508841886345682, c: 0.9822591543197632\n",
      "Epoch 160/501, Loss: 0.11192089126541696, c: 0.9803228378295898\n",
      "Epoch 170/501, Loss: 0.08243146333201178, c: 0.9762631058692932\n",
      "Epoch 180/501, Loss: 0.057101373095065355, c: 0.9742323160171509\n",
      "Epoch 190/501, Loss: 0.06722800664860627, c: 0.9743548035621643\n",
      "Epoch 200/501, Loss: 0.07339677323812041, c: 0.9758728742599487\n",
      "Epoch 210/501, Loss: 0.061873798836664905, c: 0.9737048745155334\n",
      "Epoch 220/501, Loss: 0.08931782501267976, c: 0.9732064604759216\n",
      "Epoch 230/501, Loss: 0.06178006305006044, c: 0.9729524254798889\n",
      "Epoch 240/501, Loss: 0.05939386686278057, c: 0.9696288108825684\n",
      "Epoch 250/501, Loss: 0.05998311744167887, c: 0.967147171497345\n",
      "Epoch 260/501, Loss: 0.09995044610495198, c: 0.967768669128418\n",
      "Epoch 270/501, Loss: 0.06783871357489762, c: 0.9662737250328064\n",
      "Epoch 280/501, Loss: 0.04251713219002403, c: 0.9627138376235962\n",
      "Epoch 290/501, Loss: 0.06043375137559106, c: 0.9635564088821411\n",
      "Epoch 300/501, Loss: 0.07343460555220473, c: 0.9659821391105652\n",
      "Epoch 310/501, Loss: 0.057762225576002024, c: 0.964133083820343\n",
      "Epoch 320/501, Loss: 0.07192890681647535, c: 0.9659097194671631\n",
      "Epoch 330/501, Loss: 0.054186890463762245, c: 0.963141679763794\n",
      "Epoch 340/501, Loss: 0.043072774267659104, c: 0.965930163860321\n",
      "Epoch 350/501, Loss: 0.14665740468250266, c: 0.9620698094367981\n",
      "Epoch 360/501, Loss: 0.061277801909580314, c: 0.9600692391395569\n",
      "Epoch 370/501, Loss: 0.03814713791783514, c: 0.9602408409118652\n",
      "Epoch 380/501, Loss: 0.032578650071157206, c: 0.9605129957199097\n",
      "Epoch 390/501, Loss: 0.03524659898389002, c: 0.9580137729644775\n",
      "Epoch 400/501, Loss: 0.034101326982009, c: 0.9590418338775635\n",
      "Epoch 410/501, Loss: 0.03503822838759114, c: 0.9562617540359497\n",
      "Epoch 420/501, Loss: 0.04641791970212141, c: 0.9558984041213989\n",
      "Epoch 430/501, Loss: 0.06135341470483048, c: 0.9591205716133118\n",
      "Epoch 440/501, Loss: 0.04970519178835996, c: 0.9554688930511475\n",
      "Epoch 450/501, Loss: 0.07722291697703848, c: 0.9533324837684631\n",
      "Epoch 460/501, Loss: 0.02909113467542519, c: 0.9505709409713745\n",
      "Epoch 470/501, Loss: 0.03535624474672408, c: 0.9520292282104492\n",
      "Epoch 480/501, Loss: 0.016301848435902905, c: 0.9517157077789307\n",
      "Epoch 490/501, Loss: 0.0641853033629214, c: 0.9495531320571899\n",
      "Epoch 500/501, Loss: 0.033969664819747336, c: 0.9517403841018677\n"
     ]
    }
   ],
   "source": [
    "# training loop for GG Ratio\n",
    "\n",
    "# Define loss function and optimizer\n",
    "optimizer = optim.Adam(ratio_model.parameters())#, lr=0.0002, betas=(0.5, 0.999))\n",
    "\n",
    "# Training loop\n",
    "num_epochs = 501\n",
    "\n",
    "GG_cov = np.cov(X_train.reshape(-1,64).T)\n",
    "GG_noise = torch.tensor(scs.multivariate_normal.rvs(mean=np.zeros(64), cov=GG_cov, size=10*X_train.shape[0]).reshape(-1,1,8,8)).float()\n",
    "\n",
    "for epoch in (range(num_epochs)):\n",
    "    ratio_model.train()\n",
    "    running_loss = 0.0\n",
    "    noise_index = 0 \n",
    "    for inputs, labels in train_loader:\n",
    "        optimizer.zero_grad()\n",
    "        r_p = ratio_model(inputs).squeeze()\n",
    "        r_q = ratio_model(torch.tensor(scs.multivariate_normal.rvs(mean=np.zeros(64), cov=GG_cov, size=10*inputs.shape[0]).reshape(-1,1,8,8)).float()).squeeze()\n",
    "        noise_index += inputs.shape[0]\n",
    "        loss = loss_nce(r_p, r_q,inputs.shape[0], 10*inputs.shape[0])\n",
    "        loss.backward()\n",
    "        optimizer.step()\n",
    "        running_loss += loss.item()\n",
    "\n",
    "    if (epoch+1) % 10 == 0:\n",
    "        print(f\"Epoch {epoch+1}/{num_epochs}, Loss: {running_loss/len(train_loader)}, c: {ratio_model.c.item()}\")"
   ]
  },
  {
   "cell_type": "code",
   "execution_count": 281,
   "metadata": {},
   "outputs": [
    {
     "name": "stdout",
     "output_type": "stream",
     "text": [
      "Epoch 10/501, Loss: 2.5732232085589706, c: 1.0086371898651123\n",
      "Epoch 20/501, Loss: 1.3594865017923816, c: 1.0129189491271973\n",
      "Epoch 30/501, Loss: 0.919487529787524, c: 1.0156917572021484\n",
      "Epoch 40/501, Loss: 0.6556198864147581, c: 1.0167620182037354\n",
      "Epoch 50/501, Loss: 0.4055976980719073, c: 1.018160104751587\n",
      "Epoch 60/501, Loss: 0.35684987388808154, c: 1.0179154872894287\n",
      "Epoch 70/501, Loss: 0.2463508551490718, c: 1.0175544023513794\n",
      "Epoch 80/501, Loss: 0.32911794786823206, c: 1.0171229839324951\n",
      "Epoch 90/501, Loss: 0.25760068384737805, c: 1.017835021018982\n",
      "Epoch 100/501, Loss: 0.1694863811135292, c: 1.0174072980880737\n",
      "Epoch 110/501, Loss: 0.1416092574082572, c: 1.0171546936035156\n",
      "Epoch 120/501, Loss: 0.10750320836387832, c: 1.0171000957489014\n",
      "Epoch 130/501, Loss: 0.2011736906294165, c: 1.016190767288208\n",
      "Epoch 140/501, Loss: 0.09932413363251193, c: 1.0172215700149536\n",
      "Epoch 150/501, Loss: 0.10525948470779534, c: 1.0176230669021606\n",
      "Epoch 160/501, Loss: 0.16195876196283718, c: 1.0176384449005127\n",
      "Epoch 170/501, Loss: 0.30072324594547006, c: 1.0173559188842773\n",
      "Epoch 180/501, Loss: 0.09013415417023773, c: 1.0181025266647339\n",
      "Epoch 190/501, Loss: 0.08199111924603067, c: 1.0159493684768677\n",
      "Epoch 200/501, Loss: 0.3189790417151204, c: 1.0157005786895752\n",
      "Epoch 210/501, Loss: 0.07077109235627897, c: 1.0147655010223389\n",
      "Epoch 220/501, Loss: 0.06124790333982172, c: 1.0152008533477783\n",
      "Epoch 230/501, Loss: 0.08605636627381218, c: 1.0143572092056274\n",
      "Epoch 240/501, Loss: 0.08501529436686943, c: 1.0139012336730957\n",
      "Epoch 250/501, Loss: 0.040023168966431044, c: 1.0135917663574219\n",
      "Epoch 260/501, Loss: 0.08044977245274289, c: 1.0140066146850586\n",
      "Epoch 270/501, Loss: 0.06436265782645807, c: 1.01327645778656\n",
      "Epoch 280/501, Loss: 0.057859952722130154, c: 1.0132925510406494\n",
      "Epoch 290/501, Loss: 0.06165710265009568, c: 1.0147279500961304\n",
      "Epoch 300/501, Loss: 0.0828840930018863, c: 1.0143104791641235\n",
      "Epoch 310/501, Loss: 0.05371332656720589, c: 1.0148224830627441\n",
      "Epoch 320/501, Loss: 0.3685701246662387, c: 1.0129426717758179\n",
      "Epoch 330/501, Loss: 0.03975349581190225, c: 1.0130609273910522\n",
      "Epoch 340/501, Loss: 0.02779037857042818, c: 1.0138256549835205\n",
      "Epoch 350/501, Loss: 0.0428776890601449, c: 1.0123592615127563\n",
      "Epoch 360/501, Loss: 0.04370853004591732, c: 1.0120493173599243\n",
      "Epoch 370/501, Loss: 0.05819472673766572, c: 1.011338472366333\n",
      "Epoch 380/501, Loss: 0.04510069018679446, c: 1.011035442352295\n",
      "Epoch 390/501, Loss: 0.03175973686277224, c: 1.010622262954712\n",
      "Epoch 400/501, Loss: 0.029359487294829612, c: 1.0108016729354858\n",
      "Epoch 410/501, Loss: 0.03732313106543031, c: 1.0111595392227173\n",
      "Epoch 420/501, Loss: 0.1095106090451109, c: 1.0109034776687622\n",
      "Epoch 430/501, Loss: 0.016003702951852102, c: 1.0094082355499268\n",
      "Epoch 440/501, Loss: 0.02279188745687234, c: 1.0111690759658813\n",
      "Epoch 450/501, Loss: 0.04070999757547317, c: 1.0097455978393555\n",
      "Epoch 460/501, Loss: 0.01752650673533308, c: 1.009519338607788\n",
      "Epoch 470/501, Loss: 0.04130432332448404, c: 1.0082403421401978\n",
      "Epoch 480/501, Loss: 0.051243954958346, c: 1.0084446668624878\n",
      "Epoch 490/501, Loss: 0.02669998988155918, c: 1.008784532546997\n",
      "Epoch 500/501, Loss: 0.024090428951051856, c: 1.0094937086105347\n"
     ]
    }
   ],
   "source": [
    "model_GG_CNN = Classifier_Digits()\n",
    "# training loop for GG Ratio\n",
    "\n",
    "# Define loss function and optimizer\n",
    "optimizer = optim.Adam(model_GG_CNN.parameters())#, lr=0.0002, betas=(0.5, 0.999))\n",
    "\n",
    "# Training loop\n",
    "num_epochs = 501\n",
    "\n",
    "GG_cov = np.cov(X_train.reshape(-1,64).T)\n",
    "GG_noise = torch.tensor(scs.multivariate_normal.rvs(mean=np.zeros(64), cov=GG_cov, size=10*X_train.shape[0]).reshape(-1,1,8,8)).float()\n",
    "\n",
    "for epoch in (range(num_epochs)):\n",
    "    model_GG_CNN.train()\n",
    "    running_loss = 0.0\n",
    "    noise_index = 0 \n",
    "    for inputs, labels in train_loader:\n",
    "        optimizer.zero_grad()\n",
    "        r_p = model_GG_CNN(inputs).squeeze()\n",
    "        r_q = model_GG_CNN(torch.tensor(scs.multivariate_normal.rvs(mean=np.zeros(64), cov=GG_cov, size=10*inputs.shape[0]).reshape(-1,1,8,8)).float()).squeeze()\n",
    "        noise_index += inputs.shape[0]\n",
    "        loss = loss_nce(r_p, r_q,inputs.shape[0], 10*inputs.shape[0])\n",
    "        loss.backward()\n",
    "        optimizer.step()\n",
    "        running_loss += loss.item()\n",
    "\n",
    "    if (epoch+1) % 10 == 0:\n",
    "        print(f\"Epoch {epoch+1}/{num_epochs}, Loss: {running_loss/len(train_loader)}, c: {model_GG_CNN.c.item()}\")"
   ]
  },
  {
   "cell_type": "code",
   "execution_count": 282,
   "metadata": {},
   "outputs": [
    {
     "name": "stdout",
     "output_type": "stream",
     "text": [
      "GG CNN ratio alone 9.132304191589355 0.886150598526001\n",
      "GG CNN ratio corrected ; GG_ratio full 23.5766544342041 12.551363945007324\n"
     ]
    }
   ],
   "source": [
    "# GG_CNN_Ratio\n",
    "\n",
    "# Compute GG ratio alone\n",
    "gg_CNN_ratio_train = model_GG_CNN(X_train).log().mean()\n",
    "gg_CNN_ratio_test = model_GG_CNN(X_test).log().mean()\n",
    "\n",
    "# Compute GG ratio corrected\n",
    "gg_CNN_ratio_corrected_train = (GG_correction_train + model_GG_CNN(X_train).log()).mean()\n",
    "gg_CNN_ratio_corrected_test = (GG_correction_test + model_GG_CNN(X_test).log()).mean()\n",
    "\n",
    "# Print the results\n",
    "print('GG CNN ratio alone', gg_CNN_ratio_train.item(), gg_CNN_ratio_test.item())\n",
    "print('GG CNN ratio corrected ; GG_ratio full', gg_CNN_ratio_corrected_train.item(), gg_CNN_ratio_corrected_test.item())"
   ]
  },
  {
   "cell_type": "code",
   "execution_count": 266,
   "metadata": {},
   "outputs": [
    {
     "name": "stdout",
     "output_type": "stream",
     "text": [
      "GG ratio alone 9.308335304260254 -4.693418502807617\n",
      "GG ratio corrected ; GG_ratio full 23.752681732177734 6.971794128417969\n"
     ]
    }
   ],
   "source": [
    "import torch.distributions as dist\n",
    "ratio_model.eval()\n",
    "X_train_flat = X_train.reshape(-1, 64)\n",
    "X_test_flat = X_test.reshape(-1, 64)\n",
    "# Define the multivariate normal distribution with the given covariance matrix\n",
    "GG_cov_tensor = torch.tensor(GG_cov, dtype=torch.float32)\n",
    "multivariate_normal = dist.MultivariateNormal(loc=torch.zeros(64), covariance_matrix=GG_cov_tensor)\n",
    "# Define the standard normal distribution\n",
    "standard_normal = dist.Normal(loc=0, scale=1)\n",
    "# Compute logpdf for the multivariate normal distribution\n",
    "logpdf_multivariate_train = multivariate_normal.log_prob(X_train_flat)\n",
    "logpdf_multivariate_test = multivariate_normal.log_prob(X_test_flat)\n",
    "# Compute logpdf for the standard normal distribution and sum over the dimensions\n",
    "logpdf_standard_train = standard_normal.log_prob(X_train_flat).sum(dim=1)\n",
    "logpdf_standard_test = standard_normal.log_prob(X_test_flat).sum(dim=1)\n",
    "# Compute GG_correction\n",
    "GG_correction_train = logpdf_multivariate_train - logpdf_standard_train\n",
    "GG_correction_test = logpdf_multivariate_test - logpdf_standard_test\n",
    "# Compute means\n",
    "mean_GG_correction_train = GG_correction_train.mean()\n",
    "mean_GG_correction_test = GG_correction_test.mean()\n",
    "\n",
    "# Compute GG ratio alone\n",
    "gg_ratio_train = ratio_model(X_train).log().mean()\n",
    "gg_ratio_test = ratio_model(X_test).log().mean()\n",
    "\n",
    "# Compute GG ratio corrected\n",
    "gg_ratio_corrected_train = (GG_correction_train + ratio_model(X_train).log()).mean()\n",
    "gg_ratio_corrected_test = (GG_correction_test + ratio_model(X_test).log()).mean()\n",
    "\n",
    "# Print the results\n",
    "print('GG ratio alone', gg_ratio_train.item(), gg_ratio_test.item())\n",
    "print('GG ratio corrected ; GG_ratio full', gg_ratio_corrected_train.item(), gg_ratio_corrected_test.item())"
   ]
  },
  {
   "cell_type": "code",
   "execution_count": 239,
   "metadata": {},
   "outputs": [
    {
     "data": {
      "text/plain": [
       "(array(-108.31665039),\n",
       " array([-1.65390551,  3.51264262,  0.31878144, -0.32775736,  0.32050765,\n",
       "         1.27710867, -0.58677059, -0.37025207,  0.04170698, -2.05952358,\n",
       "        -0.2685622 ,  2.91791582, -1.03790593, -4.12060452,  1.70337403,\n",
       "        -0.02391607, -0.87640452, -1.40498686, -0.02932864, -1.74485052,\n",
       "         1.2907362 ,  1.8873111 , -2.38607216, -1.88214684,  0.79137659,\n",
       "         1.3374505 , -0.44994396,  2.10135531, -1.09536636,  1.59071195,\n",
       "        -2.6909709 , -3.40343952, -2.21118569,  1.49575388, -4.32536411,\n",
       "         1.23560727,  1.14836872,  2.67073059, -3.66837549, -0.82111669,\n",
       "        -1.62356234, -1.94162142,  3.70280099,  2.17116189,  3.08886886,\n",
       "        -0.71690273,  1.18300152, -2.04800487, -2.39376044, -4.01386309,\n",
       "        -3.57837439, -2.47166252, -1.1624999 ,  0.48416591,  1.56811404,\n",
       "         0.03077218,  0.42341936,  2.25831151,  0.77050841,  1.1898737 ,\n",
       "        -0.31064945,  1.08196485,  0.47885764, -1.20591688]))"
      ]
     },
     "execution_count": 239,
     "metadata": {},
     "output_type": "execute_result"
    }
   ],
   "source": [
    "def log_GGratio_gauss(x):\n",
    "\n",
    "    x_tensor = torch.tensor(x.reshape(1, 1, 8, 8), dtype=torch.float32, requires_grad=True)\n",
    "    x_flat = x_tensor.reshape(-1, 64)\n",
    "    # define N(Sigma) and N(0,1), then compute on x\n",
    "    GG_cov_tensor = torch.tensor(GG_cov, dtype=torch.float32)\n",
    "    multivariate_normal = dist.MultivariateNormal(loc=torch.zeros(64), covariance_matrix=GG_cov_tensor)\n",
    "    standard_normal = dist.Normal(loc=0, scale=1)\n",
    "    logpdf_multivariate = multivariate_normal.log_prob(x_flat)\n",
    "    logpdf_standard = standard_normal.log_prob(x_flat).sum(dim=1)\n",
    "    gg_correction = logpdf_multivariate - logpdf_standard\n",
    "    # Compute the log of the ratio model\n",
    "    log_ratio = torch.log(ratio_model(x_tensor)).sum()\n",
    "    # Compute the log probability of x under the standard normal distribution\n",
    "    log_prob_standard = standard_normal.log_prob(x_tensor).sum()\n",
    "    # Compute the final function value\n",
    "    fun = log_ratio + gg_correction + log_prob_standard\n",
    "    # Backward pass to compute the gradient\n",
    "    fun.backward()\n",
    "    grad_wrt_x = x_tensor.grad.reshape(1, -1)[0]\n",
    "    \n",
    "    return np.array(fun.item(), dtype=np.float64), np.array(grad_wrt_x.detach().numpy(), dtype=np.float64)\n",
    "\n",
    "log_GGratio_gauss(X_train[0].numpy())"
   ]
  },
  {
   "cell_type": "code",
   "execution_count": 283,
   "metadata": {},
   "outputs": [
    {
     "name": "stderr",
     "output_type": "stream",
     "text": [
      "100%|██████████| 500/500 [04:16<00:00,  1.95it/s]\n"
     ]
    },
    {
     "data": {
      "text/plain": [
       "((500, 64), (500,), (500, 8, 8))"
      ]
     },
     "execution_count": 283,
     "metadata": {},
     "output_type": "execute_result"
    }
   ],
   "source": [
    "# HMC\n",
    "\n",
    "from pyhmc import hmc\n",
    "import torch\n",
    "import numpy as np\n",
    "\n",
    "from tqdm import tqdm\n",
    "\n",
    "def sample_GG_hmc(GG_ratio_model, num_samples, num_runs_hmc, num_burnin):\n",
    "    ''' \n",
    "    Sample from the ratio model with HMC.\n",
    "    \n",
    "    args:\n",
    "        GG_ratio_model: nn.Module - the GG ratio copula model\n",
    "        num_samples: int - the number of samples to generate per HMC run\n",
    "        num_runs_hmc: int - the number of HMC runs, each giving num_samples draws\n",
    "        num_burnin: int - the number of burn-in steps for a single HMC run\n",
    "    \n",
    "    returns:\n",
    "        samples,log_pdf with\n",
    "        samples: np.array - the generated samples of shape (num_runs_hmc*num_samples, 64)\n",
    "        log_pdf: np.array - the log-pdf of the samples of shape (num_runs_hmc*num_samples,)\n",
    "    '''\n",
    "    GG_ratio_model.eval()\n",
    "    def log_GGratio_gauss(x):\n",
    "        # compute the top part of a GG_ratio copula logpdf and the gradients of that\n",
    "        x_tensor = torch.tensor(x.reshape(1, 1, 8, 8), dtype=torch.float32, requires_grad=True)\n",
    "        x_flat = x_tensor.reshape(-1, 64)\n",
    "        # define N(Sigma) and N(0,1), then compute on x\n",
    "        GG_cov_tensor = torch.tensor(GG_cov, dtype=torch.float32)\n",
    "        multivariate_normal = dist.MultivariateNormal(loc=torch.zeros(64), covariance_matrix=GG_cov_tensor)\n",
    "        standard_normal = dist.Normal(loc=0, scale=1)\n",
    "        logpdf_multivariate = multivariate_normal.log_prob(x_flat)\n",
    "        logpdf_standard = standard_normal.log_prob(x_flat).sum(dim=1)\n",
    "        gg_correction = logpdf_multivariate - logpdf_standard\n",
    "        # Compute the log of the ratio model\n",
    "        log_ratio = torch.log(GG_ratio_model(x_tensor)).sum()\n",
    "        # Compute the log probability of x under the standard normal distribution\n",
    "        log_prob_standard = standard_normal.log_prob(x_tensor).sum()\n",
    "        # Compute the final function value\n",
    "        fun = log_ratio + gg_correction + log_prob_standard\n",
    "        # Backward pass to compute the gradient\n",
    "        fun.backward()\n",
    "        grad_wrt_x = x_tensor.grad.reshape(1, -1)[0]\n",
    "        \n",
    "        return np.array(fun.item(), dtype=np.float64), np.array(grad_wrt_x.detach().numpy(), dtype=np.float64)\n",
    "\n",
    "    samples = np.zeros((num_runs_hmc, num_samples, 64))\n",
    "    log_pdf = np.zeros((num_runs_hmc, num_samples))\n",
    "    x0_noise = np.zeros((num_runs_hmc, 8, 8))\n",
    "    for hmc_run in tqdm( range(num_runs_hmc)):\n",
    "\n",
    "        '''# pick x0 with highest r(x0) from random noise\n",
    "        x0_proposal = torch.randn(1000, 1, 8, 8)\n",
    "        r_noise = model(x0_proposal)\n",
    "        x0_run = x0_proposal[np.argmax(r_noise.detach().numpy().flatten())]    \n",
    "        '''\n",
    "        # pick x0 randomly from N(0,1) \n",
    "        x0_run = torch.randn(1, 1, 8, 8)\n",
    "        '''GG_cov = np.cov(X_train.reshape(-1,64).T)\n",
    "        x0_run_np = scs.multivariate_normal.rvs(mean=np.zeros(64), cov=GG_cov, size=1).reshape(1,1,8,8)\n",
    "        x0_run = torch.tensor(x0_run_np, dtype=torch.float32)'''\n",
    "        samples_, log_pdf_ = hmc(log_GGratio_gauss,\n",
    "                            x0=x0_run.flatten().numpy(),\n",
    "                            n_samples=num_samples,\n",
    "                            return_logp=True,\n",
    "                            n_burn=num_burnin)\n",
    "        \n",
    "        samples[hmc_run] = samples_\n",
    "        log_pdf[hmc_run] = log_pdf_\n",
    "        x0_noise[hmc_run] = x0_run\n",
    "\n",
    "    return samples.reshape(-1,64), log_pdf.reshape(-1), x0_noise\n",
    "\n",
    "samples_simple, log_pdf, x0_noises = sample_GG_hmc(GG_ratio_model=model_GG_CNN, \n",
    "                            num_samples=1, \n",
    "                            num_runs_hmc=500,\n",
    "                            num_burnin=100)\n",
    "samples_simple.shape,log_pdf.shape,x0_noises.shape"
   ]
  },
  {
   "cell_type": "code",
   "execution_count": 262,
   "metadata": {},
   "outputs": [
    {
     "data": {
      "text/plain": [
       "Parameter containing:\n",
       "tensor(0.9526, requires_grad=True)"
      ]
     },
     "execution_count": 262,
     "metadata": {},
     "output_type": "execute_result"
    }
   ],
   "source": [
    "ratio_model.c"
   ]
  },
  {
   "cell_type": "code",
   "execution_count": 287,
   "metadata": {},
   "outputs": [
    {
     "data": {
      "text/plain": [
       "tensor(-4.6934, grad_fn=<MeanBackward0>)"
      ]
     },
     "execution_count": 287,
     "metadata": {},
     "output_type": "execute_result"
    }
   ],
   "source": [
    "ratio_model(X_test).log().mean()"
   ]
  },
  {
   "cell_type": "code",
   "execution_count": 288,
   "metadata": {},
   "outputs": [
    {
     "data": {
      "text/plain": [
       "tensor(-6.0537, grad_fn=<MeanBackward0>)"
      ]
     },
     "execution_count": 288,
     "metadata": {},
     "output_type": "execute_result"
    }
   ],
   "source": [
    "ratio_model(torch.tensor(samples_simple.reshape(-1,1,8,8)).float()).log().mean()"
   ]
  },
  {
   "cell_type": "code",
   "execution_count": 289,
   "metadata": {},
   "outputs": [
    {
     "data": {
      "image/png": "[encoded data removed]",
      "text/plain": [
       "<Figure size 864x576 with 35 Axes>"
      ]
     },
     "metadata": {
      "needs_background": "light"
     },
     "output_type": "display_data"
    }
   ],
   "source": [
    "import matplotlib.pyplot as plt\n",
    "import numpy as np\n",
    "import torch\n",
    "\n",
    "# Create a figure and a set of subplots\n",
    "fig, axes = plt.subplots(5, 7, figsize=(12, 8))\n",
    "fig.suptitle('Samples GGratio from HMC with x0=GG 20 burnin')\n",
    "\n",
    "# Loop through each row\n",
    "for row in range(5):\n",
    "    # Plot the samples in the first 5 columns\n",
    "    for col in range(5):\n",
    "        ax = axes[row, col]\n",
    "        index = row * 5 + col\n",
    "        img = reverse_transform(torch.tensor(samples_simple[index]).reshape(8, 8)).reshape(8, 8)\n",
    "        ax.imshow(img, cmap='gray_r')\n",
    "        ax.axis('off')\n",
    "        ax.set_title(f\"log_pdf: {log_pdf[index]:.2f}\")\n",
    "\n",
    "    # Plot random samples of X_train in the 6th column\n",
    "    ax = axes[row, 5]\n",
    "    random_index = np.random.randint(len(X_train))\n",
    "    img = reverse_transform(X_train[random_index]).reshape(8, 8)\n",
    "    ax.imshow(img, cmap='gray_r')\n",
    "    ax.axis('off')\n",
    "    ax.set_title(\"Random X_train\")\n",
    "\n",
    "    # Plot random samples of N(0,1) in the 7th column\n",
    "    ax = axes[row, 6]\n",
    "    img = reverse_transform(torch.randn(1, 1, 8, 8)).reshape(8, 8)\n",
    "    ax.imshow(img, cmap='gray_r')\n",
    "    ax.axis('off')\n",
    "    ax.set_title(\"Random N(0,1)\")\n",
    "\n",
    "# Adjust layout\n",
    "plt.tight_layout(rect=[0, 0, 1, 0.96])  # Adjust rect to make room for the suptitle\n",
    "plt.show()"
   ]
  },
  {
   "cell_type": "code",
   "execution_count": 290,
   "metadata": {},
   "outputs": [
    {
     "data": {
      "image/png": "[encoded data removed]",
      "text/plain": [
       "<Figure size 432x288 with 1 Axes>"
      ]
     },
     "metadata": {
      "needs_background": "light"
     },
     "output_type": "display_data"
    }
   ],
   "source": [
    "plt.hist(scs.norm.cdf(samples_simple[:,0]),density=True, bins=20)\n",
    "plt.show()"
   ]
  },
  {
   "cell_type": "markdown",
   "metadata": {},
   "source": [
    "### Vine on Digits"
   ]
  },
  {
   "cell_type": "code",
   "execution_count": 49,
   "metadata": {},
   "outputs": [
    {
     "name": "stdout",
     "output_type": "stream",
     "text": [
      "fitted 217.26954007148743\n"
     ]
    }
   ],
   "source": [
    "import pyvinecopulib as pv\n",
    "import time \n",
    "\n",
    "# map X_train to copula scale\n",
    "U = scs.norm.cdf(X_train.reshape(-1,64))\n",
    "\n",
    "start = time.time()\n",
    "controls = pv.FitControlsVinecop(family_set=[pv.BicopFamily.tll],\n",
    "                                                selection_criterion='mbic',\n",
    "                                                nonparametric_method='constant', #KDE-copula\n",
    "                                                nonparametric_mult=10) # bandwidth\n",
    "cop = pv.Vinecop(U, controls=controls)\n",
    "print('fitted',time.time()-start)"
   ]
  },
  {
   "cell_type": "code",
   "execution_count": 50,
   "metadata": {},
   "outputs": [
    {
     "name": "stdout",
     "output_type": "stream",
     "text": [
      "sims 46.63482689857483\n"
     ]
    }
   ],
   "source": [
    "time2 = time.time()\n",
    "cop_sample = cop.simulate(500)\n",
    "print('sims', time.time()-time2)"
   ]
  },
  {
   "cell_type": "code",
   "execution_count": 107,
   "metadata": {},
   "outputs": [
    {
     "name": "stdout",
     "output_type": "stream",
     "text": [
      "tensor(11.3847) samples\n",
      "tensor(11.2747) GG\n",
      "tensor(11.3000) random\n",
      "tensor(11.2768, dtype=torch.float64) vinecop\n",
      "tensor(11.2698) observations\n"
     ]
    }
   ],
   "source": [
    "print(Energy_Score_pytorch(1,X_test.reshape(-1,64),torch.tensor(samples).float()),'samples')\n",
    "print(Energy_Score_pytorch(1,X_test.reshape(-1,64),torch.tensor(GG_samples).float()),'GG')\n",
    "print(Energy_Score_pytorch(1,X_test.reshape(-1,64),torch.randn(5000,64).float()),'random')\n",
    "print(Energy_Score_pytorch(1,X_test.reshape(-1,64),torch.tensor(scs.norm.ppf(cop_sample))),'vinecop')\n",
    "print(Energy_Score_pytorch(1,X_test.reshape(-1,64),X_train.reshape(-1,64)),'observations')"
   ]
  },
  {
   "cell_type": "code",
   "execution_count": 153,
   "metadata": {},
   "outputs": [
    {
     "name": "stdout",
     "output_type": "stream",
     "text": [
      "tensor(3.5504) samples\n",
      "tensor(3.2492) GG\n",
      "tensor(3.2585) random\n",
      "tensor(3.2494, dtype=torch.float64) vinecop\n",
      "tensor(3.2483, dtype=torch.float64) observations\n"
     ]
    }
   ],
   "source": [
    "X_test_cop01 = torch.tensor(scs.norm.cdf(X_test))\n",
    "print(Energy_Score_pytorch(1,X_test_cop01.reshape(-1,64),torch.tensor(scs.norm.cdf(samples)).float()),'samples')\n",
    "print(Energy_Score_pytorch(1,X_test_cop01.reshape(-1,64),torch.tensor(scs.norm.cdf(GG_samples)).float()),'GG')\n",
    "print(Energy_Score_pytorch(1,X_test_cop01.reshape(-1,64),torch.tensor(scs.norm.cdf(torch.randn(5000,64))).float()),'random')\n",
    "print(Energy_Score_pytorch(1,X_test_cop01.reshape(-1,64),torch.tensor(cop_sample)),'vinecop')\n",
    "print(Energy_Score_pytorch(1,X_test_cop01.reshape(-1,64),torch.tensor(scs.norm.cdf(X_train)).reshape(-1,64)),'observations')"
   ]
  },
  {
   "cell_type": "code",
   "execution_count": 53,
   "metadata": {},
   "outputs": [
    {
     "data": {
      "image/png": "[encoded data removed]",
      "text/plain": [
       "<Figure size 864x576 with 35 Axes>"
      ]
     },
     "metadata": {
      "needs_background": "light"
     },
     "output_type": "display_data"
    }
   ],
   "source": [
    "import matplotlib.pyplot as plt\n",
    "import numpy as np\n",
    "import torch\n",
    "\n",
    "# Create a figure and a set of subplots\n",
    "fig, axes = plt.subplots(5, 7, figsize=(12, 8))\n",
    "fig.suptitle('Samples from vine copula with tll-l and b=10')\n",
    "\n",
    "# Loop through each row\n",
    "for row in range(5):\n",
    "    # Plot the samples in the first 5 columns\n",
    "    for col in range(5):\n",
    "        ax = axes[row, col]\n",
    "        index = row * 5 + col\n",
    "        img = reverse_transform(torch.tensor(scs.norm.ppf(cop_sample[index])).reshape(8, 8)).reshape(8, 8)\n",
    "        ax.imshow(img, cmap='gray_r')\n",
    "        ax.axis('off')\n",
    "        #ax.set_title(f\"log_pdf: {log_pdf[index]:.2f}\")\n",
    "\n",
    "    # Plot random samples of X_train in the 6th column\n",
    "    ax = axes[row, 5]\n",
    "    random_index = np.random.randint(len(X_train))\n",
    "    img = reverse_transform(X_train[random_index]).reshape(8, 8)\n",
    "    ax.imshow(img, cmap='gray_r')\n",
    "    ax.axis('off')\n",
    "    ax.set_title(\"Random X_train\")\n",
    "\n",
    "    # Plot random samples of N(0,1) in the 7th column\n",
    "    ax = axes[row, 6]\n",
    "    img = reverse_transform(torch.randn(1, 1, 8, 8)).reshape(8, 8)\n",
    "    ax.imshow(img, cmap='gray_r')\n",
    "    ax.axis('off')\n",
    "    ax.set_title(\"Random N(0,1)\")\n",
    "\n",
    "# Adjust layout\n",
    "plt.tight_layout(rect=[0, 0, 1, 0.96])  # Adjust rect to make room for the suptitle\n",
    "plt.show()"
   ]
  },
  {
   "cell_type": "code",
   "execution_count": 55,
   "metadata": {},
   "outputs": [
    {
     "data": {
      "text/plain": [
       "tensor(12.7969, grad_fn=<MeanBackward0>)"
      ]
     },
     "execution_count": 55,
     "metadata": {},
     "output_type": "execute_result"
    }
   ],
   "source": [
    "model(X_test.float()).log().mean()"
   ]
  },
  {
   "cell_type": "code",
   "execution_count": 59,
   "metadata": {},
   "outputs": [
    {
     "name": "stdout",
     "output_type": "stream",
     "text": [
      "ll 11.510539092639913 time 4.415481328964233\n"
     ]
    }
   ],
   "source": [
    "time3 = time.time()\n",
    "vine_ll = cop.loglik(scs.norm.cdf(X_test.detach().numpy().reshape(-1,64)))\n",
    "print('ll',vine_ll/X_test.shape[0],'time',time.time()-time3)"
   ]
  },
  {
   "cell_type": "markdown",
   "metadata": {},
   "source": [
    "### ICG copula"
   ]
  },
  {
   "cell_type": "code",
   "execution_count": 267,
   "metadata": {},
   "outputs": [],
   "source": [
    "import torch\n",
    "import torch.nn as nn\n",
    "import numpy as np\n",
    "from matplotlib import pyplot as plt\n",
    "import seaborn as sns\n",
    "import scipy.stats as scs\n",
    "from tqdm import tqdm\n",
    "from statsmodels.distributions.empirical_distribution import ECDF\n",
    "\n",
    "\n",
    "class SoftRank(nn.Module):\n",
    "    \"\"\"Differentiable ranking layer\"\"\"\n",
    "    def __init__(self, alpha=1000.0):\n",
    "        super(SoftRank, self).__init__()\n",
    "        self.alpha = alpha # constant for scaling the sigmoid to approximate sign function, larger values ensure better ranking, overflow is handled properly by PyTorch\n",
    "\n",
    "    def forward(self, inputs):\n",
    "        # input is a ?xSxD tensor, we wish to rank the S samples in each dimension per each batch\n",
    "        # output is  ?xSxD tensor where for each dimension the entries are (rank-0.5)/N_rank\n",
    "        x = inputs.unsqueeze(-1) #(?,S,D) -> (?,S,D,1)\n",
    "        x_2 = x.repeat(1, 1, 1, x.shape[1]) # (?,S,D,1) -> (?,S,D,S) (samples are repeated along axis 3, i.e. the last axis)\n",
    "        x_1 = x_2.transpose(1, 3) #  (?,S,D,S) -> (?,S,D,S) (samples are repeated along axis 1)\n",
    "        return torch.transpose(torch.sum(torch.sigmoid(self.alpha*(x_1-x_2)), dim=1), 1, 2)/(torch.tensor(x.shape[1], dtype=torch.float32))\n",
    "\n",
    "\n",
    "class IGC(nn.Module):\n",
    "    \n",
    "    def __init__(self, hidden_size=100, layers_number=2, output_size=2):\n",
    "        super(IGC, self).__init__()\n",
    "        self.dim_latent = 3 * output_size\n",
    "        self.hidden_size = hidden_size\n",
    "        self.layers_nuber = layers_number\n",
    "        self.output_size = output_size\n",
    "        self.linear_in = nn.Linear(in_features=self.dim_latent, out_features=self.hidden_size) \n",
    "        self.linear = nn.Linear(in_features=self.hidden_size, out_features=self.hidden_size)\n",
    "        self.linear_out = nn.Linear(in_features=self.hidden_size, out_features=self.output_size)\n",
    "        self.marginal_cdfs = None\n",
    "        self.ecdf_10e6_samples = None\n",
    "\n",
    "    def forward_train(self, z):\n",
    "        '''\n",
    "        Input noise z with shape (M,dim_latent)\\\\\n",
    "        Outputs (u,v) pairs with shape (M,output_size=2), while ensuring u and v each have uniform marginals.\n",
    "        '''\n",
    "        y = torch.relu(self.linear_in(z))\n",
    "        for layer in range(self.layers_nuber):\n",
    "            y = torch.relu(self.linear(y))\n",
    "        y = self.linear_out(y).unsqueeze(0)\n",
    "        u = SoftRank()(y).squeeze(0)\n",
    "        return u\n",
    "        \n",
    "    def Energy_Score_pytorch(self,beta, observations_y, simulations_Y):\n",
    "        n = len(observations_y)\n",
    "        m = len(simulations_Y)\n",
    "\n",
    "        # First part |Y-y|. Gives the L2 dist scaled by power beta. Is a vector of length n/one value per location.\n",
    "        diff_Y_y = torch.pow(\n",
    "            torch.norm(\n",
    "                (observations_y.unsqueeze(1) -\n",
    "                simulations_Y.unsqueeze(0)).float(),\n",
    "                dim=2,keepdim=True).reshape(-1,1),\n",
    "            beta)\n",
    "\n",
    "        # Second part |Y-Y'|. 2* because pdist counts only once.\n",
    "        diff_Y_Y = 2 * torch.pow(\n",
    "            nn.functional.pdist(simulations_Y),\n",
    "            beta)\n",
    "        Energy = 2 * torch.mean(diff_Y_y) - torch.sum(diff_Y_Y) / (m * (m - 1))\n",
    "        return Energy\n",
    "\n",
    "    def forward(self, n_samples):\n",
    "        ''' \n",
    "        Function to sample from the copula, once training is done.\n",
    "\n",
    "        Input: n_samples - number of samples to generate\n",
    "        Output: torch.tensor of shape (n_samples, output_size) on copula space.\n",
    "        '''\n",
    "        with torch.no_grad():\n",
    "            if self.marginal_cdfs is None:\n",
    "                self.marginal_cdfs = []\n",
    "                # sample 10^6 points from the latent space and compute empirical marginal cdfs\n",
    "                z = torch.randn(10**6, self.dim_latent)\n",
    "                y = torch.relu(self.linear_in(z))\n",
    "                for layer in range(self.layers_nuber):\n",
    "                    y = torch.relu(self.linear(y))\n",
    "                y = self.linear_out(y) # samples used to approximate cdfs\n",
    "                for dim in range(y.shape[1]):\n",
    "                    ecdf = ECDF(y[:, dim].numpy())\n",
    "                    self.marginal_cdfs.append(ecdf)\n",
    "                self.ecdf_10e6_samples = y\n",
    "            # sample the latent space and apply ecdfs\n",
    "            z = torch.randn(n_samples, self.dim_latent)\n",
    "            y = torch.relu(self.linear_in(z))\n",
    "            for layer in range(self.layers_nuber):\n",
    "                y = torch.relu(self.linear(y))\n",
    "            y = self.linear_out(y)\n",
    "            for dim in range(y.shape[1]):\n",
    "                y[:, dim] = torch.tensor(self.marginal_cdfs[dim](y[:, dim].numpy()), dtype=torch.float32)\n",
    "            return y\n",
    "\n"
   ]
  },
  {
   "cell_type": "code",
   "execution_count": 268,
   "metadata": {},
   "outputs": [],
   "source": [
    "X_train_cop = torch.tensor(scs.norm.cdf(X_train.reshape(-1,64)),dtype=torch.float32).clip(1e-5,1-1e-5)\n"
   ]
  },
  {
   "cell_type": "code",
   "execution_count": 269,
   "metadata": {},
   "outputs": [
    {
     "name": "stderr",
     "output_type": "stream",
     "text": [
      "100%|██████████| 501/501 [00:30<00:00, 16.35it/s]\n"
     ]
    },
    {
     "data": {
      "text/plain": [
       "[<matplotlib.lines.Line2D at 0x23c707d3b20>]"
      ]
     },
     "execution_count": 269,
     "metadata": {},
     "output_type": "execute_result"
    },
    {
     "data": {
      "image/png": "[encoded data removed]",
      "text/plain": [
       "<Figure size 432x288 with 1 Axes>"
      ]
     },
     "metadata": {
      "needs_background": "light"
     },
     "output_type": "display_data"
    }
   ],
   "source": [
    "igc_cop = IGC(hidden_size=100, layers_number=2, output_size=64)\n",
    "\n",
    "u_obs = X_train_cop\n",
    "\n",
    "optimizer = torch.optim.Adam(igc_cop.parameters())\n",
    "loss_hist = []\n",
    "\n",
    "for i in tqdm(range(501)):\n",
    "    optimizer.zero_grad()\n",
    "    u = igc_cop.forward_train(torch.randn((200, igc_cop.dim_latent)))\n",
    "    loss = igc_cop.Energy_Score_pytorch(1, u_obs[np.random.choice(range(u_obs.shape[0]),100,replace=True)], u)\n",
    "    loss.backward()\n",
    "    optimizer.step()\n",
    "    loss_hist.append(loss.item())\n",
    "\n",
    "plt.plot(loss_hist)"
   ]
  },
  {
   "cell_type": "code",
   "execution_count": 270,
   "metadata": {},
   "outputs": [],
   "source": [
    "samples_cdf = igc_cop.forward(500).detach().numpy()\n"
   ]
  },
  {
   "cell_type": "code",
   "execution_count": 271,
   "metadata": {},
   "outputs": [
    {
     "data": {
      "image/png": "[encoded data removed]",
      "text/plain": [
       "<Figure size 864x576 with 35 Axes>"
      ]
     },
     "metadata": {
      "needs_background": "light"
     },
     "output_type": "display_data"
    }
   ],
   "source": [
    "import matplotlib.pyplot as plt\n",
    "import numpy as np\n",
    "import torch\n",
    "\n",
    "# Create a figure and a set of subplots\n",
    "fig, axes = plt.subplots(5, 7, figsize=(12, 8))\n",
    "fig.suptitle('Samples from IGC')\n",
    "\n",
    "# Loop through each row\n",
    "for row in range(5):\n",
    "    # Plot the samples in the first 5 columns\n",
    "    for col in range(5):\n",
    "        ax = axes[row, col]\n",
    "        index = row * 5 + col\n",
    "        img = reverse_transform(torch.tensor(scs.norm.ppf(samples_cdf[index])).reshape(8, 8)).reshape(8, 8)\n",
    "        ax.imshow(img, cmap='gray_r')\n",
    "        ax.axis('off')\n",
    "        #ax.set_title(f\"log_pdf: {log_pdf[index]:.2f}\")\n",
    "\n",
    "    # Plot random samples of X_train in the 6th column\n",
    "    ax = axes[row, 5]\n",
    "    random_index = np.random.randint(len(X_train))\n",
    "    img = reverse_transform(X_train[random_index]).reshape(8, 8)\n",
    "    ax.imshow(img, cmap='gray_r')\n",
    "    ax.axis('off')\n",
    "    ax.set_title(\"Random X_train\")\n",
    "\n",
    "    # Plot random samples of N(0,1) in the 7th column\n",
    "    ax = axes[row, 6]\n",
    "    img = reverse_transform(torch.randn(1, 1, 8, 8)).reshape(8, 8)\n",
    "    ax.imshow(img, cmap='gray_r')\n",
    "    ax.axis('off')\n",
    "    ax.set_title(\"Random N(0,1)\")\n",
    "\n",
    "# Adjust layout\n",
    "plt.tight_layout(rect=[0, 0, 1, 0.96])  # Adjust rect to make room for the suptitle\n",
    "plt.show()"
   ]
  },
  {
   "cell_type": "code",
   "execution_count": 28,
   "metadata": {},
   "outputs": [
    {
     "name": "stderr",
     "output_type": "stream",
     "text": [
      "c:\\Users\\david\\AppData\\Local\\Programs\\Python\\Python39\\lib\\site-packages\\ot\\backend.py:2998: UserWarning: To use TensorflowBackend, you need to activate the tensorflow numpy API. You can activate it by running: \n",
      "from tensorflow.python.ops.numpy_ops import np_config\n",
      "np_config.enable_numpy_behavior()\n",
      "  register_backend(TensorflowBackend())\n"
     ]
    }
   ],
   "source": [
    "def Energy_Score_pytorch(beta, observations_y, simulations_Y):\n",
    "    m = len(simulations_Y)\n",
    "\n",
    "    # First part |Y-y|. Gives the L2 dist scaled by power beta. Is a vector of length n/one value per location.\n",
    "    diff_Y_y = torch.pow(\n",
    "        torch.norm(\n",
    "            (observations_y.unsqueeze(1) -\n",
    "            simulations_Y.unsqueeze(0)).float(),\n",
    "            dim=2,keepdim=True).reshape(-1,1),\n",
    "        beta)\n",
    "\n",
    "    # Second part |Y-Y'|. 2* because pdist counts only once.\n",
    "    diff_Y_Y = 2 * torch.pow(\n",
    "        nn.functional.pdist(simulations_Y),\n",
    "        beta)\n",
    "    Energy = 2 * torch.mean(diff_Y_y) - torch.sum(diff_Y_Y) / (m * (m - 1))\n",
    "    return Energy\n",
    "import ot\n",
    "\n",
    "def W2(x,y):\n",
    "    return torch.sqrt(ot.emd2(torch.ones(x.shape[0])/x.shape[0], torch.ones(y.shape[0])/y.shape[0], ot.dist(x, y)))"
   ]
  },
  {
   "cell_type": "code",
   "execution_count": 35,
   "metadata": {},
   "outputs": [
    {
     "data": {
      "image/png": "[encoded data removed]",
      "text/plain": [
       "<Figure size 432x288 with 1 Axes>"
      ]
     },
     "metadata": {
      "needs_background": "light"
     },
     "output_type": "display_data"
    }
   ],
   "source": [
    "plt.hist(scs.norm.cdf(samples_cdf[:,0]),density=True, bins=20)\n",
    "plt.show()"
   ]
  },
  {
   "cell_type": "code",
   "execution_count": 99,
   "metadata": {},
   "outputs": [
    {
     "name": "stdout",
     "output_type": "stream",
     "text": [
      "samples hmc simple\n",
      "samples hmc\n",
      "IGC samples\n",
      "vine\n",
      "random\n",
      "GG\n",
      "observations\n",
      "test\n",
      "data scale\n",
      "Energy Score\n",
      "tensor(10.9078) samples_hmc_simple\n",
      "tensor(10.9109) samples_hmc\n",
      "tensor(10.8406) IGC\n",
      "tensor(10.8514) vine\n",
      "tensor(10.9166) random\n",
      "tensor(10.8517) GG\n",
      "tensor(10.8214) observations\n",
      "Wasserstein 2\n",
      "tensor(6.9640) samples_hmc_simple\n",
      "tensor(7.1044) ratio samples_hmc\n",
      "tensor(6.6789) IGC\n",
      "tensor(7.5321) vine\n",
      "tensor(8.5273) random\n",
      "tensor(7.0491) GG\n",
      "tensor(4.7719) observations\n",
      "Gaussian scale\n",
      "Energy Score\n",
      "tensor(11.3583) samples_hmc\n",
      "tensor(11.2952) samples_hmc\n",
      "tensor(11.2377) IGC\n",
      "tensor(11.2241) vine\n",
      "tensor(11.2503) random\n",
      "tensor(11.2381) GG\n",
      "tensor(11.2252) observations\n",
      "Wasserstein 2\n",
      "tensor(8.6447) samples_hmc\n",
      "tensor(8.2845) ratio samples_hmc\n",
      "tensor(8.0720) IGC\n",
      "tensor(8.5735) vine\n",
      "tensor(9.1770) random\n",
      "tensor(8.3131) GG\n",
      "tensor(7.4011) observations\n"
     ]
    }
   ],
   "source": [
    "# Transform data to unit scale\n",
    "def to_unit_scale(data):\n",
    "    unit_data = scs.norm.cdf(data)\n",
    "    unit_data = np.clip(unit_data, 1e-3, 1 - 1e-3)\n",
    "    return unit_data\n",
    "\n",
    "def check_bad_values(data_):\n",
    "    # Check for NaN, inf or neginf values\n",
    "    num_nan = np.isnan(data_).sum()\n",
    "    num_pos_inf = np.isposinf(data_).sum()\n",
    "    num_neg_inf = np.isneginf(data_).sum()\n",
    "    if num_nan > 0 or num_pos_inf > 0 or num_neg_inf > 0:\n",
    "        print(f\"!!!!!!! Found {num_nan} NaN, {num_pos_inf} +Inf, and {num_neg_inf} -Inf values.\")\n",
    "\n",
    "# Transform data back to data scale using ECDF\n",
    "def to_data_scale(data, ecdf_list):\n",
    "    data_scale = np.zeros_like(data)\n",
    "    for dim in range(data.shape[1]):\n",
    "        data_scale[:, dim] = np.interp(data[:, dim], np.linspace(0, 1, len(ecdf_list[dim].x)), ecdf_list[dim].x)\n",
    "    data_scale = scs.norm.ppf(data_scale)\n",
    "    check_bad_values(data_scale)\n",
    "    return data_scale\n",
    "\n",
    "# Transform samples\n",
    "print('samples hmc simple')\n",
    "samples_unit_simple = to_unit_scale(samples_simple)\n",
    "samples_data_simple = to_data_scale(samples_unit_simple, ecdf_list)\n",
    "\n",
    "print('samples hmc')\n",
    "samples_unit = to_unit_scale(samples)\n",
    "samples_data = to_data_scale(samples_unit, ecdf_list)\n",
    "\n",
    "print('IGC samples')\n",
    "IGC_unit = np.clip(samples_cdf, 1e-3, 1 - 1e-3)\n",
    "IGC_data = to_data_scale(IGC_unit, ecdf_list)\n",
    "IGC_gaussian = torch.tensor(scs.norm.ppf(IGC_unit))\n",
    "print('vine')\n",
    "vine_unit = to_unit_scale(scs.norm.ppf(cop_sample))\n",
    "vine_data = to_data_scale(vine_unit, ecdf_list)\n",
    "\n",
    "print('random')\n",
    "random_unit = to_unit_scale(torch.randn(500, 64).numpy())\n",
    "random_data = to_data_scale(random_unit, ecdf_list)\n",
    "print('GG')\n",
    "GG_cov = np.cov(X_train.reshape(-1,64).T)\n",
    "GG_samples = scs.multivariate_normal.rvs(mean=np.zeros(64), cov=GG_cov, size=500)\n",
    "GG_samples_unit = to_unit_scale(GG_samples)\n",
    "GG_samples_data = to_data_scale(GG_samples_unit, ecdf_list)\n",
    "print('observations')\n",
    "X_train_unit = to_unit_scale(X_train.reshape(-1, 64))\n",
    "X_train_data = to_data_scale(X_train_unit, ecdf_list)\n",
    "print('test')\n",
    "X_test_unit = to_unit_scale(X_test.reshape(-1, 64))\n",
    "X_test_data = torch.tensor(to_data_scale(X_test_unit, ecdf_list))\n",
    "\n",
    "# Compute Energy Score \n",
    "print('data scale')\n",
    "print('Energy Score')\n",
    "print(Energy_Score_pytorch(1, X_test_data.reshape(-1, 64), torch.tensor(samples_data_simple).float()), 'samples_hmc_simple')\n",
    "print(Energy_Score_pytorch(1, X_test_data.reshape(-1, 64), torch.tensor(samples_data).float()), 'samples_hmc')\n",
    "print(Energy_Score_pytorch(1, X_test_data.reshape(-1, 64), torch.tensor(IGC_data).float()), 'IGC')\n",
    "print(Energy_Score_pytorch(1, X_test_data.reshape(-1, 64), torch.tensor(vine_data).float()), 'vine')\n",
    "print(Energy_Score_pytorch(1, X_test_data.reshape(-1, 64), torch.tensor(random_data).float()), 'random')\n",
    "print(Energy_Score_pytorch(1, X_test_data.reshape(-1, 64), torch.tensor(GG_samples_data).float()), 'GG')\n",
    "print(Energy_Score_pytorch(1, X_test_data.reshape(-1, 64), torch.tensor(X_train_data).float()), 'observations')\n",
    "\n",
    "# Compute Wasserstein 2\n",
    "print('Wasserstein 2')\n",
    "print(W2(X_test_data.reshape(-1, 64).float(), torch.tensor(samples_data_simple).float()), 'samples_hmc_simple')\n",
    "print(W2(X_test_data.reshape(-1, 64).float(), torch.tensor(samples_data).float()), 'ratio samples_hmc')\n",
    "print(W2(X_test_data.reshape(-1, 64).float(), torch.tensor(IGC_data).float()), 'IGC')\n",
    "print(W2(X_test_data.reshape(-1, 64).float(), torch.tensor(vine_data).float()), 'vine')\n",
    "print(W2(X_test_data.reshape(-1, 64).float(), torch.tensor(random_data).float()), 'random')\n",
    "print(W2(X_test_data.reshape(-1, 64).float(), torch.tensor(GG_samples_data).float()), 'GG')\n",
    "print(W2(X_test_data.reshape(-1, 64).float(), torch.tensor(X_train_data).float()), 'observations')\n",
    "\n",
    "\n",
    "#### Energy Score\n",
    "print('Gaussian scale')\n",
    "print('Energy Score')\n",
    "print(Energy_Score_pytorch(1,X_test.reshape(-1,64),torch.tensor(samples_simple).float()),'samples_hmc')\n",
    "print(Energy_Score_pytorch(1,X_test.reshape(-1,64),torch.tensor(samples).float()),'samples_hmc')\n",
    "print(Energy_Score_pytorch(1,X_test.reshape(-1,64),IGC_gaussian.float()),'IGC')\n",
    "print(Energy_Score_pytorch(1,X_test.reshape(-1,64),torch.tensor(scs.norm.ppf(cop_sample)).float()),'vine')\n",
    "print(Energy_Score_pytorch(1,X_test.reshape(-1,64),torch.randn(500,64).float()),'random')\n",
    "print(Energy_Score_pytorch(1,X_test.reshape(-1,64),torch.tensor(GG_samples).float()),'GG')\n",
    "print(Energy_Score_pytorch(1,X_test.reshape(-1,64),X_train.reshape(-1,64)),'observations')\n",
    "\n",
    "#### Wasserstein 2\n",
    "print('Wasserstein 2')\n",
    "print(W2(X_test.reshape(-1,64).float(),torch.tensor(samples_simple).float()),'samples_hmc')\n",
    "print(W2(X_test.reshape(-1,64).float(),torch.tensor(samples).float()),'ratio samples_hmc')\n",
    "print(W2(X_test.reshape(-1,64).float(),IGC_gaussian.float(),),'IGC')\n",
    "print(W2(X_test.reshape(-1,64).float(),torch.tensor(scs.norm.ppf(cop_sample)).float()),'vine')\n",
    "print(W2(X_test.reshape(-1,64).float(),torch.randn(500,64).float()),'random')\n",
    "print(W2(X_test.reshape(-1,64).float(),torch.tensor(GG_samples).float()),'GG')\n",
    "print(W2(X_test.reshape(-1,64).float(),X_train.reshape(-1,64).float()),'observations')\n"
   ]
  },
  {
   "cell_type": "code",
   "execution_count": 291,
   "metadata": {},
   "outputs": [
    {
     "name": "stdout",
     "output_type": "stream",
     "text": [
      "samples hmc simple\n",
      "samples hmc\n",
      "IGC samples\n",
      "vine\n",
      "random\n",
      "GG\n",
      "observations\n",
      "test\n",
      "data scale\n",
      "Energy Score [tensor(11.0016), tensor(10.9109), tensor(10.8379), tensor(10.8514), tensor(10.9114), tensor(10.8457), tensor(10.8214)]\n",
      "Wasserstein 2 [tensor(6.5246), tensor(7.1044), tensor(6.7563), tensor(7.5321), tensor(8.5355), tensor(7.0323), tensor(4.7719)]\n",
      "Gaussian scale\n",
      "Energy Score [tensor(11.3636), tensor(11.2952), tensor(11.2300), tensor(11.2241), tensor(11.2534), tensor(11.2271), tensor(11.2252)]\n",
      "Wasserstein 2 [tensor(8.0461), tensor(8.2845), tensor(8.1308), tensor(8.5735), tensor(9.2036), tensor(8.3058), tensor(7.4011)]\n"
     ]
    }
   ],
   "source": [
    "# Transform data to unit scale\n",
    "def to_unit_scale(data):\n",
    "    unit_data = scs.norm.cdf(data)\n",
    "    unit_data = np.clip(unit_data, 1e-3, 1 - 1e-3)\n",
    "    return unit_data\n",
    "\n",
    "def check_bad_values(data_):\n",
    "    # Check for NaN, inf or neginf values\n",
    "    num_nan = np.isnan(data_).sum()\n",
    "    num_pos_inf = np.isposinf(data_).sum()\n",
    "    num_neg_inf = np.isneginf(data_).sum()\n",
    "    if num_nan > 0 or num_pos_inf > 0 or num_neg_inf > 0:\n",
    "        print(f\"!!!!!!! Found {num_nan} NaN, {num_pos_inf} +Inf, and {num_neg_inf} -Inf values.\")\n",
    "\n",
    "# Transform data back to data scale using ECDF\n",
    "def to_data_scale(data, ecdf_list):\n",
    "    data_scale = np.zeros_like(data)\n",
    "    for dim in range(data.shape[1]):\n",
    "        data_scale[:, dim] = np.interp(data[:, dim], np.linspace(0, 1, len(ecdf_list[dim].x)), ecdf_list[dim].x)\n",
    "    data_scale = scs.norm.ppf(data_scale)\n",
    "    check_bad_values(data_scale)\n",
    "    return data_scale\n",
    "\n",
    "# Transform samples\n",
    "print('samples hmc simple')\n",
    "samples_unit_simple = to_unit_scale(samples_simple)\n",
    "samples_data_simple = to_data_scale(samples_unit_simple, ecdf_list)\n",
    "\n",
    "print('samples hmc')\n",
    "samples_unit = to_unit_scale(samples)\n",
    "samples_data = to_data_scale(samples_unit, ecdf_list)\n",
    "\n",
    "print('IGC samples')\n",
    "IGC_unit = np.clip(samples_cdf, 1e-3, 1 - 1e-3)\n",
    "IGC_data = to_data_scale(IGC_unit, ecdf_list)\n",
    "IGC_gaussian = torch.tensor(scs.norm.ppf(IGC_unit))\n",
    "\n",
    "print('vine')\n",
    "vine_unit = to_unit_scale(scs.norm.ppf(cop_sample))\n",
    "vine_data = to_data_scale(vine_unit, ecdf_list)\n",
    "\n",
    "print('random')\n",
    "random_unit = to_unit_scale(torch.randn(500, 64).numpy())\n",
    "random_data = to_data_scale(random_unit, ecdf_list)\n",
    "\n",
    "print('GG')\n",
    "GG_cov = np.cov(X_train.reshape(-1, 64).T)\n",
    "GG_samples = scs.multivariate_normal.rvs(mean=np.zeros(64), cov=GG_cov, size=500)\n",
    "GG_samples_unit = to_unit_scale(GG_samples)\n",
    "GG_samples_data = to_data_scale(GG_samples_unit, ecdf_list)\n",
    "\n",
    "print('observations')\n",
    "X_train_unit = to_unit_scale(X_train.reshape(-1, 64))\n",
    "X_train_data = to_data_scale(X_train_unit, ecdf_list)\n",
    "\n",
    "print('test')\n",
    "X_test_unit = to_unit_scale(X_test.reshape(-1, 64))\n",
    "X_test_data = torch.tensor(to_data_scale(X_test_unit, ecdf_list))\n",
    "\n",
    "# Compute Energy Score \n",
    "Energy_data = []\n",
    "print('data scale')\n",
    "Energy_data.append(Energy_Score_pytorch(1, X_test_data.reshape(-1, 64), torch.tensor(samples_data_simple).float()))\n",
    "Energy_data.append(Energy_Score_pytorch(1, X_test_data.reshape(-1, 64), torch.tensor(samples_data).float()))\n",
    "Energy_data.append(Energy_Score_pytorch(1, X_test_data.reshape(-1, 64), torch.tensor(IGC_data).float()))\n",
    "Energy_data.append(Energy_Score_pytorch(1, X_test_data.reshape(-1, 64), torch.tensor(vine_data).float()))\n",
    "Energy_data.append(Energy_Score_pytorch(1, X_test_data.reshape(-1, 64), torch.tensor(random_data).float()))\n",
    "Energy_data.append(Energy_Score_pytorch(1, X_test_data.reshape(-1, 64), torch.tensor(GG_samples_data).float()))\n",
    "Energy_data.append(Energy_Score_pytorch(1, X_test_data.reshape(-1, 64), torch.tensor(X_train_data).float()))\n",
    "print('Energy Score', Energy_data)\n",
    "\n",
    "# Compute Wasserstein 2\n",
    "Wasserstein_data = []\n",
    "Wasserstein_data.append(W2(X_test_data.reshape(-1, 64).float(), torch.tensor(samples_data_simple).float()))\n",
    "Wasserstein_data.append(W2(X_test_data.reshape(-1, 64).float(), torch.tensor(samples_data).float()))\n",
    "Wasserstein_data.append(W2(X_test_data.reshape(-1, 64).float(), torch.tensor(IGC_data).float()))\n",
    "Wasserstein_data.append(W2(X_test_data.reshape(-1, 64).float(), torch.tensor(vine_data).float()))\n",
    "Wasserstein_data.append(W2(X_test_data.reshape(-1, 64).float(), torch.tensor(random_data).float()))\n",
    "Wasserstein_data.append(W2(X_test_data.reshape(-1, 64).float(), torch.tensor(GG_samples_data).float()))\n",
    "Wasserstein_data.append(W2(X_test_data.reshape(-1, 64).float(), torch.tensor(X_train_data).float()))\n",
    "print('Wasserstein 2', Wasserstein_data)\n",
    "\n",
    "#### Energy Score\n",
    "Energy_gaussian = []\n",
    "print('Gaussian scale')\n",
    "Energy_gaussian.append(Energy_Score_pytorch(1, X_test.reshape(-1, 64), torch.tensor(samples_simple).float()))\n",
    "Energy_gaussian.append(Energy_Score_pytorch(1, X_test.reshape(-1, 64), torch.tensor(samples).float()))\n",
    "Energy_gaussian.append(Energy_Score_pytorch(1, X_test.reshape(-1, 64), IGC_gaussian.float()))\n",
    "Energy_gaussian.append(Energy_Score_pytorch(1, X_test.reshape(-1, 64), torch.tensor(scs.norm.ppf(cop_sample)).float()))\n",
    "Energy_gaussian.append(Energy_Score_pytorch(1, X_test.reshape(-1, 64), torch.randn(500, 64).float()))\n",
    "Energy_gaussian.append(Energy_Score_pytorch(1, X_test.reshape(-1, 64), torch.tensor(GG_samples).float()))\n",
    "Energy_gaussian.append(Energy_Score_pytorch(1, X_test.reshape(-1, 64), X_train.reshape(-1, 64)))\n",
    "print('Energy Score', Energy_gaussian)\n",
    "\n",
    "#### Wasserstein 2\n",
    "Wasserstein_gaussian = []\n",
    "Wasserstein_gaussian.append(W2(X_test.reshape(-1, 64).float(), torch.tensor(samples_simple).float()))\n",
    "Wasserstein_gaussian.append(W2(X_test.reshape(-1, 64).float(), torch.tensor(samples).float()))\n",
    "Wasserstein_gaussian.append(W2(X_test.reshape(-1, 64).float(), IGC_gaussian.float()))\n",
    "Wasserstein_gaussian.append(W2(X_test.reshape(-1, 64).float(), torch.tensor(scs.norm.ppf(cop_sample)).float()))\n",
    "Wasserstein_gaussian.append(W2(X_test.reshape(-1, 64).float(), torch.randn(500, 64).float()))\n",
    "Wasserstein_gaussian.append(W2(X_test.reshape(-1, 64).float(), torch.tensor(GG_samples).float()))\n",
    "Wasserstein_gaussian.append(W2(X_test.reshape(-1, 64).float(), X_train.reshape(-1, 64).float()))\n",
    "print('Wasserstein 2', Wasserstein_gaussian)\n"
   ]
  },
  {
   "cell_type": "code",
   "execution_count": 292,
   "metadata": {},
   "outputs": [
    {
     "name": "stderr",
     "output_type": "stream",
     "text": [
      "C:\\Users\\david\\AppData\\Local\\Temp\\ipykernel_544\\2753090525.py:17: UserWarning: set_ticklabels() should only be used with a fixed number of ticks, i.e. after set_ticks() or using a FixedLocator.\n",
      "  ax1.set_xticklabels(labels, rotation=45, ha='right')\n",
      "C:\\Users\\david\\AppData\\Local\\Temp\\ipykernel_544\\2753090525.py:30: UserWarning: set_ticklabels() should only be used with a fixed number of ticks, i.e. after set_ticks() or using a FixedLocator.\n",
      "  ax2.set_xticklabels(labels, rotation=45, ha='right')\n"
     ]
    },
    {
     "data": {
      "image/png": "[encoded data removed]",
      "text/plain": [
       "<Figure size 1008x504 with 2 Axes>"
      ]
     },
     "metadata": {
      "needs_background": "light"
     },
     "output_type": "display_data"
    }
   ],
   "source": [
    "# Labels for the points\n",
    "labels = ['samples_CNN_GG 100burnin hmc', 'samples', 'IGC', 'vine', 'random', 'GG', 'X_train']\n",
    "\n",
    "fig, (ax1, ax2) = plt.subplots(1, 2, figsize=(14, 7))\n",
    "\n",
    "# Scatter plot for Energy Score\n",
    "ax1.scatter(labels, Energy_data, color='blue', label='Data Scale')\n",
    "ax1.scatter(labels, Energy_gaussian, color='red', label='Gaussian Scale')\n",
    "for i, txt in enumerate(Energy_data):\n",
    "    ax1.annotate(f'{txt:.2f}', (labels[i], Energy_data[i]), textcoords=\"offset points\", xytext=(0,10), ha='center')\n",
    "for i, txt in enumerate(Energy_gaussian):\n",
    "    ax1.annotate(f'{txt:.2f}', (labels[i], Energy_gaussian[i]), textcoords=\"offset points\", xytext=(0,10), ha='center')\n",
    "ax1.set_title('Energy Score')\n",
    "ax1.set_xlabel('Samples')\n",
    "ax1.set_ylabel('Energy Score')\n",
    "ax1.legend()\n",
    "ax1.set_xticklabels(labels, rotation=45, ha='right')\n",
    "\n",
    "# Scatter plot for Wasserstein 2 Score\n",
    "ax2.scatter(labels, Wasserstein_data, color='blue', label='Data Scale')\n",
    "ax2.scatter(labels, Wasserstein_gaussian, color='red', label='Gaussian Scale')\n",
    "for i, txt in enumerate(Wasserstein_data):\n",
    "    ax2.annotate(f'{txt:.2f}', (labels[i], Wasserstein_data[i]), textcoords=\"offset points\", xytext=(0,10), ha='center')\n",
    "for i, txt in enumerate(Wasserstein_gaussian):\n",
    "    ax2.annotate(f'{txt:.2f}', (labels[i], Wasserstein_gaussian[i]), textcoords=\"offset points\", xytext=(0,10), ha='center')\n",
    "ax2.set_title('Wasserstein 2 Score')\n",
    "ax2.set_xlabel('Samples')\n",
    "ax2.set_ylabel('Wasserstein 2 Score')\n",
    "ax2.legend()\n",
    "ax2.set_xticklabels(labels, rotation=45, ha='right')\n",
    "\n",
    "plt.tight_layout()\n",
    "plt.show()"
   ]
  },
  {
   "cell_type": "code",
   "execution_count": null,
   "metadata": {},
   "outputs": [],
   "source": []
  }
 ],
 "metadata": {
  "kernelspec": {
   "display_name": "Python 3",
   "language": "python",
   "name": "python3"
  },
  "language_info": {
   "codemirror_mode": {
    "name": "ipython",
    "version": 3
   },
   "file_extension": ".py",
   "mimetype": "text/x-python",
   "name": "python",
   "nbconvert_exporter": "python",
   "pygments_lexer": "ipython3",
   "version": "3.9.10"
  }
 },
 "nbformat": 4,
 "nbformat_minor": 2
}
