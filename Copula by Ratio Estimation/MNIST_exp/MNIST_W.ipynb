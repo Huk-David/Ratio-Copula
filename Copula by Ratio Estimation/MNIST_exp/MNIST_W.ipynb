{
 "cells": [
  {
   "cell_type": "code",
   "execution_count": 80,
   "metadata": {},
   "outputs": [],
   "source": [
    "import numpy as np\n",
    "import torch\n",
    "import scipy.stats as scs\n",
    "from statsmodels.distributions.empirical_distribution import ECDF\n",
    "from sklearn.model_selection import train_test_split\n",
    "from torch.utils.data import DataLoader, TensorDataset, random_split\n",
    "import torch.nn as nn\n",
    "import torch.optim as optim\n",
    "import torch.distributions as dist\n",
    "from pyhmc import hmc"
   ]
  },
  {
   "cell_type": "code",
   "execution_count": 81,
   "metadata": {},
   "outputs": [],
   "source": [
    "# load all mnist data\n",
    "import torchvision.datasets as datasets\n",
    "import torchvision.transforms as transforms\n",
    "\n",
    "np.random.seed(990109)\n",
    "torch.manual_seed(990109)\n",
    "\n",
    "device = torch.device('cuda' if torch.cuda.is_available() else 'cpu')\n",
    "transform = transforms.Compose([transforms.ToTensor(),transforms.Lambda(lambda x: x.view(784))])\n",
    "trainset = datasets.MNIST(root='.', train=True, download=False, transform=transform)\n",
    "data_true = trainset.data.numpy()\n",
    "data_true = data_true.reshape(data_true.shape[0], -1)\n",
    "\n",
    "# Add Gaussian noise to dequentize\n",
    "noise = scs.norm.rvs(0, 0.05, data_true.shape)\n",
    "X_noisy_flat = (data_true + noise)\n",
    "\n",
    "# Apply ECDF transformation\n",
    "X_ecdf = np.zeros_like(X_noisy_flat)\n",
    "ecdf_list = []\n",
    "for dim in (range(X_noisy_flat.shape[1])):\n",
    "    ecdf = ECDF(X_noisy_flat[:, dim])\n",
    "    ecdf_list.append(ecdf)\n",
    "    X_ecdf[:, dim] = np.clip(ecdf(X_noisy_flat[:, dim]), 1e-6, 1 - 1e-6)\n",
    "\n",
    "\n",
    "# Apply inverse of standard normal CDF (ppf)\n",
    "X_gaussian = scs.norm.ppf(X_ecdf).reshape(-1, 28,28)\n",
    "y_gaussian = torch.ones(X_gaussian.shape[0], dtype=torch.long)\n",
    "# make it a tensor with shape (n_samples, n_channels, height, width)\n",
    "X_gaussian = torch.tensor(X_gaussian, dtype=torch.float32).unsqueeze(1)  # Add channel dimension\n",
    "\n",
    "# Split the data into training and testing sets (50/50 split)\n",
    "X_train, X_test, y_train, y_test = train_test_split(X_gaussian, y_gaussian, test_size=0.5, random_state=42)\n",
    "# Create TensorDataset objects\n",
    "train_dataset = TensorDataset(X_train, y_train)\n",
    "test_dataset = TensorDataset(X_test, y_test)\n",
    "# Create DataLoader objects\n",
    "train_loader = DataLoader(train_dataset, batch_size=64, shuffle=True)\n",
    "test_loader = DataLoader(test_dataset, batch_size=64, shuffle=False)\n",
    "\n",
    "\n",
    "def reverse_transform(example):\n",
    "    ''' \n",
    "    Reverse the transformation applied to the data using the ECDFs.\n",
    "    \n",
    "    input:\n",
    "        example: torch.Tensor - the transformed example, of shape (1, 28, 28)\n",
    "\n",
    "    output:\n",
    "        original_example: np.array - the original example, of shape (28, 28)\n",
    "    '''\n",
    "    # Convert the tensor to a numpy array and remove the channel dimension\n",
    "    example = example.squeeze().numpy().reshape(-1)\n",
    "    \n",
    "    # Apply the inverse of the standard normal CDF (ppf)\n",
    "    example = scs.norm.cdf(example)\n",
    "    \n",
    "    # Apply the inverse ECDF transformation\n",
    "    original_example = np.zeros_like(example)\n",
    "    for i in range(len(example)):\n",
    "        ecdf = ecdf_list[i]\n",
    "        original_example[i] = np.interp(example[i], ecdf.y, ecdf.x)\n",
    "    \n",
    "    # Reshape back to the original image shape and denormalize\n",
    "    original_example = original_example.reshape(28, 28) \n",
    "    \n",
    "    return original_example"
   ]
  },
  {
   "cell_type": "code",
   "execution_count": 82,
   "metadata": {},
   "outputs": [],
   "source": [
    "def waymark(data_p, data_q, alpha):\n",
    "\n",
    "    if not isinstance(data_p, torch.Tensor):\n",
    "        data_p = torch.tensor(data_p)\n",
    "    if not isinstance(data_q, torch.Tensor):\n",
    "        data_q = torch.tensor(data_q)\n",
    "    if not isinstance(alpha, torch.Tensor):\n",
    "        alpha = torch.tensor(alpha)\n",
    "\n",
    "    if data_p.shape[0] < data_q.shape[0]:\n",
    "        random_state = np.random.RandomState(42)\n",
    "        data_p_expand_ = data_p[random_state.choice(data_p.shape[0], data_q.shape[0]-data_p.shape[0], replace=True)]\n",
    "        data_p_expand = torch.concatenate([data_p_expand_, data_p])\n",
    "    else:  \n",
    "        data_p_expand = data_p\n",
    "    return torch.sqrt(1 - alpha) * data_p_expand + torch.sqrt(alpha) * data_q\n"
   ]
  },
  {
   "cell_type": "code",
   "execution_count": 178,
   "metadata": {},
   "outputs": [],
   "source": [
    "import torch\n",
    "import torch.nn as nn\n",
    "\n",
    "# Define the ratio copula for MNIST data (28x28 images)\n",
    "class W_ratio_MNIST(nn.Module):\n",
    "    def __init__(self, in_shape=(1, 28, 28), normalising_cst=True, c=1.0, reg_lambda=1e-4, W_num=4):\n",
    "        super(W_ratio_MNIST, self).__init__()\n",
    "        self.normalising_cst = normalising_cst\n",
    "        self.reg_lambda = reg_lambda\n",
    "\n",
    "        if self.normalising_cst:\n",
    "            self.c = nn.ParameterList([nn.Parameter(torch.tensor(c)) for _ in range(W_num)])\n",
    "\n",
    "\n",
    "        self.model = nn.Sequential(\n",
    "            nn.Conv2d(in_shape[0], 64, kernel_size=3, stride=2, padding=1),\n",
    "            nn.LeakyReLU(0.2),\n",
    "            nn.Conv2d(64, 64, kernel_size=3, stride=2, padding=1),\n",
    "            nn.LeakyReLU(0.2),\n",
    "            nn.Flatten(),\n",
    "            nn.Linear(64 * 7 * 7, 100),  # Adjusted for 28x28 input images\n",
    "            nn.LeakyReLU(0.2)\n",
    "        )\n",
    "        self.heads = nn.ModuleList([nn.Linear(100, 1) for _ in range(W_num)])\n",
    "        self.W_num = W_num\n",
    "\n",
    "    def forward(self,x):\n",
    "        log_r = self.model(x)\n",
    "        out = 0\n",
    "        for w_idx,head in enumerate(self.heads):\n",
    "            if self.normalising_cst:\n",
    "                out += head(log_r) + self.c[w_idx].log()\n",
    "            else:\n",
    "                out += head(log_r)\n",
    "        return out\n",
    "    \n",
    "    def forward_train(self,x, w_idx):\n",
    "        log_r = self.model(x)\n",
    "        if self.normalising_cst:\n",
    "            log_r = log_r + self.c[w_idx].log()\n",
    "        return self.heads[w_idx](log_r)\n",
    "\n",
    "    def regularizer_logr(self, logr_p, logr_q):\n",
    "        # Compute the L2 regularization term\n",
    "        return self.reg_lambda * (torch.sum(logr_p ** 2) + torch.sum(logr_q ** 2))\n",
    "\n",
    "\n",
    "#W_ratio.forward_train(torch.randn(1, 1, 28, 28),1)"
   ]
  },
  {
   "cell_type": "code",
   "execution_count": 168,
   "metadata": {},
   "outputs": [
    {
     "name": "stdout",
     "output_type": "stream",
     "text": [
      "Total parameters: 351778\n"
     ]
    }
   ],
   "source": [
    "# Calculate the number of parameters\n",
    "W_ratio = W_ratio_MNIST(W_num=5)\n",
    "\n",
    "total_params = sum(p.numel() for p in W_ratio.parameters())\n",
    "print(f'Total parameters: {total_params}')"
   ]
  },
  {
   "cell_type": "code",
   "execution_count": 169,
   "metadata": {},
   "outputs": [],
   "source": [
    "def loss_nce_logsumexp(logr_p, logr_q,p_size, q_size):\n",
    "    v = q_size / p_size\n",
    "    # Compute log(v + r_p) and log(v + r_q) using logsumexp for numerical stability\n",
    "    log_v = torch.log(torch.tensor(v)) * torch.ones_like(logr_p)\n",
    "    log_v_plus_r_p = torch.logsumexp(torch.stack([log_v, logr_p]), dim=0)\n",
    "    log_v_plus_r_q = torch.logsumexp(torch.stack([log_v, logr_q]), dim=0)\n",
    "    # Compute the loss using the numerically stable logsumexp results\n",
    "    term1 = -(logr_p - log_v_plus_r_p).mean()\n",
    "    term2 = -v * (log_v - log_v_plus_r_q).mean()\n",
    "    \n",
    "    return term1 + term2\n"
   ]
  },
  {
   "cell_type": "code",
   "execution_count": 170,
   "metadata": {},
   "outputs": [],
   "source": [
    "from tqdm import tqdm"
   ]
  },
  {
   "cell_type": "code",
   "execution_count": 171,
   "metadata": {},
   "outputs": [
    {
     "data": {
      "text/plain": [
       "2"
      ]
     },
     "execution_count": 171,
     "metadata": {},
     "output_type": "execute_result"
    }
   ],
   "source": [
    "model_GG_CNN.W_num"
   ]
  },
  {
   "cell_type": "code",
   "execution_count": 173,
   "metadata": {},
   "outputs": [
    {
     "name": "stderr",
     "output_type": "stream",
     "text": [
      " 50%|█████     | 1/2 [00:51<00:51, 51.43s/it]"
     ]
    },
    {
     "name": "stdout",
     "output_type": "stream",
     "text": [
      "Epoch 1/2, Loss: 0.43879357498856003, c: c[0]: 1.0126537084579468, c[1]: 1.0232917070388794, r_p: 11.580338478088379, r_q: -8.78731918334961\n"
     ]
    },
    {
     "name": "stderr",
     "output_type": "stream",
     "text": [
      "100%|██████████| 2/2 [01:45<00:00, 52.78s/it]"
     ]
    },
    {
     "name": "stdout",
     "output_type": "stream",
     "text": [
      "Epoch 2/2, Loss: 0.5032304321080129, c: c[0]: 1.0384507179260254, c[1]: 1.0193778276443481, r_p: 11.77380084991455, r_q: -7.047901630401611\n"
     ]
    },
    {
     "name": "stderr",
     "output_type": "stream",
     "text": [
      "\n"
     ]
    }
   ],
   "source": [
    "\n",
    "\n",
    "def loss_nce(r_p, r_q,p_size, q_size):\n",
    "    v = q_size / p_size\n",
    "    return (-(r_p /(v+r_p)).log()).mean() - v* ((v/(v+r_q)).log().mean()) \n",
    "\n",
    "\n",
    "# Define model\n",
    "model_GG_CNN = W_ratio_MNIST(W_num=2,reg_lambda=1e-10)\n",
    "\n",
    "# Define loss function and optimizer\n",
    "optimizer = optim.Adam(model_GG_CNN.parameters())#, lr=0.0002, betas=(0.5, 0.999))\n",
    "\n",
    "n_indep = 1\n",
    "\n",
    "# Training loop\n",
    "num_epochs = 2\n",
    "\n",
    "GG_cov = np.cov(X_train.reshape(-1,28*28).T)\n",
    "\n",
    "for epoch in tqdm(range(num_epochs)):\n",
    "    model_GG_CNN.train()\n",
    "    running_loss = 0.0\n",
    "    noise_index = 0 \n",
    "\n",
    "    epoch_GG_noise = torch.tensor(scs.multivariate_normal.rvs(mean=np.zeros(28*28), cov=GG_cov, size=100*n_indep).reshape(-1,1,28,28)).float()\n",
    "    for inputs, labels in (train_loader):\n",
    "        for w_idx in range(model_GG_CNN.W_num):\n",
    "            \n",
    "            optimizer.zero_grad()\n",
    "            epoch_GG_noise_here = epoch_GG_noise[np.random.choice(epoch_GG_noise.shape[0], inputs.shape[0], replace=False)]\n",
    "            # 0 is data_p, 1 is data_q\n",
    "            data_p = waymark(inputs, epoch_GG_noise_here, w_idx/model_GG_CNN.W_num)\n",
    "            data_q = waymark(inputs, epoch_GG_noise_here, (w_idx+1)/model_GG_CNN.W_num)\n",
    "\n",
    "            r_p = model_GG_CNN.forward_train(data_p,w_idx).squeeze()\n",
    "            r_q = model_GG_CNN.forward_train(data_q,w_idx).squeeze()\n",
    "            noise_index += inputs.shape[0]\n",
    "            loss = loss_nce_logsumexp(r_p, r_q,data_p.shape[0], data_q.shape[0])\n",
    "            #loss += model_GG_CNN.regularizer_logr(r_p, r_q)\n",
    "            loss.backward()\n",
    "            optimizer.step()\n",
    "            running_loss += loss.item()\n",
    "\n",
    "    if (epoch+1) % 1 == 0:\n",
    "        c_values = ', '.join([f\"c[{idx}]: {param.item()}\" for idx, param in enumerate(model_GG_CNN.c)])\n",
    "\n",
    "        print(f\"Epoch {epoch+1}/{num_epochs}, Loss: {running_loss/len(train_loader)}, c: {c_values}, r_p: {r_p.mean().item()}, r_q: {r_q.mean().item()}\")\n",
    "\n"
   ]
  },
  {
   "cell_type": "code",
   "execution_count": 174,
   "metadata": {},
   "outputs": [
    {
     "name": "stderr",
     "output_type": "stream",
     "text": [
      "100%|██████████| 469/469 [00:08<00:00, 57.32it/s]\n",
      "100%|██████████| 469/469 [00:06<00:00, 70.76it/s]"
     ]
    },
    {
     "name": "stdout",
     "output_type": "stream",
     "text": [
      "GG CNN ratio base train ; GG_ratio base test 40.40473447672526 40.162986584472655\n",
      "GG CNN ratio corrected train ; GG_ratio corrected test 177.91698304443366 176.9623079386394\n"
     ]
    },
    {
     "name": "stderr",
     "output_type": "stream",
     "text": [
      "\n"
     ]
    }
   ],
   "source": [
    "\n",
    "def compute_logpdf_corrections(X, model, batch_size=64):\n",
    "    X_flat = X.reshape(-1, 28*28)\n",
    "    GG_cov = np.cov(X_flat.T)\n",
    "    GG_cov_tensor = torch.tensor(GG_cov, dtype=torch.float32)\n",
    "    multivariate_normal = dist.MultivariateNormal(loc=torch.zeros(28*28), covariance_matrix=GG_cov_tensor)\n",
    "    standard_normal = dist.Normal(loc=0, scale=1)\n",
    "\n",
    "    logpdf_multivariate_sum = 0\n",
    "    logpdf_standard_sum = 0\n",
    "    model_log_sum = 0\n",
    "    total_samples = 0\n",
    "\n",
    "    for i in tqdm(range(0, X.shape[0], batch_size)):\n",
    "        X_batch = X[i:i + batch_size]\n",
    "        X_batch_flat = X_batch.reshape(-1, 28*28)\n",
    "        logpdf_multivariate_sum += multivariate_normal.log_prob(X_batch_flat).sum().item()\n",
    "        logpdf_standard_sum += standard_normal.log_prob(X_batch_flat).sum(dim=1).sum().item()\n",
    "        model_log_sum += model(X_batch).sum().item()\n",
    "        total_samples += X_batch.shape[0]\n",
    "\n",
    "    avg_logpdf_multivariate = logpdf_multivariate_sum / total_samples\n",
    "    avg_logpdf_standard = logpdf_standard_sum / total_samples\n",
    "    avg_model_log = model_log_sum / total_samples\n",
    "\n",
    "    GG_correction = avg_logpdf_multivariate - avg_logpdf_standard\n",
    "    gg_CNN_ratio_corrected = GG_correction + avg_model_log\n",
    "\n",
    "    return gg_CNN_ratio_corrected,avg_model_log\n",
    "\n",
    "model_GG_CNN.eval()\n",
    "\n",
    "# Compute GG ratio corrected for train and test sets\n",
    "gg_CNN_ratio_corrected_train,gg_CNN_ratio_train = compute_logpdf_corrections(X_train, model_GG_CNN)\n",
    "gg_CNN_ratio_corrected_test, gg_CNN_ratio_test = compute_logpdf_corrections(X_test, model_GG_CNN)\n",
    "\n",
    "# Print the results\n",
    "print('GG CNN ratio base train ; GG_ratio base test', gg_CNN_ratio_train, gg_CNN_ratio_test)\n",
    "print('GG CNN ratio corrected train ; GG_ratio corrected test', gg_CNN_ratio_corrected_train, gg_CNN_ratio_corrected_test)\n",
    "\n",
    "# test1 GG CNN ratio corrected train ; GG_ratio corrected test 180.250578092448 179.32892821451833\n"
   ]
  },
  {
   "cell_type": "code",
   "execution_count": 175,
   "metadata": {},
   "outputs": [
    {
     "name": "stderr",
     "output_type": "stream",
     "text": [
      "100%|██████████| 5/5 [01:59<00:00, 23.90s/it]"
     ]
    },
    {
     "name": "stdout",
     "output_type": "stream",
     "text": [
      "(5, 784)\n"
     ]
    },
    {
     "name": "stderr",
     "output_type": "stream",
     "text": [
      "\n"
     ]
    }
   ],
   "source": [
    "\n",
    "# HMC\n",
    "\n",
    "def sample_GG_hmc(GG_ratio_model, num_samples, num_runs_hmc, num_burnin):\n",
    "    ''' \n",
    "    Sample from the ratio model with HMC.\n",
    "    \n",
    "    args:\n",
    "        GG_ratio_model: nn.Module - the GG ratio copula model\n",
    "        num_samples: int - the number of samples to generate per HMC run\n",
    "        num_runs_hmc: int - the number of HMC runs, each giving num_samples draws\n",
    "        num_burnin: int - the number of burn-in steps for a single HMC run\n",
    "    \n",
    "    returns:\n",
    "        samples,log_pdf with\n",
    "        samples: np.array - the generated samples of shape (num_runs_hmc*num_samples, 64)\n",
    "        log_pdf: np.array - the log-pdf of the samples of shape (num_runs_hmc*num_samples,)\n",
    "    '''\n",
    "    GG_ratio_model.eval()\n",
    "    def log_GGratio_gauss(x):\n",
    "        ''' \n",
    "        Compute the log-pdf of the GG_ratio copula model and its gradient at x. \n",
    "        Takes the ratio model and adjusts it by the GG factor to make it into a copula.\n",
    "        '''\n",
    "        # compute the top part of a GG_ratio copula logpdf and the gradients of that\n",
    "        x_tensor = torch.tensor(x.reshape(1, 1, 28, 28), dtype=torch.float32, requires_grad=True)\n",
    "        x_flat = x_tensor.reshape(-1, 28*28)\n",
    "        # define N(Sigma) and N(0,1), then compute on x\n",
    "        GG_cov_tensor = torch.tensor(GG_cov, dtype=torch.float32)\n",
    "        multivariate_normal = dist.MultivariateNormal(loc=torch.zeros(28*28), covariance_matrix=GG_cov_tensor+torch.eye(GG_cov_tensor.size(0))*1e-6)\n",
    "        standard_normal = dist.Normal(loc=0, scale=1)\n",
    "        logpdf_multivariate = multivariate_normal.log_prob(x_flat)\n",
    "        logpdf_standard = standard_normal.log_prob(x_flat).sum(dim=1)\n",
    "        gg_correction = logpdf_multivariate - logpdf_standard\n",
    "        # Compute the log of the ratio model\n",
    "        log_ratio = (GG_ratio_model(x_tensor)).sum()\n",
    "        # Compute the log probability of x under the standard normal distribution\n",
    "        log_prob_standard = standard_normal.log_prob(x_tensor).sum()\n",
    "        # Compute the final function value\n",
    "        fun = log_ratio + gg_correction + log_prob_standard\n",
    "        # Backward pass to compute the gradient\n",
    "        fun.backward()\n",
    "        grad_wrt_x = x_tensor.grad.reshape(1, -1)[0]\n",
    "        \n",
    "        return np.array(fun.item(), dtype=np.float64), np.array(grad_wrt_x.detach().numpy(), dtype=np.float64)\n",
    "\n",
    "    samples = np.zeros((num_runs_hmc, num_samples, 28*28))\n",
    "    log_pdf = np.zeros((num_runs_hmc, num_samples))\n",
    "    x0_noise = np.zeros((num_runs_hmc, 28, 28))\n",
    "    for hmc_run in tqdm( range(num_runs_hmc)):\n",
    "\n",
    "        '''# pick x0 with highest r(x0) from random noise\n",
    "        x0_proposal = torch.randn(1000, 1, 28, 28)\n",
    "        r_noise = model(x0_proposal)\n",
    "        x0_run = x0_proposal[np.argmax(r_noise.detach().numpy().flatten())]    \n",
    "        '''\n",
    "        '''\n",
    "        # pick x0 randomly from N(0,1) \n",
    "        x0_run = torch.randn(1, 1, 28, 28)\n",
    "        '''\n",
    "        '''\n",
    "        # IS from GG\n",
    "        GG_cov = np.cov(X_train.reshape(-1,28*28).T)\n",
    "        x0_run_np = scs.multivariate_normal.rvs(mean=np.zeros(28*28), cov=GG_cov, size=10).reshape(-1,1,28,28)\n",
    "        x0_run = torch.tensor(x0_run_np, dtype=torch.float32)\n",
    "        r_noise = GG_ratio_model(x0_run.reshape(-1,1,28,28))\n",
    "        log_probs = torch.logsumexp(r_noise, dim=0)# Compute logsumexp normalized probabilities\n",
    "        probs = torch.exp(r_noise - log_probs)\n",
    "        x0_run = x0_run[np.random.choice(x0_run.shape[0], 1, replace=False, p = probs.detach().numpy().flatten())]\n",
    "        '''\n",
    "        GG_cov = np.cov(X_train.reshape(-1,28*28).T)\n",
    "        x0_run_np = scs.multivariate_normal.rvs(mean=np.zeros(28*28), cov=GG_cov, size=1).reshape(1,1,28,28)\n",
    "        x0_run = torch.tensor(x0_run_np, dtype=torch.float32)\n",
    "        samples_, log_pdf_ = hmc(log_GGratio_gauss,\n",
    "                            x0=x0_run.flatten().numpy(),\n",
    "                            n_samples=num_samples,\n",
    "                            return_logp=True,\n",
    "                            n_burn=num_burnin)\n",
    "        \n",
    "        samples[hmc_run] = samples_\n",
    "        log_pdf[hmc_run] = log_pdf_\n",
    "        x0_noise[hmc_run] = x0_run\n",
    "\n",
    "    return samples.reshape(-1,28*28), log_pdf.reshape(-1), x0_noise\n",
    "\n",
    "sample_GG_CNN, log_pdf, x0_noises = sample_GG_hmc(GG_ratio_model=model_GG_CNN, \n",
    "                            num_samples=1, \n",
    "                            num_runs_hmc=5,\n",
    "                            num_burnin=500)\n",
    "print(sample_GG_CNN.shape)"
   ]
  },
  {
   "cell_type": "code",
   "execution_count": 176,
   "metadata": {},
   "outputs": [
    {
     "name": "stderr",
     "output_type": "stream",
     "text": [
      "100%|██████████| 5/5 [00:00<00:00, 34.75it/s]\n",
      "100%|██████████| 5/5 [00:00<00:00, 37.93it/s]"
     ]
    },
    {
     "name": "stdout",
     "output_type": "stream",
     "text": [
      "[324.53057861 276.78939819 261.20849609 282.86804199 246.66893005]\n",
      "[200.39352417 171.31181335 157.11408997 131.79295349  82.16965485]\n"
     ]
    },
    {
     "name": "stderr",
     "output_type": "stream",
     "text": [
      "\n"
     ]
    }
   ],
   "source": [
    "def log_GGratio_gauss(GG_ratio_model,x):\n",
    "        ''' \n",
    "        Compute the log-pdf of the GG_ratio copula model and its gradient at x. \n",
    "        Takes the ratio model and adjusts it by the GG factor to make it into a copula.\n",
    "        '''\n",
    "        # compute the top part of a GG_ratio copula logpdf and the gradients of that\n",
    "        x_tensor = x.reshape(1, 1, 28, 28)\n",
    "        x_flat = x_tensor.reshape(-1, 28*28)\n",
    "        # define N(Sigma) and N(0,1), then compute on x\n",
    "        GG_cov_tensor = torch.tensor(GG_cov, dtype=torch.float32)\n",
    "        multivariate_normal = dist.MultivariateNormal(loc=torch.zeros(28*28), covariance_matrix=GG_cov_tensor+torch.eye(GG_cov_tensor.size(0))*1e-6)\n",
    "        standard_normal = dist.Normal(loc=0, scale=1)\n",
    "        logpdf_multivariate = multivariate_normal.log_prob(x_flat)\n",
    "        logpdf_standard = standard_normal.log_prob(x_flat).sum(dim=1)\n",
    "        gg_correction = logpdf_multivariate - logpdf_standard\n",
    "        # Compute the log of the ratio model\n",
    "        log_ratio = (GG_ratio_model(x_tensor)).sum()\n",
    "        # Compute the log probability of x under the standard normal distribution\n",
    "        log_prob_standard = standard_normal.log_prob(x_tensor).sum()\n",
    "        # Compute the final function value\n",
    "        fun = log_ratio + gg_correction #+ log_prob_standard\n",
    "        \n",
    "        return fun.item()\n",
    "\n",
    "sample_pdf = np.array([log_GGratio_gauss(model_GG_CNN,torch.tensor(sample_GG_CNN[k]).float().reshape(-1,1,28,28)) for k in tqdm(range(5))]\n",
    ")\n",
    "sample_pdf #array([129.77880859, 110.35611725, 179.03207397, 127.83757019,125.4307251 ]) with 1k burnin\n",
    "x0_pdf = np.array([log_GGratio_gauss(model_GG_CNN,torch.tensor(x0_noises[k]).float().reshape(-1,1,28,28)) for k in tqdm(range(5))])\n",
    "print(sample_pdf)\n",
    "print(x0_pdf)"
   ]
  },
  {
   "cell_type": "code",
   "execution_count": 179,
   "metadata": {},
   "outputs": [
    {
     "data": {
      "image/png": "[encoded data removed]",
      "text/plain": [
       "<Figure size 1080x432 with 10 Axes>"
      ]
     },
     "metadata": {
      "needs_background": "light"
     },
     "output_type": "display_data"
    }
   ],
   "source": [
    "import matplotlib.pyplot as plt\n",
    "import torch\n",
    "\n",
    "# Assuming reverse_transform, sample_GG_CNN, and x0_noises are already defined\n",
    "\n",
    "fig, axes = plt.subplots(2, 5, figsize=(15, 6))\n",
    "fig.suptitle(\"500 buring hmc N01\", fontsize=16)\n",
    "\n",
    "for i in range(5):\n",
    "    # Top row: true samples\n",
    "    axes[0, i].imshow(reverse_transform(torch.tensor(sample_GG_CNN[i])).reshape(28, 28), cmap='gray')\n",
    "    axes[0, i].axis('off')\n",
    "    axes[0, i].set_title(f'Sample {i+1} logpdf:'+str(int(sample_pdf[i])))\n",
    "\n",
    "    # Bottom row: x0 points\n",
    "    axes[1, i].imshow(reverse_transform(torch.tensor(x0_noises[i])).reshape(28, 28), cmap='gray')\n",
    "    axes[1, i].axis('off')\n",
    "    axes[1, i].set_title(f'x0 {i+1} logpdf:'+str(int(x0_pdf[i])))\n",
    "\n",
    "plt.tight_layout()\n",
    "plt.show()"
   ]
  },
  {
   "cell_type": "code",
   "execution_count": null,
   "metadata": {},
   "outputs": [],
   "source": []
  }
 ],
 "metadata": {
  "kernelspec": {
   "display_name": "Python 3",
   "language": "python",
   "name": "python3"
  },
  "language_info": {
   "codemirror_mode": {
    "name": "ipython",
    "version": 3
   },
   "file_extension": ".py",
   "mimetype": "text/x-python",
   "name": "python",
   "nbconvert_exporter": "python",
   "pygments_lexer": "ipython3",
   "version": "3.9.10"
  }
 },
 "nbformat": 4,
 "nbformat_minor": 2
}
