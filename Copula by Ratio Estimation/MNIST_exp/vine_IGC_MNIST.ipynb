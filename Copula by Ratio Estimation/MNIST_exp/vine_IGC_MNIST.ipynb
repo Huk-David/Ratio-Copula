{
 "cells": [
  {
   "cell_type": "code",
   "execution_count": 3,
   "metadata": {},
   "outputs": [],
   "source": [
    "import numpy as np\n",
    "import torch\n",
    "import scipy.stats as scs\n",
    "from statsmodels.distributions.empirical_distribution import ECDF\n",
    "from sklearn.model_selection import train_test_split\n",
    "from torch.utils.data import DataLoader, TensorDataset, random_split\n",
    "import torch.nn as nn\n",
    "import torch.optim as optim\n",
    "import torch.distributions as dist\n",
    "from pyhmc import hmc\n"
   ]
  },
  {
   "cell_type": "code",
   "execution_count": 7,
   "metadata": {},
   "outputs": [
    {
     "name": "stderr",
     "output_type": "stream",
     "text": [
      "c:\\Users\\david\\AppData\\Local\\Programs\\Python\\Python39\\lib\\site-packages\\ot\\backend.py:2998: UserWarning: To use TensorflowBackend, you need to activate the tensorflow numpy API. You can activate it by running: \n",
      "from tensorflow.python.ops.numpy_ops import np_config\n",
      "np_config.enable_numpy_behavior()\n",
      "  register_backend(TensorflowBackend())\n"
     ]
    }
   ],
   "source": [
    "import ot\n",
    "def W2(x,y):\n",
    "    return torch.sqrt(ot.emd2(torch.ones(x.shape[0])/x.shape[0], torch.ones(y.shape[0])/y.shape[0], ot.dist(x, y)))\n"
   ]
  },
  {
   "cell_type": "code",
   "execution_count": 9,
   "metadata": {},
   "outputs": [],
   "source": [
    "# load all mnist data\n",
    "import torchvision.datasets as datasets\n",
    "import torchvision.transforms as transforms\n",
    "\n",
    "np.random.seed(990109)\n",
    "torch.manual_seed(990109)\n",
    "\n",
    "device = torch.device('cuda' if torch.cuda.is_available() else 'cpu')\n",
    "transform = transforms.Compose([transforms.ToTensor(),transforms.Lambda(lambda x: x.view(784))])\n",
    "trainset = datasets.MNIST(root='.', train=True, download=False, transform=transform)\n",
    "data_true = trainset.data.numpy()\n",
    "data_true = data_true.reshape(data_true.shape[0], -1)\n",
    "\n",
    "# Add Gaussian noise to dequentize\n",
    "noise = scs.norm.rvs(0, 0.05, data_true.shape)\n",
    "X_noisy_flat = (data_true + noise)\n",
    "\n",
    "# Apply ECDF transformation\n",
    "X_ecdf = np.zeros_like(X_noisy_flat)\n",
    "ecdf_list = []\n",
    "for dim in (range(X_noisy_flat.shape[1])):\n",
    "    ecdf = ECDF(X_noisy_flat[:, dim])\n",
    "    ecdf_list.append(ecdf)\n",
    "    X_ecdf[:, dim] = np.clip(ecdf(X_noisy_flat[:, dim]), 1e-6, 1 - 1e-6)\n",
    "\n",
    "\n",
    "\n",
    "# Apply inverse of standard normal CDF (ppf)\n",
    "X_gaussian = scs.norm.ppf(X_ecdf).reshape(-1, 28,28)\n",
    "y_gaussian = torch.ones(X_gaussian.shape[0], dtype=torch.long)\n",
    "# make it a tensor with shape (n_samples, n_channels, height, width)\n",
    "X_gaussian = torch.tensor(X_gaussian, dtype=torch.float32).unsqueeze(1)  # Add channel dimension\n",
    "\n",
    "# Split the data into training and testing sets (50/50 split)\n",
    "X_train, X_test, y_train, y_test = train_test_split(X_gaussian, y_gaussian, test_size=0.5, random_state=42)\n",
    "# Create TensorDataset objects\n",
    "train_dataset = TensorDataset(X_train, y_train)\n",
    "test_dataset = TensorDataset(X_test, y_test)\n",
    "# Create DataLoader objects\n",
    "train_loader = DataLoader(train_dataset, batch_size=64, shuffle=True)\n",
    "test_loader = DataLoader(test_dataset, batch_size=64, shuffle=False)\n"
   ]
  },
  {
   "cell_type": "code",
   "execution_count": 23,
   "metadata": {},
   "outputs": [],
   "source": [
    "from tqdm import tqdm"
   ]
  },
  {
   "cell_type": "code",
   "execution_count": 24,
   "metadata": {},
   "outputs": [
    {
     "name": "stderr",
     "output_type": "stream",
     "text": [
      "100%|██████████| 10/10 [00:35<00:00,  3.60s/it]\n"
     ]
    }
   ],
   "source": [
    "\n",
    "Gauss_LL_mnist = []\n",
    "Gauss_W2_mnist = []\n",
    "for i in tqdm(range(10)):\n",
    "\n",
    "    X_train, X_test, y_train, y_test = train_test_split(X_gaussian, y_gaussian, test_size=0.5, random_state=i)\n",
    "\n",
    "\n",
    "    gauss_cov = np.cov(X_train.reshape(-1, 784).T)\n",
    "    top = (scs.multivariate_normal.logpdf(X_test.reshape(-1, 784), mean=np.zeros(784), cov=gauss_cov+1e-10*np.eye(784)).mean())\n",
    "    bot = (scs.multivariate_normal.logpdf(X_test.reshape(-1, 784), mean=np.zeros(784), cov=np.eye(784)).mean())\n",
    "    Gauss_LL_mnist.append(top-bot)\n",
    "    sims_gauss = scs.multivariate_normal.rvs(mean=np.zeros(784), cov=gauss_cov+1e-10*np.eye(784), size=25)\n",
    "    Gauss_W2_mnist.append(W2(X_test.reshape(-1,28*28).float(),torch.tensor(sims_gauss).reshape(-1,28*28).float()))"
   ]
  },
  {
   "cell_type": "code",
   "execution_count": 25,
   "metadata": {},
   "outputs": [
    {
     "data": {
      "text/plain": [
       "(126.40581628172583, 0.08922217336061473, 37.005146, 0.14709772)"
      ]
     },
     "execution_count": 25,
     "metadata": {},
     "output_type": "execute_result"
    }
   ],
   "source": [
    "np.mean(Gauss_LL_mnist), np.std(Gauss_LL_mnist),np.mean(Gauss_W2_mnist), np.std(Gauss_W2_mnist)"
   ]
  },
  {
   "cell_type": "code",
   "execution_count": 26,
   "metadata": {},
   "outputs": [
    {
     "name": "stderr",
     "output_type": "stream",
     "text": [
      "c:\\Users\\david\\AppData\\Local\\Programs\\Python\\Python39\\lib\\site-packages\\numpy\\core\\fromnumeric.py:3464: RuntimeWarning: Mean of empty slice.\n",
      "  return _methods._mean(a, axis=axis, dtype=dtype,\n",
      "c:\\Users\\david\\AppData\\Local\\Programs\\Python\\Python39\\lib\\site-packages\\numpy\\core\\_methods.py:192: RuntimeWarning: invalid value encountered in scalar divide\n",
      "  ret = ret.dtype.type(ret / rcount)\n",
      "c:\\Users\\david\\AppData\\Local\\Programs\\Python\\Python39\\lib\\site-packages\\numpy\\core\\_methods.py:269: RuntimeWarning: Degrees of freedom <= 0 for slice\n",
      "  ret = _var(a, axis=axis, dtype=dtype, out=out, ddof=ddof,\n",
      "c:\\Users\\david\\AppData\\Local\\Programs\\Python\\Python39\\lib\\site-packages\\numpy\\core\\_methods.py:226: RuntimeWarning: invalid value encountered in divide\n",
      "  arrmean = um.true_divide(arrmean, div, out=arrmean,\n",
      "c:\\Users\\david\\AppData\\Local\\Programs\\Python\\Python39\\lib\\site-packages\\numpy\\core\\_methods.py:261: RuntimeWarning: invalid value encountered in scalar divide\n",
      "  ret = ret.dtype.type(ret / rcount)\n"
     ]
    },
    {
     "data": {
      "text/plain": [
       "(198.38777777777779, 19.72151773389652, nan, nan)"
      ]
     },
     "execution_count": 26,
     "metadata": {},
     "output_type": "execute_result"
    }
   ],
   "source": [
    "GGCNN_LL_mnist = [\n",
    "197.11,\n",
    "203.69,\n",
    "220.88,\n",
    "217.37,\n",
    "164.36,\n",
    "196.70,\n",
    "168.83,\n",
    "194.59,\n",
    "221.96]\n",
    "\n",
    "\n",
    "\n",
    "\n",
    "\n",
    "\n",
    "np.mean(GGCNN_LL_mnist), np.std(GGCNN_LL_mnist)\n"
   ]
  },
  {
   "cell_type": "code",
   "execution_count": 31,
   "metadata": {},
   "outputs": [
    {
     "name": "stderr",
     "output_type": "stream",
     "text": [
      "c:\\Users\\david\\AppData\\Local\\Programs\\Python\\Python39\\lib\\site-packages\\ot\\lp\\__init__.py:571: UserWarning: numItermax reached before optimality. Try to increase numItermax.\n",
      "  check_result(result_code)\n"
     ]
    }
   ],
   "source": [
    "GGCNN_W2_mnist = []\n",
    "\n",
    "\n",
    "for i in range(10):\n",
    "    if i!=1:\n",
    "        samples = np.load(f'final_mnist_GGCNN\\logsumexpGGCNN_HM100burnin_N01_{i}_500epoch_samples_mnist.npy')\n",
    "        GGCNN_W2_mnist.append(W2(X_test.reshape(-1,28*28).float(),torch.tensor(samples).reshape(-1,28*28).float()))"
   ]
  },
  {
   "cell_type": "code",
   "execution_count": 41,
   "metadata": {},
   "outputs": [
    {
     "data": {
      "text/plain": [
       "tensor(36.1432)"
      ]
     },
     "execution_count": 41,
     "metadata": {},
     "output_type": "execute_result"
    }
   ],
   "source": [
    "(W2(X_test.reshape(-1,28*28).float(),torch.tensor(samples).reshape(-1,28*28).float()))"
   ]
  },
  {
   "cell_type": "code",
   "execution_count": 32,
   "metadata": {},
   "outputs": [
    {
     "data": {
      "text/plain": [
       "(36.442356, 0.5050038)"
      ]
     },
     "execution_count": 32,
     "metadata": {},
     "output_type": "execute_result"
    }
   ],
   "source": [
    "np.mean(GGCNN_W2_mnist), np.std(GGCNN_W2_mnist)"
   ]
  },
  {
   "cell_type": "markdown",
   "metadata": {},
   "source": [
    "# Vine"
   ]
  },
  {
   "cell_type": "code",
   "execution_count": 6,
   "metadata": {},
   "outputs": [],
   "source": [
    "import pyvinecopulib as pv\n",
    "import time "
   ]
  },
  {
   "cell_type": "code",
   "execution_count": 7,
   "metadata": {},
   "outputs": [],
   "source": [
    "U = scs.norm.cdf(X_train.reshape(-1,28*28))\n",
    "U_test = scs.norm.cdf(X_test.reshape(-1,28*28))"
   ]
  },
  {
   "cell_type": "code",
   "execution_count": 8,
   "metadata": {},
   "outputs": [
    {
     "data": {
      "text/plain": [
       "0.1793961523747216"
      ]
     },
     "execution_count": 8,
     "metadata": {},
     "output_type": "execute_result"
    }
   ],
   "source": [
    "n= U.shape[0]\n",
    "d=2\n",
    "scott_bdw = (n * (d + 2) / 4.)**(-1. / (d + 4))\n",
    "scott_bdw"
   ]
  },
  {
   "cell_type": "code",
   "execution_count": 26,
   "metadata": {},
   "outputs": [
    {
     "name": "stdout",
     "output_type": "stream",
     "text": [
      "fitted 3074.4022586345673\n",
      "sims 1.364948034286499\n",
      "-logpdf 80.80408310890198\n",
      "180.19220355653488\n"
     ]
    }
   ],
   "source": [
    "\n",
    "\n",
    "\n",
    "start = time.time()\n",
    "controls = pv.FitControlsVinecop(family_set=[pv.BicopFamily.tll],\n",
    "                                                selection_criterion='mbic',\n",
    "                                                nonparametric_method='constant', #KDE-copula\n",
    "                                                nonparametric_mult=scott_bdw,\n",
    "                                                trunc_lvl=10,\n",
    "                                                threshold=0.05, # truntrunc_lvl=5,threshold=0.05 30K mnist -> 33mins train/sample/evals\n",
    "                                                # threshold=0.05, # trunc_lvl=10,threshold=0.05 30K mnist -> 42mins train/sample/evals\n",
    "                                                # threshold=0.05, # trunc_lvl=50,threshold=0.05 30K mnist -> 2h10 train/sample/evals\n",
    "                                                # 140m trctrunc_lvl=5,threshold=0.05 30K mnist 184 LL\n",
    "                                                num_threads = 8) # bandwidth\n",
    "cop = pv.Vinecop(U, controls=controls)\n",
    "print('fitted',time.time()-start)\n",
    "\n",
    "time2 = time.time()\n",
    "cop_sample = cop.simulate(25)\n",
    "print('sims', time.time()-time2)\n",
    "\n",
    "time3 = time.time()\n",
    "cop_logpdf = cop.loglik(U_test)\n",
    "print('-logpdf', time.time()-time3)\n",
    "print(cop_logpdf/U_test.shape[0])"
   ]
  },
  {
   "cell_type": "code",
   "execution_count": 25,
   "metadata": {},
   "outputs": [
    {
     "data": {
      "text/plain": [
       "57.09912940263748"
      ]
     },
     "execution_count": 25,
     "metadata": {},
     "output_type": "execute_result"
    }
   ],
   "source": [
    "3425.947764158249/60"
   ]
  },
  {
   "cell_type": "code",
   "execution_count": 27,
   "metadata": {},
   "outputs": [],
   "source": [
    "# save with numpy\n",
    "np.save('copula_samples_mnist_t10.npy', cop_sample)"
   ]
  },
  {
   "cell_type": "code",
   "execution_count": 12,
   "metadata": {},
   "outputs": [],
   "source": [
    "import matplotlib.pyplot as plt"
   ]
  },
  {
   "cell_type": "code",
   "execution_count": 13,
   "metadata": {},
   "outputs": [],
   "source": [
    "def reverse_transform(example):\n",
    "    ''' \n",
    "    Reverse the transformation applied to the data using the ECDFs.\n",
    "    \n",
    "    input:\n",
    "        example: torch.Tensor - the transformed example, of shape (1, 28, 28)\n",
    "\n",
    "    output:\n",
    "        original_example: np.array - the original example, of shape (28, 28)\n",
    "    '''\n",
    "    # Convert the tensor to a numpy array and remove the channel dimension\n",
    "    example = example.squeeze().numpy().reshape(-1)\n",
    "    \n",
    "    # Apply the inverse of the standard normal CDF (ppf)\n",
    "    example = scs.norm.cdf(example)\n",
    "    \n",
    "    # Apply the inverse ECDF transformation\n",
    "    original_example = np.zeros_like(example)\n",
    "    for i in range(len(example)):\n",
    "        ecdf = ecdf_list[i]\n",
    "        original_example[i] = np.interp(example[i], ecdf.y, ecdf.x)\n",
    "    \n",
    "    # Reshape back to the original image shape and denormalize\n",
    "    original_example = original_example.reshape(28, 28) \n",
    "    \n",
    "    return original_example"
   ]
  },
  {
   "cell_type": "code",
   "execution_count": 29,
   "metadata": {},
   "outputs": [
    {
     "data": {
      "image/png": "[encoded data removed]",
      "text/plain": [
       "<Figure size 648x504 with 30 Axes>"
      ]
     },
     "metadata": {
      "needs_background": "light"
     },
     "output_type": "display_data"
    }
   ],
   "source": [
    "cop_sample_norm = scs.norm.ppf(cop_sample)\n",
    "\n",
    "fig, axes = plt.subplots(5, 6, figsize=(9, 7))\n",
    "fig.suptitle(\" vine copula trc=50, thresh=0.05 train \", fontsize=16)\n",
    "\n",
    "for i in range(5):\n",
    "    for j in range(5):\n",
    "        # First 5 columns: samples_100burn_19epoch\n",
    "        axes[i, j].imshow(reverse_transform(torch.tensor(cop_sample_norm[i * 5 + j])).reshape(28, 28), cmap='gray')\n",
    "        axes[i, j].axis('off')\n",
    "        axes[i, j].set_title(f'Sample {i * 5 + j + 1}')\n",
    "    \n",
    "    # Last column: X_train images\n",
    "    axes[i, 5].imshow(reverse_transform(X_train[i]).reshape(28, 28), cmap='gray')\n",
    "    axes[i, 5].axis('off')\n",
    "    axes[i, 5].set_title(f'X_train {i + 1}')\n",
    "\n",
    "plt.tight_layout()\n",
    "plt.show()"
   ]
  },
  {
   "cell_type": "code",
   "execution_count": 28,
   "metadata": {},
   "outputs": [
    {
     "data": {
      "text/plain": [
       "tensor(37.6602)"
      ]
     },
     "execution_count": 28,
     "metadata": {},
     "output_type": "execute_result"
    }
   ],
   "source": [
    "W2(X_test.reshape(-1,28*28).float(),torch.tensor(cop_sample_norm[:25]).reshape(-1,28*28).float())"
   ]
  },
  {
   "cell_type": "markdown",
   "metadata": {},
   "source": [
    "# IGC"
   ]
  },
  {
   "cell_type": "code",
   "execution_count": 36,
   "metadata": {},
   "outputs": [],
   "source": [
    "\n",
    "    #### IGC model\n",
    "\n",
    "\n",
    "\n",
    "    class SoftRank(nn.Module):\n",
    "        \"\"\"Differentiable ranking layer\"\"\"\n",
    "        def __init__(self, alpha=1000.0):\n",
    "            super(SoftRank, self).__init__()\n",
    "            self.alpha = alpha # constant for scaling the sigmoid to approximate sign function, larger values ensure better ranking, overflow is handled properly by PyTorch\n",
    "\n",
    "        def forward(self, inputs):\n",
    "            # input is a ?xSxD tensor, we wish to rank the S samples in each dimension per each batch\n",
    "            # output is  ?xSxD tensor where for each dimension the entries are (rank-0.5)/N_rank\n",
    "            x = inputs.unsqueeze(-1) #(?,S,D) -> (?,S,D,1)\n",
    "            x_2 = x.repeat(1, 1, 1, x.shape[1]) # (?,S,D,1) -> (?,S,D,S) (samples are repeated along axis 3, i.e. the last axis)\n",
    "            x_1 = x_2.transpose(1, 3) #  (?,S,D,S) -> (?,S,D,S) (samples are repeated along axis 1)\n",
    "            return torch.transpose(torch.sum(torch.sigmoid(self.alpha*(x_1-x_2)), dim=1), 1, 2)/(torch.tensor(x.shape[1], dtype=torch.float32))\n",
    "\n",
    "\n",
    "    class IGC(nn.Module):\n",
    "        \n",
    "        def __init__(self, hidden_size=100, layers_number=2, output_size=2):\n",
    "            super(IGC, self).__init__()\n",
    "            self.dim_latent = 3 * output_size\n",
    "            self.hidden_size = hidden_size\n",
    "            self.layers_nuber = layers_number\n",
    "            self.output_size = output_size\n",
    "            self.linear_in = nn.Linear(in_features=self.dim_latent, out_features=self.hidden_size) \n",
    "            self.linear = nn.Linear(in_features=self.hidden_size, out_features=self.hidden_size)\n",
    "            self.linear_out = nn.Linear(in_features=self.hidden_size, out_features=self.output_size)\n",
    "            self.marginal_cdfs = None\n",
    "            self.ecdf_10e6_samples = None\n",
    "\n",
    "        def forward_train(self, z):\n",
    "            '''\n",
    "            Input noise z with shape (M,dim_latent)\\\\\n",
    "            Outputs (u,v) pairs with shape (M,output_size=2), while ensuring u and v each have uniform marginals.\n",
    "            '''\n",
    "            y = torch.relu(self.linear_in(z))\n",
    "            for layer in range(self.layers_nuber):\n",
    "                y = torch.relu(self.linear(y))\n",
    "            y = self.linear_out(y).unsqueeze(0)\n",
    "            u = SoftRank()(y).squeeze(0)\n",
    "            return u\n",
    "            \n",
    "        def Energy_Score_pytorch(self,beta, observations_y, simulations_Y):\n",
    "            n = len(observations_y)\n",
    "            m = len(simulations_Y)\n",
    "\n",
    "            # First part |Y-y|. Gives the L2 dist scaled by power beta. Is a vector of length n/one value per location.\n",
    "            diff_Y_y = torch.pow(\n",
    "                torch.norm(\n",
    "                    (observations_y.unsqueeze(1) -\n",
    "                    simulations_Y.unsqueeze(0)).float(),\n",
    "                    dim=2,keepdim=True).reshape(-1,1),\n",
    "                beta)\n",
    "\n",
    "            # Second part |Y-Y'|. 2* because pdist counts only once.\n",
    "            diff_Y_Y = 2 * torch.pow(\n",
    "                nn.functional.pdist(simulations_Y),\n",
    "                beta)\n",
    "            Energy = 2 * torch.mean(diff_Y_y) - torch.sum(diff_Y_Y) / (m * (m - 1))\n",
    "            return Energy\n",
    "\n",
    "\n",
    "        def forward(self, n_samples):\n",
    "            ''' \n",
    "            Function to sample from the copula, once training is done.\n",
    "\n",
    "            Input: n_samples - number of samples to generate\n",
    "            Output: torch.tensor of shape (n_samples, output_size) on copula space.\n",
    "            '''\n",
    "            with torch.no_grad():\n",
    "                if self.marginal_cdfs is None:\n",
    "                    self.marginal_cdfs = []\n",
    "                    # sample 10^6 points from the latent space and compute empirical marginal cdfs\n",
    "                    z = torch.randn(10**6, self.dim_latent)\n",
    "                    y = torch.relu(self.linear_in(z))\n",
    "                    for layer in range(self.layers_nuber):\n",
    "                        y = torch.relu(self.linear(y))\n",
    "                    y = self.linear_out(y) # samples used to approximate cdfs\n",
    "                    for dim in range(y.shape[1]):\n",
    "                        ecdf = ECDF(y[:, dim].numpy())\n",
    "                        self.marginal_cdfs.append(ecdf)\n",
    "                    self.ecdf_10e6_samples = y\n",
    "                # sample the latent space and apply ecdfs\n",
    "                z = torch.randn(n_samples, self.dim_latent)\n",
    "                y = torch.relu(self.linear_in(z))\n",
    "                for layer in range(self.layers_nuber):\n",
    "                    y = torch.relu(self.linear(y))\n",
    "                y = self.linear_out(y)\n",
    "                for dim in range(y.shape[1]):\n",
    "                    y[:, dim] = torch.tensor(self.marginal_cdfs[dim](y[:, dim].numpy()), dtype=torch.float32)\n",
    "                return y\n",
    "\n"
   ]
  },
  {
   "cell_type": "code",
   "execution_count": 37,
   "metadata": {},
   "outputs": [],
   "source": [
    "from tqdm import tqdm"
   ]
  },
  {
   "cell_type": "code",
   "execution_count": 38,
   "metadata": {},
   "outputs": [
    {
     "name": "stdout",
     "output_type": "stream",
     "text": [
      "Total parameters: 324584\n"
     ]
    }
   ],
   "source": [
    "# Calculate the number of parameters\n",
    "igc_cop = IGC(hidden_size=100, layers_number=3, output_size=28*28)\n",
    "total_params = sum(p.numel() for p in igc_cop.parameters())\n",
    "print(f'Total parameters: {total_params}')"
   ]
  },
  {
   "cell_type": "code",
   "execution_count": 50,
   "metadata": {},
   "outputs": [
    {
     "name": "stderr",
     "output_type": "stream",
     "text": [
      "  0%|          | 1/501 [00:01<09:06,  1.09s/it]"
     ]
    },
    {
     "name": "stdout",
     "output_type": "stream",
     "text": [
      "11.488859176635742\n"
     ]
    },
    {
     "name": "stderr",
     "output_type": "stream",
     "text": [
      " 20%|██        | 101/501 [01:42<07:26,  1.12s/it]"
     ]
    },
    {
     "name": "stdout",
     "output_type": "stream",
     "text": [
      "11.326433181762695\n"
     ]
    },
    {
     "name": "stderr",
     "output_type": "stream",
     "text": [
      " 40%|████      | 201/501 [03:24<05:14,  1.05s/it]"
     ]
    },
    {
     "name": "stdout",
     "output_type": "stream",
     "text": [
      "11.393627166748047\n"
     ]
    },
    {
     "name": "stderr",
     "output_type": "stream",
     "text": [
      " 60%|██████    | 301/501 [05:05<03:20,  1.00s/it]"
     ]
    },
    {
     "name": "stdout",
     "output_type": "stream",
     "text": [
      "11.326325416564941\n"
     ]
    },
    {
     "name": "stderr",
     "output_type": "stream",
     "text": [
      " 80%|████████  | 401/501 [06:48<01:39,  1.00it/s]"
     ]
    },
    {
     "name": "stdout",
     "output_type": "stream",
     "text": [
      "11.47313404083252\n"
     ]
    },
    {
     "name": "stderr",
     "output_type": "stream",
     "text": [
      "100%|██████████| 501/501 [08:28<00:00,  1.01s/it]"
     ]
    },
    {
     "name": "stdout",
     "output_type": "stream",
     "text": [
      "11.323182106018066\n",
      "1\n"
     ]
    },
    {
     "name": "stderr",
     "output_type": "stream",
     "text": [
      "\n"
     ]
    },
    {
     "name": "stdout",
     "output_type": "stream",
     "text": [
      "(tensor(36.0503), 'IGC')\n"
     ]
    },
    {
     "name": "stderr",
     "output_type": "stream",
     "text": [
      "  0%|          | 1/501 [00:00<08:18,  1.00it/s]"
     ]
    },
    {
     "name": "stdout",
     "output_type": "stream",
     "text": [
      "11.507871627807617\n"
     ]
    },
    {
     "name": "stderr",
     "output_type": "stream",
     "text": [
      " 20%|██        | 101/501 [01:39<06:33,  1.02it/s]"
     ]
    },
    {
     "name": "stdout",
     "output_type": "stream",
     "text": [
      "11.459611892700195\n"
     ]
    },
    {
     "name": "stderr",
     "output_type": "stream",
     "text": [
      " 40%|████      | 201/501 [03:19<04:57,  1.01it/s]"
     ]
    },
    {
     "name": "stdout",
     "output_type": "stream",
     "text": [
      "11.34811782836914\n"
     ]
    },
    {
     "name": "stderr",
     "output_type": "stream",
     "text": [
      " 60%|██████    | 301/501 [04:57<03:16,  1.02it/s]"
     ]
    },
    {
     "name": "stdout",
     "output_type": "stream",
     "text": [
      "11.423545837402344\n"
     ]
    },
    {
     "name": "stderr",
     "output_type": "stream",
     "text": [
      " 80%|████████  | 401/501 [06:40<01:39,  1.01it/s]"
     ]
    },
    {
     "name": "stdout",
     "output_type": "stream",
     "text": [
      "11.410325050354004\n"
     ]
    },
    {
     "name": "stderr",
     "output_type": "stream",
     "text": [
      "100%|██████████| 501/501 [08:18<00:00,  1.00it/s]"
     ]
    },
    {
     "name": "stdout",
     "output_type": "stream",
     "text": [
      "11.424661636352539\n",
      "2\n"
     ]
    },
    {
     "name": "stderr",
     "output_type": "stream",
     "text": [
      "\n",
      "c:\\Users\\david\\AppData\\Local\\Programs\\Python\\Python39\\lib\\site-packages\\ot\\lp\\__init__.py:571: UserWarning: numItermax reached before optimality. Try to increase numItermax.\n",
      "  check_result(result_code)\n"
     ]
    },
    {
     "name": "stdout",
     "output_type": "stream",
     "text": [
      "(tensor(36.1236), 'IGC')\n"
     ]
    },
    {
     "name": "stderr",
     "output_type": "stream",
     "text": [
      "  0%|          | 1/501 [00:00<08:14,  1.01it/s]"
     ]
    },
    {
     "name": "stdout",
     "output_type": "stream",
     "text": [
      "11.437948226928711\n"
     ]
    },
    {
     "name": "stderr",
     "output_type": "stream",
     "text": [
      " 20%|██        | 101/501 [01:38<06:24,  1.04it/s]"
     ]
    },
    {
     "name": "stdout",
     "output_type": "stream",
     "text": [
      "11.46111011505127\n"
     ]
    },
    {
     "name": "stderr",
     "output_type": "stream",
     "text": [
      " 40%|████      | 201/501 [03:16<04:53,  1.02it/s]"
     ]
    },
    {
     "name": "stdout",
     "output_type": "stream",
     "text": [
      "11.37551212310791\n"
     ]
    },
    {
     "name": "stderr",
     "output_type": "stream",
     "text": [
      " 60%|██████    | 301/501 [04:54<03:15,  1.02it/s]"
     ]
    },
    {
     "name": "stdout",
     "output_type": "stream",
     "text": [
      "11.357294082641602\n"
     ]
    },
    {
     "name": "stderr",
     "output_type": "stream",
     "text": [
      " 80%|████████  | 401/501 [06:32<01:38,  1.01it/s]"
     ]
    },
    {
     "name": "stdout",
     "output_type": "stream",
     "text": [
      "11.389264106750488\n"
     ]
    },
    {
     "name": "stderr",
     "output_type": "stream",
     "text": [
      "100%|██████████| 501/501 [08:10<00:00,  1.02it/s]"
     ]
    },
    {
     "name": "stdout",
     "output_type": "stream",
     "text": [
      "11.344599723815918\n",
      "3\n"
     ]
    },
    {
     "name": "stderr",
     "output_type": "stream",
     "text": [
      "\n"
     ]
    },
    {
     "name": "stdout",
     "output_type": "stream",
     "text": [
      "(tensor(35.9470), 'IGC')\n"
     ]
    },
    {
     "name": "stderr",
     "output_type": "stream",
     "text": [
      "  0%|          | 1/501 [00:00<08:05,  1.03it/s]"
     ]
    },
    {
     "name": "stdout",
     "output_type": "stream",
     "text": [
      "11.483895301818848\n"
     ]
    },
    {
     "name": "stderr",
     "output_type": "stream",
     "text": [
      " 20%|██        | 101/501 [01:38<06:28,  1.03it/s]"
     ]
    },
    {
     "name": "stdout",
     "output_type": "stream",
     "text": [
      "11.426070213317871\n"
     ]
    },
    {
     "name": "stderr",
     "output_type": "stream",
     "text": [
      " 40%|████      | 201/501 [03:16<04:51,  1.03it/s]"
     ]
    },
    {
     "name": "stdout",
     "output_type": "stream",
     "text": [
      "11.443681716918945\n"
     ]
    },
    {
     "name": "stderr",
     "output_type": "stream",
     "text": [
      " 60%|██████    | 301/501 [04:54<03:16,  1.02it/s]"
     ]
    },
    {
     "name": "stdout",
     "output_type": "stream",
     "text": [
      "11.421318054199219\n"
     ]
    },
    {
     "name": "stderr",
     "output_type": "stream",
     "text": [
      " 80%|████████  | 401/501 [06:32<01:38,  1.01it/s]"
     ]
    },
    {
     "name": "stdout",
     "output_type": "stream",
     "text": [
      "11.405848503112793\n"
     ]
    },
    {
     "name": "stderr",
     "output_type": "stream",
     "text": [
      "100%|██████████| 501/501 [08:10<00:00,  1.02it/s]"
     ]
    },
    {
     "name": "stdout",
     "output_type": "stream",
     "text": [
      "11.38180160522461\n",
      "4\n"
     ]
    },
    {
     "name": "stderr",
     "output_type": "stream",
     "text": [
      "\n"
     ]
    },
    {
     "name": "stdout",
     "output_type": "stream",
     "text": [
      "(tensor(36.0018), 'IGC')\n"
     ]
    },
    {
     "name": "stderr",
     "output_type": "stream",
     "text": [
      "  0%|          | 1/501 [00:01<08:28,  1.02s/it]"
     ]
    },
    {
     "name": "stdout",
     "output_type": "stream",
     "text": [
      "11.376882553100586\n"
     ]
    },
    {
     "name": "stderr",
     "output_type": "stream",
     "text": [
      " 20%|██        | 101/501 [01:42<06:41,  1.00s/it]"
     ]
    },
    {
     "name": "stdout",
     "output_type": "stream",
     "text": [
      "11.34701156616211\n"
     ]
    },
    {
     "name": "stderr",
     "output_type": "stream",
     "text": [
      " 40%|████      | 201/501 [03:20<04:59,  1.00it/s]"
     ]
    },
    {
     "name": "stdout",
     "output_type": "stream",
     "text": [
      "11.430047035217285\n"
     ]
    },
    {
     "name": "stderr",
     "output_type": "stream",
     "text": [
      " 60%|██████    | 301/501 [05:01<03:13,  1.03it/s]"
     ]
    },
    {
     "name": "stdout",
     "output_type": "stream",
     "text": [
      "11.390410423278809\n"
     ]
    },
    {
     "name": "stderr",
     "output_type": "stream",
     "text": [
      " 80%|████████  | 401/501 [06:40<01:43,  1.03s/it]"
     ]
    },
    {
     "name": "stdout",
     "output_type": "stream",
     "text": [
      "11.308869361877441\n"
     ]
    },
    {
     "name": "stderr",
     "output_type": "stream",
     "text": [
      "100%|██████████| 501/501 [08:22<00:00,  1.00s/it]"
     ]
    },
    {
     "name": "stdout",
     "output_type": "stream",
     "text": [
      "11.437922477722168\n",
      "5\n"
     ]
    },
    {
     "name": "stderr",
     "output_type": "stream",
     "text": [
      "\n"
     ]
    },
    {
     "name": "stdout",
     "output_type": "stream",
     "text": [
      "(tensor(36.0666), 'IGC')\n"
     ]
    },
    {
     "name": "stderr",
     "output_type": "stream",
     "text": [
      "  0%|          | 1/501 [00:01<08:43,  1.05s/it]"
     ]
    },
    {
     "name": "stdout",
     "output_type": "stream",
     "text": [
      "11.512635231018066\n"
     ]
    },
    {
     "name": "stderr",
     "output_type": "stream",
     "text": [
      " 20%|██        | 101/501 [01:41<06:30,  1.02it/s]"
     ]
    },
    {
     "name": "stdout",
     "output_type": "stream",
     "text": [
      "11.479730606079102\n"
     ]
    },
    {
     "name": "stderr",
     "output_type": "stream",
     "text": [
      " 40%|████      | 201/501 [03:19<04:55,  1.02it/s]"
     ]
    },
    {
     "name": "stdout",
     "output_type": "stream",
     "text": [
      "11.371349334716797\n"
     ]
    },
    {
     "name": "stderr",
     "output_type": "stream",
     "text": [
      " 60%|██████    | 301/501 [04:57<03:15,  1.02it/s]"
     ]
    },
    {
     "name": "stdout",
     "output_type": "stream",
     "text": [
      "11.517054557800293\n"
     ]
    },
    {
     "name": "stderr",
     "output_type": "stream",
     "text": [
      " 80%|████████  | 401/501 [06:38<01:36,  1.04it/s]"
     ]
    },
    {
     "name": "stdout",
     "output_type": "stream",
     "text": [
      "11.411425590515137\n"
     ]
    },
    {
     "name": "stderr",
     "output_type": "stream",
     "text": [
      "100%|██████████| 501/501 [08:20<00:00,  1.00it/s]"
     ]
    },
    {
     "name": "stdout",
     "output_type": "stream",
     "text": [
      "11.41932487487793\n",
      "6\n"
     ]
    },
    {
     "name": "stderr",
     "output_type": "stream",
     "text": [
      "\n"
     ]
    },
    {
     "name": "stdout",
     "output_type": "stream",
     "text": [
      "(tensor(35.9763), 'IGC')\n"
     ]
    },
    {
     "name": "stderr",
     "output_type": "stream",
     "text": [
      "  0%|          | 1/501 [00:00<08:04,  1.03it/s]"
     ]
    },
    {
     "name": "stdout",
     "output_type": "stream",
     "text": [
      "11.436112403869629\n"
     ]
    },
    {
     "name": "stderr",
     "output_type": "stream",
     "text": [
      " 20%|██        | 101/501 [01:38<06:27,  1.03it/s]"
     ]
    },
    {
     "name": "stdout",
     "output_type": "stream",
     "text": [
      "11.3960542678833\n"
     ]
    },
    {
     "name": "stderr",
     "output_type": "stream",
     "text": [
      " 40%|████      | 201/501 [03:17<04:53,  1.02it/s]"
     ]
    },
    {
     "name": "stdout",
     "output_type": "stream",
     "text": [
      "11.338504791259766\n"
     ]
    },
    {
     "name": "stderr",
     "output_type": "stream",
     "text": [
      " 60%|██████    | 301/501 [04:55<03:14,  1.03it/s]"
     ]
    },
    {
     "name": "stdout",
     "output_type": "stream",
     "text": [
      "11.333251953125\n"
     ]
    },
    {
     "name": "stderr",
     "output_type": "stream",
     "text": [
      " 80%|████████  | 401/501 [06:32<01:36,  1.03it/s]"
     ]
    },
    {
     "name": "stdout",
     "output_type": "stream",
     "text": [
      "11.443769454956055\n"
     ]
    },
    {
     "name": "stderr",
     "output_type": "stream",
     "text": [
      "100%|██████████| 501/501 [08:13<00:00,  1.01it/s]"
     ]
    },
    {
     "name": "stdout",
     "output_type": "stream",
     "text": [
      "11.38141918182373\n",
      "7\n"
     ]
    },
    {
     "name": "stderr",
     "output_type": "stream",
     "text": [
      "\n"
     ]
    },
    {
     "name": "stdout",
     "output_type": "stream",
     "text": [
      "(tensor(35.9971), 'IGC')\n"
     ]
    },
    {
     "name": "stderr",
     "output_type": "stream",
     "text": [
      "  0%|          | 1/501 [00:00<08:11,  1.02it/s]"
     ]
    },
    {
     "name": "stdout",
     "output_type": "stream",
     "text": [
      "11.414690971374512\n"
     ]
    },
    {
     "name": "stderr",
     "output_type": "stream",
     "text": [
      " 20%|██        | 101/501 [01:38<06:32,  1.02it/s]"
     ]
    },
    {
     "name": "stdout",
     "output_type": "stream",
     "text": [
      "11.390527725219727\n"
     ]
    },
    {
     "name": "stderr",
     "output_type": "stream",
     "text": [
      " 40%|████      | 201/501 [03:20<04:59,  1.00it/s]"
     ]
    },
    {
     "name": "stdout",
     "output_type": "stream",
     "text": [
      "11.417322158813477\n"
     ]
    },
    {
     "name": "stderr",
     "output_type": "stream",
     "text": [
      " 60%|██████    | 301/501 [05:03<03:16,  1.02it/s]"
     ]
    },
    {
     "name": "stdout",
     "output_type": "stream",
     "text": [
      "11.38468074798584\n"
     ]
    },
    {
     "name": "stderr",
     "output_type": "stream",
     "text": [
      " 80%|████████  | 401/501 [06:47<01:36,  1.04it/s]"
     ]
    },
    {
     "name": "stdout",
     "output_type": "stream",
     "text": [
      "11.455321311950684\n"
     ]
    },
    {
     "name": "stderr",
     "output_type": "stream",
     "text": [
      "100%|██████████| 501/501 [08:27<00:00,  1.01s/it]"
     ]
    },
    {
     "name": "stdout",
     "output_type": "stream",
     "text": [
      "11.310917854309082\n",
      "8\n"
     ]
    },
    {
     "name": "stderr",
     "output_type": "stream",
     "text": [
      "\n"
     ]
    },
    {
     "name": "stdout",
     "output_type": "stream",
     "text": [
      "(tensor(36.0689), 'IGC')\n"
     ]
    },
    {
     "name": "stderr",
     "output_type": "stream",
     "text": [
      "  0%|          | 1/501 [00:00<08:03,  1.04it/s]"
     ]
    },
    {
     "name": "stdout",
     "output_type": "stream",
     "text": [
      "11.508523941040039\n"
     ]
    },
    {
     "name": "stderr",
     "output_type": "stream",
     "text": [
      " 20%|██        | 101/501 [01:41<06:29,  1.03it/s]"
     ]
    },
    {
     "name": "stdout",
     "output_type": "stream",
     "text": [
      "11.37524127960205\n"
     ]
    },
    {
     "name": "stderr",
     "output_type": "stream",
     "text": [
      " 40%|████      | 201/501 [03:22<05:02,  1.01s/it]"
     ]
    },
    {
     "name": "stdout",
     "output_type": "stream",
     "text": [
      "11.392394065856934\n"
     ]
    },
    {
     "name": "stderr",
     "output_type": "stream",
     "text": [
      " 60%|██████    | 301/501 [05:03<03:20,  1.00s/it]"
     ]
    },
    {
     "name": "stdout",
     "output_type": "stream",
     "text": [
      "11.346386909484863\n"
     ]
    },
    {
     "name": "stderr",
     "output_type": "stream",
     "text": [
      " 80%|████████  | 401/501 [06:43<01:37,  1.03it/s]"
     ]
    },
    {
     "name": "stdout",
     "output_type": "stream",
     "text": [
      "11.436563491821289\n"
     ]
    },
    {
     "name": "stderr",
     "output_type": "stream",
     "text": [
      "100%|██████████| 501/501 [08:22<00:00,  1.00s/it]"
     ]
    },
    {
     "name": "stdout",
     "output_type": "stream",
     "text": [
      "11.369071960449219\n",
      "9\n"
     ]
    },
    {
     "name": "stderr",
     "output_type": "stream",
     "text": [
      "\n"
     ]
    },
    {
     "name": "stdout",
     "output_type": "stream",
     "text": [
      "(tensor(35.8969), 'IGC')\n"
     ]
    }
   ],
   "source": [
    "for seed in range(9):\n",
    "    seed += 1\n",
    "    # Split the data into training and testing sets (50/50 split)\n",
    "    X_train, X_test, y_train, y_test = train_test_split(X_gaussian, y_gaussian, test_size=0.5, random_state=seed)\n",
    "    # make training data on 0-1 scale\n",
    "    X_train_cop = torch.tensor(scs.norm.cdf(X_train.reshape(-1,28*28)),dtype=torch.float32).clip(1e-5,1-1e-5)\n",
    "    \n",
    "    # training loop\n",
    "    igc_cop = IGC(hidden_size=100, layers_number=3, output_size=28*28)\n",
    "\n",
    "    u_obs = X_train_cop\n",
    "\n",
    "    optimizer = torch.optim.Adam(igc_cop.parameters())\n",
    "    loss_hist = []\n",
    "\n",
    "    for i in tqdm(range(501)):\n",
    "        optimizer.zero_grad()\n",
    "        u = igc_cop.forward_train(torch.randn((200, igc_cop.dim_latent)))\n",
    "        loss = igc_cop.Energy_Score_pytorch(1, u_obs[np.random.choice(range(u_obs.shape[0]),100,replace=True)], u)\n",
    "        loss.backward()\n",
    "        optimizer.step()\n",
    "        loss_hist.append(loss.item())\n",
    "        if i % 100 == 0:\n",
    "            print(loss.item())\n",
    "\n",
    "    samples_cdf = igc_cop.forward_train(torch.randn((25, igc_cop.dim_latent)))\n",
    "    print(seed)\n",
    "    print((W2(X_test.reshape(-1,28*28).float(),torch.tensor(scs.norm.ppf(samples_cdf.detach().numpy())).float(),),'IGC'))\n",
    "\n",
    "    torch.save(igc_cop.state_dict(), f'igc_cop_mnist_10runs_seed{seed}.pth')\n",
    "\n"
   ]
  },
  {
   "cell_type": "code",
   "execution_count": 5,
   "metadata": {},
   "outputs": [
    {
     "data": {
      "text/plain": [
       "(36.019980000000004, 0.0648794697882153)"
      ]
     },
     "execution_count": 5,
     "metadata": {},
     "output_type": "execute_result"
    }
   ],
   "source": [
    "'''(tensor(36.0503), 'IGC')\n",
    "(tensor(36.1236), 'IGC')\n",
    "(tensor(35.9470), 'IGC')\n",
    "(tensor(36.0018), 'IGC')\n",
    "(tensor(36.0666), 'IGC')\n",
    "(tensor(35.9763), 'IGC')\n",
    "(tensor(35.9971), 'IGC')\n",
    "(tensor(36.0689), 'IGC')\n",
    "(tensor(35.8969), 'IGC')\n",
    "'''\n",
    "IGC_MNIST_W2 = [\n",
    "    36.0713,\n",
    "    36.0503,\n",
    "    36.1236,\n",
    "    35.9470,\n",
    "    36.0018,\n",
    "    36.0666,\n",
    "    35.9763,\n",
    "    35.9971,\n",
    "    36.0689,\n",
    "    35.8969\n",
    "]\n",
    "np.mean(IGC_MNIST_W2), np.std(IGC_MNIST_W2)"
   ]
  },
  {
   "cell_type": "code",
   "execution_count": 6,
   "metadata": {},
   "outputs": [
    {
     "data": {
      "text/plain": [
       "(182.99578218894004, 0.3859699447004303)"
      ]
     },
     "execution_count": 6,
     "metadata": {},
     "output_type": "execute_result"
    }
   ],
   "source": [
    "'''fitted 684.83851146698\n",
    "sims 2.0775539875030518\n",
    "-logpdf 128.4562017917633\n",
    "182.8999548028951\n",
    "fitted 664.0983846187592\n",
    "sims 2.002204179763794\n",
    "-logpdf 123.89015436172485\n",
    "183.07594252548503\n",
    "fitted 668.7099468708038\n",
    "sims 2.0575389862060547\n",
    "-logpdf 126.843514919281\n",
    "183.4142022677527\n",
    "fitted 665.1224267482758\n",
    "sims 2.02461838722229\n",
    "-logpdf 125.06399273872375\n",
    "182.9113776227081\n",
    "fitted 654.8085091114044\n",
    "sims 2.0329999923706055\n",
    "-logpdf 122.78568625450134\n",
    "182.32917378065636\n",
    "fitted 661.1072242259979\n",
    "sims 2.064995288848877\n",
    "-logpdf 127.41673970222473\n",
    "183.2038983816669\n",
    "fitted 657.681688785553\n",
    "sims 2.0116915702819824\n",
    "-logpdf 124.020259141922\n",
    "182.65361634253821\n",
    "fitted 651.4442701339722\n",
    "sims 2.0559728145599365\n",
    "-logpdf 127.05231976509094\n",
    "183.54003720756043\n",
    "fitted 664.8165426254272\n",
    "sims 2.0768306255340576\n",
    "-logpdf 128.85570335388184\n",
    "183.40584870213985\n",
    "fitted 672.9005441665649\n",
    "sims 1.9778425693511963\n",
    "-logpdf 122.9867811203003\n",
    "182.52377025599756\n",
    "'''\n",
    "vine_MNIST_LL=[\n",
    "182.8999548028951,\n",
    "183.07594252548503,\n",
    "183.4142022677527,\n",
    "182.9113776227081,\n",
    "182.32917378065636,\n",
    "183.2038983816669,\n",
    "182.65361634253821,\n",
    "183.54003720756043,\n",
    "183.40584870213985,\n",
    "182.52377025599756]\n",
    "np.mean(vine_MNIST_LL), np.std(vine_MNIST_LL)"
   ]
  },
  {
   "cell_type": "code",
   "execution_count": 11,
   "metadata": {},
   "outputs": [],
   "source": [
    "# load numpy array\n",
    "W2_vines_mnist = []\n",
    "for i in range(10):\n",
    "    copula_samples = np.load(f'copula_samples_mnist{i}_t50_scott.npy')\n",
    "    W2_vines_mnist.append(W2(X_test.reshape(-1,28*28).float(),torch.tensor(scs.norm.ppf(copula_samples)).reshape(-1,28*28).float()))"
   ]
  },
  {
   "cell_type": "code",
   "execution_count": 12,
   "metadata": {},
   "outputs": [
    {
     "data": {
      "text/plain": [
       "(37.57199, 0.1785016)"
      ]
     },
     "execution_count": 12,
     "metadata": {},
     "output_type": "execute_result"
    }
   ],
   "source": [
    "np.mean(W2_vines_mnist), np.std(W2_vines_mnist)"
   ]
  },
  {
   "cell_type": "code",
   "execution_count": 46,
   "metadata": {},
   "outputs": [
    {
     "name": "stdout",
     "output_type": "stream",
     "text": [
      "0\n",
      "(tensor(36.1068), 'IGC')\n"
     ]
    }
   ],
   "source": [
    "samples_cdf = igc_cop.forward_train(torch.randn((25, igc_cop.dim_latent)))\n",
    "print(seed)\n",
    "print((W2(X_test.reshape(-1,28*28).float(),torch.tensor(scs.norm.ppf(samples_cdf.detach().numpy())).float(),),'IGC'))\n"
   ]
  },
  {
   "cell_type": "code",
   "execution_count": 14,
   "metadata": {},
   "outputs": [],
   "source": [
    "torch.save(igc_cop.state_dict(), f'igc_cop_test.pth')\n"
   ]
  },
  {
   "cell_type": "code",
   "execution_count": 71,
   "metadata": {},
   "outputs": [],
   "source": [
    "samples_cdf = igc_cop.forward_train(torch.randn((100, igc_cop.dim_latent)))"
   ]
  },
  {
   "cell_type": "code",
   "execution_count": 31,
   "metadata": {},
   "outputs": [
    {
     "name": "stdout",
     "output_type": "stream",
     "text": [
      "(tensor(36.0713), 'IGC')\n"
     ]
    }
   ],
   "source": [
    "print((W2(X_test.reshape(-1,28*28).float(),torch.tensor(scs.norm.ppf(samples_cdf.detach().numpy())).float(),),'IGC'))\n",
    "# 30 epochs (tensor(37.4692), 'IGC')\n"
   ]
  },
  {
   "cell_type": "code",
   "execution_count": 48,
   "metadata": {},
   "outputs": [],
   "source": [
    "samples_cdf_norm = scs.norm.ppf(samples_cdf.detach().numpy())"
   ]
  },
  {
   "cell_type": "code",
   "execution_count": 49,
   "metadata": {},
   "outputs": [
    {
     "data": {
      "image/png": "[encoded data removed]",
      "text/plain": [
       "<Figure size 648x504 with 30 Axes>"
      ]
     },
     "metadata": {
      "needs_background": "light"
     },
     "output_type": "display_data"
    }
   ],
   "source": [
    "import matplotlib.pyplot as plt\n",
    "fig, axes = plt.subplots(5, 6, figsize=(9, 7))\n",
    "fig.suptitle(\" IGC 500 epochs \", fontsize=16)\n",
    "\n",
    "for i in range(5):\n",
    "    for j in range(5):\n",
    "        # First 5 columns: samples_100burn_19epoch\n",
    "        axes[i, j].imshow(reverse_transform(torch.tensor(samples_cdf_norm[i * 5 + j])).reshape(28, 28), cmap='gray')\n",
    "        axes[i, j].axis('off')\n",
    "        axes[i, j].set_title(f'Sample {i * 5 + j + 1}')\n",
    "    \n",
    "    # Last column: X_train images\n",
    "    axes[i, 5].imshow(reverse_transform(X_train[i]).reshape(28, 28), cmap='gray')\n",
    "    axes[i, 5].axis('off')\n",
    "    axes[i, 5].set_title(f'X_train {i + 1}')\n",
    "\n",
    "plt.tight_layout()\n",
    "plt.show()"
   ]
  },
  {
   "cell_type": "code",
   "execution_count": 72,
   "metadata": {},
   "outputs": [
    {
     "data": {
      "image/png": "[encoded data removed]",
      "text/plain": [
       "<Figure size 432x288 with 1 Axes>"
      ]
     },
     "metadata": {
      "needs_background": "light"
     },
     "output_type": "display_data"
    }
   ],
   "source": [
    "IGC_std_within = [np.std(samples_cdf[k].reshape(-1).detach().numpy()) for k in range(100)]\n",
    "vine_std_within = [np.std(cop_sample[k].reshape(-1)) for k in range(25)]\n",
    "X_train_std_within = [np.std(scs.norm.cdf(X_train[k].reshape(-1).detach().numpy())) for k in range(1000)]\n",
    "plt.hist(IGC_std_within, bins=20, alpha=0.5, label='IGC',density=True)\n",
    "plt.hist(vine_std_within, bins=20, alpha=0.5, label='Vine',density=True)\n",
    "plt.hist(X_train_std_within, bins=20, alpha=0.5, label='X_train',density=True)\n",
    "plt.legend()\n",
    "plt.show()"
   ]
  },
  {
   "cell_type": "code",
   "execution_count": 51,
   "metadata": {},
   "outputs": [
    {
     "name": "stderr",
     "output_type": "stream",
     "text": [
      "C:\\Users\\david\\AppData\\Local\\Temp\\ipykernel_22764\\3342878614.py:6: UserWarning: To copy construct from a tensor, it is recommended to use sourceTensor.clone().detach() or sourceTensor.clone().detach().requires_grad_(True), rather than torch.tensor(sourceTensor).\n",
      "  data = (torch.tensor(samples_cdf[i])).reshape(-1).numpy()\n"
     ]
    },
    {
     "data": {
      "image/png": "[encoded data removed]",
      "text/plain": [
       "<Figure size 432x288 with 1 Axes>"
      ]
     },
     "metadata": {
      "needs_background": "light"
     },
     "output_type": "display_data"
    }
   ],
   "source": [
    "import matplotlib.pyplot as plt\n",
    "import numpy as np\n",
    "import torch\n",
    "\n",
    "for i in range(25):\n",
    "    data = (torch.tensor(samples_cdf[i])).reshape(-1).numpy()\n",
    "    hist, bin_edges = np.histogram(data, bins=50, density=True)\n",
    "    bin_centers = 0.5 * (bin_edges[:-1] + bin_edges[1:])\n",
    "    plt.step(bin_centers, hist, where='mid', label=f'Histogram {i}')\n",
    "\n",
    "plt.xlabel('Value')\n",
    "plt.ylabel('Density')\n",
    "plt.show()"
   ]
  }
 ],
 "metadata": {
  "kernelspec": {
   "display_name": "Python 3",
   "language": "python",
   "name": "python3"
  },
  "language_info": {
   "codemirror_mode": {
    "name": "ipython",
    "version": 3
   },
   "file_extension": ".py",
   "mimetype": "text/x-python",
   "name": "python",
   "nbconvert_exporter": "python",
   "pygments_lexer": "ipython3",
   "version": "3.9.10"
  }
 },
 "nbformat": 4,
 "nbformat_minor": 2
}
